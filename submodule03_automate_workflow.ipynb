{
 "cells": [
  {
   "cell_type": "markdown",
   "id": "f9e5d6a0-1bf7-4fa8-a981-b8f7da588f76",
   "metadata": {},
   "source": [
    "# Submodule 3: Workflow automation with Nextflow and aquisition of public datasets\n",
    "--------\n",
    "## Overview\n",
    "\n",
    "The primary goal of this submodule is to **generate multiple genome datasets** that will be used in the subsequent submodule on comparative genomics.\n",
    "\n",
    "To achieve this, we will **automate the processes outlined in Submodules 1 & 2** using **Nextflow**, a workflow management platform designed to streamline and ensure reproducibility in bioinformatics pipelines. Nextflow allows us to automate the entire workflow, including program version control, ensuring data integrity, and facilitating parallel execution of multiple datasets. This enables us to efficiently run many genome datasets simultaneously, while managing the computational resources available in our environment.\n",
    "\n",
    "After executing the Nextflow workflow on our set of genomes, we will supplement our data with **reference-quality genome sequences from NCBI** in **Submodule 4**.\n",
    "\n",
    "\n",
    "### Learning Objectives\n",
    "- **Learn Reproducibility in Bioinformatics**:  \n",
    "  Understand the importance of reproducibility in bioinformatics workflows and learn how to implement practices that ensure consistent, reliable results across different systems and environments.\n",
    "\n",
    "- **Automate Genome Data Processing**:  \n",
    "  Learn how to automate and streamline the processes of genome assembly, quality control, and annotation to handle multiple genome datasets efficiently using the workflow management platform **Nextflow**.\n",
    "\n",
    "- **Execute Parallel Processing and Ensure Data Integrity**:  \n",
    "  Gain proficiency in managing and processing large sets of genomic data simultaneously, while also developing the ability to monitor, assess, and maintain data integrity and quality throughout the workflow.\n",
    "\n",
    "- **Prepare and Refine Genome Sequences for Comparative Genomics**:  \n",
    "  Refine and prepare a collection of genome datasets, ensuring they are processed, cleaned, and ready for detailed examination in comparative genomics."
   ]
  },
  {
   "cell_type": "markdown",
   "id": "2df288aa-a092-4803-9b2b-ac53da83b7d2",
   "metadata": {},
   "source": [
    "## The Importance of Reproducibility in Bioinformatics\n",
    "\n",
    "Reproducibility is a cornerstone of scientific research, particularly in bioinformatics, where computational analyses of biological data play a significant role in advancing our understanding of genomics, disease, and evolution. In bioinformatics, ensuring that analyses can be repeated with the same results is critical for validating findings and building trust within the scientific community. This is especially important given the large datasets and complex analyses often involved, where slight variations in workflows, software versions, or data can lead to different outcomes. Reproducible research ensures that experiments can be independently verified, improving the credibility of results and facilitating the development of robust, evidence-based conclusions.\n",
    "\n",
    "To support reproducibility in bioinformatics, many workflows are built using standardized, transparent tools and platforms, such as **Nextflow**, **Snakemake**, and **Galaxy**, which allow scientists to document and automate every step of their analysis. This makes it possible for others to re-run the same pipeline on their own systems, using the same parameters and input data, thus ensuring consistent results.\n",
    "\n",
    "### FAIR Principles\n",
    "\n",
    "The FAIR principles are guidelines designed to enhance the visibility and accessibility of research data, particularly in bioinformatics. FAIR stands for **Findable, Accessible, Interoperable, and Reusable**. These principles aim to make scientific data easier to find, use, and share, which is especially important in bioinformatics, where data often comes from multiple sources and is essential for advancing knowledge in genetics, medicine, and ecology.\n",
    "\n",
    "- **Findable**: Data should be easy to locate through searchable metadata, unique identifiers, and standardized naming conventions.\n",
    "- **Accessible**: Data should be available in formats that are easy to access and retrieve, even if only through proper authentication or permissions.\n",
    "- **Interoperable**: Data and tools should be compatible, allowing for the exchange of information across systems, platforms, and communities.\n",
    "- **Reusable**: Data should be well-documented, with clear descriptions of methods, metadata, and usage licenses, so others can confidently reuse it in future research.\n",
    "\n",
    "Adhering to the FAIR principles enhances collaboration, promotes transparency, and ensures that bioinformatics data can be effectively utilized by researchers across disciplines, ultimately accelerating scientific discovery and innovation.\n",
    "\n",
    "\n",
    "### Tools  to Aid in Reproducability in Bioinformatics\n",
    "To ensure reproducibility in bioinformatics workflows, several tools and platforms are available that help automate, document, and track the analysis process. These tools facilitate consistent execution of pipelines, improve collaboration, and ensure that results can be verified and reproduced across different environments and systems.\n",
    "\n",
    "| Tool               | Description | Link |\n",
    "|--------------------|-------------|------|\n",
    "| **Nextflow**       | A workflow management system for running bioinformatics pipelines in a highly scalable, reproducible, and portable manner. | [Nextflow Documentation](https://www.nextflow.io/) |\n",
    "| **RepeatFS**       | A tool designed to automate repetitive computational tasks, similar to Nextflow, for large-scale genomic data analysis. | [RepeatFS GitHub](https://github.com/RepeatFS) |\n",
    "| **Snakemake**      | A popular workflow management system for bioinformatics, known for its simple syntax and scalability. | [Snakemake Documentation](https://snakemake.readthedocs.io/en/stable/) |\n",
    "| **Cromwell**       | A workflow engine designed for scientific workflows, with built-in support for WDL (Workflow Description Language). | [Cromwell GitHub](https://github.com/broadinstitute/cromwell) |\n",
    "| **Galaxy**         | A web-based platform for data-intensive research, offering tools for reproducible data analysis and workflow management. | [Galaxy Project](https://galaxyproject.org/) |\n",
    "| **Airflow**        | An open-source tool for orchestrating complex workflows, with strong scheduling and monitoring features. | [Apache Airflow](https://airflow.apache.org/) |\n",
    "| **Bash / Python**  | Bash and Python scripts can automate tasks, with Bash being simple and flexible for Unix-like systems and Python offering more extensive libraries for bioinformatics tasks. | [Bash Scripting Guide](https://www.gnu.org/software/bash/manual/bash.html), [Python Documentation](https://docs.python.org/3/) |\n",
    "| **Other Languages**| Other programming languages like **R**, **Perl**, and **Ruby** can be used for bioinformatics workflows, depending on the user's needs and preferences. | N/A |\n",
    "| **PipeLine**       | A pipeline management tool that allows for easy tracking and execution of bioinformatics workflows, especially useful in large-scale projects. | [PipeLine GitHub](https://github.com/Pipeline) |\n"
   ]
  },
  {
   "cell_type": "markdown",
   "id": "686c3cf7-837c-4d3c-9747-3c873fa84a10",
   "metadata": {},
   "source": [
    "## Nextflow Overview\n",
    "\n",
    "**Nextflow** is a powerful workflow management platform designed for bioinformatics and data science. It enables the automation of complex workflows, facilitating reproducibility, parallel execution of tasks, and efficient use of computational resources across different environments. Nextflow is especially useful in genomics pipelines where large-scale datasets need to be processed with consistent results.\n",
    "\n",
    "---\n",
    "\n",
    "### Key Features of Nextflow:\n",
    "- **Reproducibility**: Nextflow ensures that workflows are reproducible by capturing the environment, dependencies, and exact command used for each execution.\n",
    "- **Parallelization**: It efficiently runs tasks in parallel, utilizing computational resources optimally, which speeds up large-scale data analyses.\n",
    "- **Compatibility**: Nextflow supports multiple computing environments, including local machines, cloud infrastructure, and high-performance computing clusters.\n",
    "- **Version Control**: Integrated support for managing software versions and dependencies, ensuring consistency across different systems and workflows.\n",
    "\n",
    "---\n",
    "\n",
    "### Learning Resources for Nextflow\n",
    "\n",
    "| Resource | Description | Link |\n",
    "|----------|-------------|------|\n",
    "| **Nextflow Official Documentation** | Comprehensive guide on installation, syntax, and core concepts. | [Nextflow Documentation](https://www.nextflow.io/docs/latest/) |\n",
    "| **Nextflow Tutorials** | Step-by-step tutorials for beginners and advanced users. | [Nextflow Tutorials](https://www.nextflow.io/docs/latest/tutorial/) |\n",
    "| **Nextflow YouTube Channel** | Recorded webinars, conference talks, and demos for visual learners. | [Nextflow YouTube Channel](https://www.youtube.com/c/Nextflow) |\n",
    "| **Nextflow Community Forum** | A forum for discussing issues, asking questions, and sharing knowledge. | [Nextflow Forum](https://www.nextflow.io/community/) |\n",
    "| **Nextflow GitHub Repository** | Access to source code, examples, and community contributions. | [Nextflow GitHub](https://github.com/nextflow-io/nextflow) |\n",
    "| **Bioinformatics with Nextflow – A Book** | In-depth resource for bioinformaticians, with practical examples. | [Bioinformatics with Nextflow](https://www.packtpub.com/product/bioinformatics-with-nextflow/9781801071363) |\n",
    "\n",
    "\n",
    "---\n",
    "\n",
    "By using these resources, you’ll be able to gain the skills necessary to leverage Nextflow in your genomic data analysis workflows and harness its full potential for automation and scalability.\n"
   ]
  },
  {
   "cell_type": "markdown",
   "id": "a36441fa-81b3-42ba-9844-3d651e27bfde",
   "metadata": {},
   "source": [
    "## Nextflow Workflow Overview\n",
    "\n",
    "The following block of code initiates the Nextflow workflow on a directory containing raw FASTQ files from unique isolates that were sequenced. We begin by listing the contents of the directory and then proceed with executing the Nextflow workflow. This workflow automates all the steps from Submodules 1 and 2, ensuring a seamless process. Nextflow intelligently determines which steps can be executed concurrently (e.g., BLAST and BWA read mapping) and which steps require prior completion of others (e.g., running BlobTools after BLAST and related processes finish).\n"
   ]
  },
  {
   "cell_type": "code",
   "execution_count": 5,
   "id": "c3711519-220d-483f-b4f5-bc53e26685df",
   "metadata": {},
   "outputs": [
    {
     "name": "stdout",
     "output_type": "stream",
     "text": [
      "Directory contents:\n",
      "--------------------\n",
      "full-file\n",
      "testagain2_1.fastq.gz\n",
      "testagain2_2.fastq.gz\n",
      "testagain_1.fastq.gz\n",
      "testagain_2.fastq.gz\n"
     ]
    }
   ],
   "source": [
    "%%bash\n",
    "\n",
    "cd wgs-nf/\n",
    "\n",
    "# starting directory\n",
    "echo \"Directory contents:\"\n",
    "echo \"--------------------\"\n",
    "\n",
    "ls raw-reads/"
   ]
  },
  {
   "cell_type": "code",
   "execution_count": null,
   "id": "74a3f56d-9993-44c6-8598-001350d4d44c",
   "metadata": {},
   "outputs": [],
   "source": []
  }
 ],
 "metadata": {
  "kernelspec": {
   "display_name": "Python 3 (ipykernel)",
   "language": "python",
   "name": "python3"
  },
  "language_info": {
   "codemirror_mode": {
    "name": "ipython",
    "version": 3
   },
   "file_extension": ".py",
   "mimetype": "text/x-python",
   "name": "python",
   "nbconvert_exporter": "python",
   "pygments_lexer": "ipython3",
   "version": "3.10.14"
  }
 },
 "nbformat": 4,
 "nbformat_minor": 5
}
