{
 "cells": [
  {
   "cell_type": "code",
   "execution_count": null,
   "id": "04737ff5-342c-46b8-a2af-13ad89e6c2d9",
   "metadata": {},
   "outputs": [],
   "source": []
  }
 ],
 "metadata": {
  "kernelspec": {
   "display_name": "",
   "name": ""
  },
  "language_info": {
   "name": ""
  }
 },
 "nbformat": 4,
 "nbformat_minor": 5
}
