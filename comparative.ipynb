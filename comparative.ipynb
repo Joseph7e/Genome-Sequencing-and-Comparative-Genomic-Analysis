{
 "cells": [
  {
   "cell_type": "markdown",
   "id": "740705a8",
   "metadata": {},
   "source": [
    "# HCGS-Comprative-Genomics\n",
    "NCBI download and Orthofinder analysis\n",
    "\n",
    "## Our Starting data\n",
    "\n"
   ]
  },
  {
   "cell_type": "code",
   "execution_count": null,
   "id": "0722238c",
   "metadata": {
    "language": "bash"
   },
   "outputs": [],
   "source": [
    "%%bash\n",
    "ls /home/share/workshop/faa_files/"
   ]
  },
  {
   "cell_type": "markdown",
   "id": "c3ea296f",
   "metadata": {},
   "source": [
    "\n",
    "\n",
    "## What we will be doing\n",
    "\n",
    "We will be using **Orthofinder** for our main comparative genomic analysis. The manual is very detailed, I recommend taking some time to read it. To run the program we will need some genomes to compare.\n",
    "\n",
    "Orhtofinder Manual: https://github.com/davidemms/OrthoFinder\n",
    "\n",
    "The program takes a set of protein sequences for each species and runs pair-wise comarisons to identify orhtologous groups. For each orthogroup a gene tree is calculated and in the end an overall species tree is computed. To get any sort of meaningful phylogenetic tree we need to be sure to include **at least four different genome datasets**. Ideally we would run this program with all of the avaialble sequences on NCBI. As you can imagine, a pairwise comparison with 1,185 Streptomyces genomes will take a lone time (days). We will therfore run it with a reduced set. Next we will determine what genomes we want to download and go over the best ways to retrieve them from NCBI.\n",
    "\n",
    "\n",
    "## Set up working directories\n"
   ]
  },
  {
   "cell_type": "code",
   "execution_count": null,
   "id": "9fd00448",
   "metadata": {
    "language": "bash"
   },
   "outputs": [],
   "source": [
    "%%bash\n",
    "cd ~/genomics_tutorial/\n",
    "mkdir genbank_downloads\n",
    "cd genbank_downloads/"
   ]
  },
  {
   "cell_type": "markdown",
   "id": "e0cb504f",
   "metadata": {},
   "source": [
    "\n",
    "\n",
    "## Locate Reference Data on NCBI\n",
    "\n",
    "FAQs about genome download from NCBI: https://www.ncbi.nlm.nih.gov/genome/doc/ftpfaq/#GBorRS\n",
    "\n",
    "Whatever method you use be sure to grab an outgroup, or don't thats your call.\n",
    "\n",
    "### Method 1: Download speicifc genomes\n",
    "\n",
    "We ran a NCBI blast during the genome assembly tutorial. This BLAST should have given you the closest match against the nt database. Chances are it 'hit' well to many genomes. Choose the top hit to a full genome and follow the links to retriev the download link of the genome FAA from the ftp site.\n",
    "\n",
    "Alternatively, you can download the reference genome used as part of the MR study in staphylococcus.\n",
    "\n",
    "Staphylococcus aureus ATCC 29213 is the reference strain.\n",
    "https://www.ncbi.nlm.nih.gov/assembly/GCF_001879295.1\n",
    "\n",
    "FOllow the links to the FTP download.\n",
    "\n"
   ]
  },
  {
   "cell_type": "code",
   "execution_count": null,
   "id": "217b5d5d",
   "metadata": {
    "language": "bash"
   },
   "outputs": [],
   "source": [
    "%%bash\n",
    "wget \"https://ftp.ncbi.nlm.nih.gov/genomes/all/GCF/001/879/295/GCF_001879295.1_StAu00v1/GCF_001879295.1_StAu00v1_protein.faa.gz\""
   ]
  },
  {
   "cell_type": "markdown",
   "id": "69c214e8",
   "metadata": {},
   "source": [
    "\n",
    "\n",
    "\n",
    "### Method 2: Download all refseq genomes for your genus\n",
    "\n",
    "link to NCBI prokaryote tables: https://www.ncbi.nlm.nih.gov/genome/browse#!/prokaryotes/\n",
    "link to genome reports FTP: ftp://ftp.ncbi.nlm.nih.gov/genomes/GENOME_REPORTS/\n",
    "\n",
    "* Download the genome report file for all all of prokaryotes\n",
    "\n",
    "We will download the file directly to the server, there is no need to download it to your computer. Right lick on the link and copy the link address. This is a big file so we will filter it a bit first before opening it with tabview.\n",
    "\n",
    "This file has a lot of useful information. For now we really care about column 21 which is the downloa link for the genome on the ftp site. Copy that link and paste it into a browser to see the files. We will then download the FAA files to the server.\n",
    "\n",
    "\n"
   ]
  },
  {
   "cell_type": "code",
   "execution_count": null,
   "id": "b2225089",
   "metadata": {
    "language": "bash"
   },
   "outputs": [],
   "source": [
    "%%bash\n",
    "# download the file\n",
    "wget \"ftp://ftp.ncbi.nlm.nih.gov/genomes/GENOME_REPORTS/prokaryotes.txt\"\n",
    "\n",
    "# view it\n",
    "tabview prokaryotes.txt\n",
    "\n",
    "# grep for species in question and view.\n",
    "grep -i \"Staphylococcus\" prokaryotes.txt | grep REPR | tabview -\n",
    "\n",
    "# print the download commands\n",
    "grep \"Staphylococcus\" prokaryotes.txt | grep REPR | awk -F'\\t' '{print \"wget \"$21\"/*protein.faa.gz\"}'\n",
    "\n",
    "# download all the faa files automatically. -P is the number of processes at a time.\n",
    "grep \"Staphylococcus\" prokaryotes.txt | grep REPR | awk -F'\\t' '{print $21\"/*protein.faa.gz\"}' | xargs -P 1 wget -i\n",
    "\n",
    "# or even better, rename the files as you go. (Delete the files created from the previous command before proceeding).\n",
    "grep \"Staphylococcus\" prokaryotes.txt | grep REPR | sed 's/ /_/g' | awk -F'\\t' '{print $1\"_\"$19\".faa.gz\",$21\"/*protein.faa.gz\"}' | xargs -n 2 -P 1 wget -O"
   ]
  },
  {
   "cell_type": "markdown",
   "id": "80543c46",
   "metadata": {},
   "source": [
    "\n",
    "\n",
    "\n",
    "Remove the empty files, some of them don't have annotations and it will mess up the next part.\n",
    "\n"
   ]
  },
  {
   "cell_type": "code",
   "execution_count": null,
   "id": "1c6ff79f",
   "metadata": {
    "language": "bash"
   },
   "outputs": [],
   "source": [
    "%%bash\n",
    "zgrep -c '>' *.faa.gz\n",
    "zgrep -c '>' *.faa.gz | awk -F':' '$2 == 0'\n",
    "\n",
    "# automatic deletion with xargs\n",
    "zgrep -c '>' *.faa.gz| awk -F':' '$2 == 0 {print $1}' | xargs rm"
   ]
  },
  {
   "cell_type": "markdown",
   "id": "08c0e051",
   "metadata": {},
   "source": [
    "\n",
    "\n",
    "Unzip all the files\n",
    "\n"
   ]
  },
  {
   "cell_type": "code",
   "execution_count": null,
   "id": "605e39e6",
   "metadata": {
    "language": "bash"
   },
   "outputs": [],
   "source": [
    "%%bash\n",
    "gunzip *.faa.gz"
   ]
  },
  {
   "cell_type": "markdown",
   "id": "72af886e",
   "metadata": {},
   "source": [
    "\n",
    "\n",
    "\n",
    "## Set up orthofinder directory\n",
    "\n"
   ]
  },
  {
   "cell_type": "code",
   "execution_count": null,
   "id": "20afaaf0",
   "metadata": {
    "language": "bash"
   },
   "outputs": [],
   "source": [
    "%%bash\n",
    "# move to analysis folder\n",
    "mkdir ~/genomics_tutorial/orthofinder-analysis\n",
    "cd ~/genomics_tutorial/orthofinder-analysis\n",
    "\n",
    "\n",
    "# create a soft link to the FAA files we just downloaded\n",
    "ln -s ../genbank_downloads/*.faa ./\n",
    "\n",
    "# create a soft link to the FAA fles from our PROKKA analysis\n",
    "ln -s /home/share/workshop/faa_files/*.faa ./"
   ]
  },
  {
   "cell_type": "markdown",
   "id": "31c0ad6d",
   "metadata": {},
   "source": [
    "\n",
    "\n",
    "## Count the number of proteins in all the starting files\n",
    "Think about what these numbers tell us right off the bat.\n",
    "\n"
   ]
  },
  {
   "cell_type": "code",
   "execution_count": null,
   "id": "08c6fdc7",
   "metadata": {
    "language": "bash"
   },
   "outputs": [],
   "source": [
    "%%bash\n",
    "grep -c '>' *.faa"
   ]
  },
  {
   "cell_type": "markdown",
   "id": "875789f5",
   "metadata": {},
   "source": [
    "\n",
    "\n",
    "## Run Orthofinder2\n",
    "\n",
    "The input to the program is a directory containing a FAA file for each species.\n",
    "\n"
   ]
  },
  {
   "cell_type": "code",
   "execution_count": null,
   "id": "28b953b3",
   "metadata": {
    "language": "bash"
   },
   "outputs": [],
   "source": [
    "%%bash\n",
    "# view the manual\n",
    "orthofinder --help\n",
    "# run the program, it will take some time\n",
    "nohup time orthofinder -t 16 -a 16 -S diamond -f ./ &"
   ]
  },
  {
   "cell_type": "markdown",
   "id": "8b2b6bdc",
   "metadata": {},
   "source": [
    "\n",
    "\n",
    "## Examine the output files\n",
    "\n",
    "I will review some, but not all of the files. The manual goes into extensive detail.\n",
    "\n"
   ]
  },
  {
   "cell_type": "code",
   "execution_count": null,
   "id": "2cfab24f",
   "metadata": {
    "language": "bash"
   },
   "outputs": [],
   "source": [
    "%%bash\n",
    "cd Results*/\n",
    "ls"
   ]
  },
  {
   "cell_type": "markdown",
   "id": "55e39c4f",
   "metadata": {},
   "source": [
    "\n",
    "\n",
    "### * Orthogroups.csv\n",
    "\n",
    "A **tab** seperated table. Each orthogroup is a raw, each column is a different sample.\n",
    "\n",
    "The table provides all of the data for orthogroups that are in at least two different samples. If a sample has more than one protein for that particular orthogroup than it will have a comma seperated list for the entry. \n",
    "\n"
   ]
  },
  {
   "cell_type": "code",
   "execution_count": null,
   "id": "545da4c0",
   "metadata": {
    "language": "bash"
   },
   "outputs": [],
   "source": [
    "%%bash\n",
    "tabview Orthogroups.csv"
   ]
  },
  {
   "cell_type": "markdown",
   "id": "c02f99b1",
   "metadata": {},
   "source": [
    "\n",
    "\n",
    "### * Orthogroups_UnassignedGenes.csv\n",
    "\n",
    "The same style table. Instead this one contains Orthogroups that are not belonging to an orthogroup, they are unique to a single sample. As you scroll down you should notice the proteins belong to different samples.\n",
    "\n"
   ]
  },
  {
   "cell_type": "code",
   "execution_count": null,
   "id": "2653d532",
   "metadata": {
    "language": "bash"
   },
   "outputs": [],
   "source": [
    "%%bash\n",
    "tabview Orthogroups_UnassignedGenes.csv"
   ]
  },
  {
   "cell_type": "markdown",
   "id": "fac50918",
   "metadata": {},
   "source": [
    "\n",
    "\n",
    "###  * Orthogroups.GeneCount.csv\n",
    "\n",
    "My favorite 'Orthogroup' Output file. Orthogroups are the rows, columns are gene counts per species. This can be easily parsed to see what orthogroups are specific to waht species. It provides total gene counts for each sample.\n",
    "\n"
   ]
  },
  {
   "cell_type": "code",
   "execution_count": null,
   "id": "2f26e2a4",
   "metadata": {
    "language": "bash"
   },
   "outputs": [],
   "source": [
    "%%bash\n",
    "tabview Orthogroups.GeneCount.csv"
   ]
  },
  {
   "cell_type": "markdown",
   "id": "a5507975",
   "metadata": {},
   "source": [
    "\n",
    "\n",
    "* add annotations from a reference sequence\n",
    "\n",
    "~/orthogroups_add_annotations.py <reference_faa> Orthogroups.txt  Orthogroups.GeneCount.csv\n",
    "\n"
   ]
  },
  {
   "cell_type": "code",
   "execution_count": null,
   "id": "9447c7ca",
   "metadata": {
    "language": "bash"
   },
   "outputs": [],
   "source": [
    "%%bash\n",
    "orthogroups_add_annotations.py ../GCF_000203835.1_ASM20383v1_protein.faa Orthogroups.txt  Orthogroups.GeneCount.csv | tabview -"
   ]
  },
  {
   "cell_type": "markdown",
   "id": "d98753b7",
   "metadata": {},
   "source": [
    "\n",
    "\n",
    "\n",
    "## Statistics\n",
    "\n",
    "### * Statistics_Overall.csv\n",
    "\n",
    "A file containing the overall statistcis for the analysis. Total number of genes in the dataset etc. \n",
    "\n"
   ]
  },
  {
   "cell_type": "code",
   "execution_count": null,
   "id": "122cb6af",
   "metadata": {
    "language": "bash"
   },
   "outputs": [],
   "source": [
    "%%bash\n",
    "tabview Statistics_Overall.csv"
   ]
  },
  {
   "cell_type": "markdown",
   "id": "e45ae84b",
   "metadata": {},
   "source": [
    "\n",
    "\n",
    "### * Statistics_PerSpecies.csv\n",
    "\n",
    "In my opinion this is the most important statistics output file. It provides details for each sample. How many genes were speciifc to that sample. If you want to know a quick statistics of how 'differen't your genome is, this is it.\n",
    "\n"
   ]
  },
  {
   "cell_type": "code",
   "execution_count": null,
   "id": "42894a49",
   "metadata": {
    "language": "bash"
   },
   "outputs": [],
   "source": [
    "%%bash\n",
    "tabview Statistics_PerSpecies.csv"
   ]
  },
  {
   "cell_type": "markdown",
   "id": "b94c16d8",
   "metadata": {},
   "source": [
    "\n",
    "\n",
    "### * WorkingDirectory/\n",
    "\n",
    "All of the work that external programs like BLAST or DIAMOND. 'ls' this directory. It contains all the results for each pairwise comparison.\n",
    "\n",
    "### * Orthologues_DATE/\n",
    "\n",
    "This directory contains a lot of useful data related to the Orthofinder analysis and how they commpute the phylogenetic trees.\n",
    "\n",
    "#### * Recon_Gene_Trees/\n",
    "\n",
    "A directory containing inferred trees for every orthogroup.\n",
    "\n",
    "#### * SpeciesTree_rooted.txt\n",
    "\n",
    "A rooted-species tree. Orthofinder commputes a root for the tree automatically. You can view this in any tree viewing program like FigTree or TreeView (macs). This file is in newick format. Check it out.\n",
    "\n"
   ]
  },
  {
   "cell_type": "code",
   "execution_count": null,
   "id": "10ffbe26",
   "metadata": {
    "language": "bash"
   },
   "outputs": [],
   "source": [
    "%%bash\n",
    "more Orthologues*/SpeciesTree_rooted.txt"
   ]
  },
  {
   "cell_type": "markdown",
   "id": "a4a0a6d3",
   "metadata": {},
   "source": [
    "\n",
    "\n",
    "## Export the tree file and view.\n",
    "\n",
    "\n",
    "## Bonus - Figures\n"
   ]
  },
  {
   "cell_type": "code",
   "execution_count": null,
   "id": "410f8670",
   "metadata": {
    "language": "bash"
   },
   "outputs": [],
   "source": [
    "orthogroups_add_annotations.py ../GCF_000203835.1_ASM20383v1_protein.faa Orthogroups.txt  Orthogroups.GeneCount.csv\n",
    "\n",
    "orthotools-venn.py Results_*/ PROKKA_*.faa species1.faa species2.faa  venn\n",
    "\n",
    "orthotools-UpSet.R Results_*/Orthogroups.GeneCount.csv"
   ]
  },
  {
   "cell_type": "markdown",
   "id": "a52b423b",
   "metadata": {},
   "source": [
    "\n"
   ]
  }
 ],
 "metadata": {
  "kernelspec": {
   "display_name": "Python 3 (ipykernel)",
   "language": "python",
   "name": "python3"
  },
  "language_info": {
   "codemirror_mode": {
    "name": "ipython",
    "version": 3
   },
   "file_extension": ".py",
   "mimetype": "text/x-python",
   "name": "python",
   "nbconvert_exporter": "python",
   "pygments_lexer": "ipython3",
   "version": "3.10.12"
  }
 },
 "nbformat": 4,
 "nbformat_minor": 5
}
