{
 "cells": [
  {
   "cell_type": "markdown",
   "id": "d4131437-1a8e-4cb0-b07d-f326bc24bb4d",
   "metadata": {},
   "source": [
    "# Submodule 1: Introduction to genome sequencing and assembly\n",
    "--------\n",
    "Jupyter notebook is a web interface that leverages the python coding language. It is an excellent tool for creating and sharing coding resources as it enables one to build blocks of text called cells in either code format, markdown text format, or raw text format. \n",
    "\n",
    "\n",
    "<p align=\"center\">\n",
    "    <img src=\"images/jupyterNotebook_annotated.png\" alt=\"jupyterNotebook\" width=\"50%\"/>\n",
    "</p>\n",
    "\n",
    "\n",
    "Cells in the code format can be selected with your mouse and executed within the notebook such that the results of the code chunk will print to your screen. The cell below is in the **code format** there are three types of lines in this cell. \n",
    "\n",
    "- The first line `%%bash` indicates the code that follows is in the BASH coding language.\n",
    "- The second line is in green and starts with a `#` this is a comment line. Commented lines are used to describe the action the code line below will take. These lines are important because they help you think logically about what the code is doing. Importantly any line that begins with a `#` will not be executed, so if there is code that you don't want to run in a cell you can add a `#` in front of it and the code will not be executed.\n",
    "- The third line is the code line, in this code we use the `echo` command to print the argument \"Hello World\" to the screen.\n",
    "\n",
    "To run the code in a code cell, click on the cell and use the **Run Code** button in the menu above. The code will be executed and the results will be printed below the code cell in your notebook. You can also run the command by clicking on the code cell and using the `shift + enter` keys. \n"
   ]
  }
 ],
 "metadata": {
  "kernelspec": {
   "display_name": "conda_python3",
   "language": "python",
   "name": "conda_python3"
  },
  "language_info": {
   "codemirror_mode": {
    "name": "ipython",
    "version": 3
   },
   "file_extension": ".py",
   "mimetype": "text/x-python",
   "name": "python",
   "nbconvert_exporter": "python",
   "pygments_lexer": "ipython3",
   "version": "3.10.14"
  }
 },
 "nbformat": 4,
 "nbformat_minor": 5
}
