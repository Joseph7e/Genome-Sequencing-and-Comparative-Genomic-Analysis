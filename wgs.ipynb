{
 "cells": [
  {
   "cell_type": "raw",
   "id": "798f2ac2-1642-461d-bf0c-9bc4cbc1624f",
   "metadata": {},
   "source": [
    "# MDIBL-T3-WGS-Tutorial\n",
    "Whole-Genome Assembly and Assessment Tutorial\n",
    "\n",
    "https://docs.google.com/spreadsheets/d/1YPuqGKIzSgm0cOmMBstcQ9Q9AmBpnf9pA1z_scYxP3U/edit?usp=sharing\n",
    "\n",
    "\n",
    "## Overview of the Workflow\n",
    "\n",
    "![](img/diagram-WGS.png)\n",
    "\n",
    "## Table of Contents\n",
    "\n",
    "* [Getting Started](https://github.com/Joseph7e/MDIBL-T3-WGS-Tutorial#general-notes)  \n",
    "    * [Joe's BASH Tutorials](https://github.com/Joseph7e/HCGS-BASH-tutorial) and [INBRE BASH Tutorials](https://geiselmed.dartmouth.edu/nhinbre/bioinformatics-modules/)\n",
    "    * [Reproducibility](https://github.com/ToniWestbrook/repeatfs)\n",
    "    * [Starting Data](https://github.com/Joseph7e/MDIBL-T3-WGS-Tutorial#starting-data) \n",
    "* [Assessment of Sequencing Reads](https://github.com/Joseph7e/MDIBL-T3-WGS-Tutorial#sequencing-read-assessment)\n",
    "    * [FASTQ file format](https://github.com/Joseph7e/MDIBL-T3-WGS-Tutorial#fastq-file-format)\n",
    "    * [Read Quality Check](https://github.com/Joseph7e/MDIBL-T3-WGS-Tutorial#examine-read-quality) - w/FASTQC\n",
    "* [Adapter and Quality Trimming](https://github.com/Joseph7e/MDIBL-T3-WGS-Tutorial#adapter-and-quality-trimming) - w/Trimmomatic\n",
    "* [Genome Assembly](https://github.com/Joseph7e/MDIBL-T3-WGS-Tutorial#genome-assembly) - w/SPAdes\n",
    "    * [FASTA file format](https://github.com/Joseph7e/MDIBL-T3-WGS-Tutorial#fasta-format)\n",
    "* [Genome Assessment](https://github.com/Joseph7e/MDIBL-T3-WGS-Tutorial#genome-assessment)\n",
    "    * [Genome Structure (Contiguity)](https://github.com/Joseph7e/MDIBL-T3-WGS-Tutorial#genome-structure-assessment) - w/ QUAST\n",
    "    * [Expected Gene Content](https://github.com/Joseph7e/MDIBL-T3-WGS-Tutorial#Run BUSCO) - w/ BUSCO\n",
    "* [Genome Annotation](https://github.com/Joseph7e/MDIBL-T3-WGS-Tutorial#genome-annotation) w/PROKKA\n",
    "* [Identification of the Organism](https://github.com/Joseph7e/MDIBL-T3-WGS-Tutorial#organism-identification)\n",
    "    * [BLAST](https://github.com/Joseph7e/MDIBL-T3-WGS-Tutorial#blast)\n",
    "* [Read Mapping](https://github.com/Joseph7e/MDIBL-T3-WGS-Tutorial#read-mapping) w/BWA and Samtools\n",
    "* [Filtering the Genome Assembly](https://github.com/Joseph7e/MDIBL-T3-WGS-Tutorial#non-target-contig-removal) w/Blobtools\n",
    "* [What's Next?](https://github.com/Joseph7e/MDIBL-T3-WGS-Tutorial#afterthoughts)\n",
    "    * [Genome Visualization](https://github.com/Joseph7e/MDIBL-T3-WGS-Tutorial#genome-visualization)\n",
    "    * [Submission to NCBI](https://github.com/Joseph7e/MDIBL-T3-WGS-Tutorial)\n",
    "    * [Comparative Genomics](https://github.com/Joseph7e/HCGS-Comparative-Genomics)\n",
    " \n",
    "\n",
    "google sheet\n",
    "https://docs.google.com/spreadsheets/d/1auOfzSoYiHQIOrlcN3kZyKBPTjy1fbPiSClNuAKzdJ8/edit?usp=sharing\n",
    "\n",
    "shared presentation\n",
    "https://docs.google.com/presentation/d/1OBzO8tTlOovftlic2hYZ7EWInaVoaPCbp_dOabNGVWY/edit?usp=sharing\n",
    "\n",
    "## General Notes:\n",
    "**For each program that we run in this tutorial I have provided a link to the manual**. These manuals provide a thorough explanation of what exactly we are doing. Before running the program it is a good idea to skim through these, examine the options, and see what it does. It is also a good idea to check out the publication associated with the program. Please note that the commands we run are general and usually executed with default settings. This works great for most genomes but the options may need to be tweaked depending on your genome. Before you run any command it is also a great idea to look at the programs help menu. This can usually be done with the name of the program followed by '-h' or '-help' or '--help'. i.e. 'spades -h'. Also ... never forget about google for quick answers to any confusion.\n",
    "\n",
    "\n",
    "Throughout this tutorial the commands you will type are formatted into the gray text boxes (don't do it when learning but they can be faithfully copied and pasted). The '#' symbol indicates a comment, BASH knows to ignore these lines. \n",
    "\n",
    "\n",
    "This tutorial assumes a general understanding of the BASH environment. **You should be familiar with moving around the directories and understand how to manipulate files**.\n",
    "\n",
    "See the BASH tutorial and primers to get started. https://github.com/Joseph7e/HCGS-BASH-tutorial\n",
    "\n",
    "**Remember to tab complete!** There is a reason the tab is my favorite key. It prevents spelling errors and allows you to work much faster. Remember if a filename isn't auto-completing you can hit tab twice to see your files while you continue typing your command. If a file doesn't auto-complete it means you either have a spelling mistake, are in a different directory than you originally thought, or that it doesn't exist.\n",
    "\n",
    "## How NGS sequencing works\n",
    "[![sequencing by synthesis](img/youtube-video-sequencing.PNG)](https://www.youtube.com/watch?v=p4vKJJlNTKA&t=9s \"Sequencing\")\n",
    "\n",
    "\n",
    "\n",
    "\n",
    "## Get your bearing on the server.\n",
    "\n",
    "It's hard to know where your going if you don't know where you are. When I am working on the server I constantly type 'ls' and 'pwd' to make sure I am where I think I am. You should too!\n",
    "\n"
   ]
  },
  {
   "cell_type": "code",
   "execution_count": null,
   "id": "121d0ec2",
   "metadata": {},
   "outputs": [],
   "source": [
    "%%bash\n",
    "# print your current working directory. If you just logged in you should be in your home directory (/home/group/username/)\n",
    "pwd\n",
    "# change to your home directory in case you weren't already there. Remember ~/ is an absolute path to your home directory.\n",
    "cd ~/\n",
    "# ls to view your home dir\n",
    "ls\n",
    "# ls to view the group directory (I type ‘ls’ a lot!)\n",
    "ls ../\n",
    "# view the shared directory of starting data\n",
    "ls /home/share/workshop/\n",
    "# View the shared project with the ‘tree’ command\n",
    "tree /home/share/\n",
    "# Copy a sample from the shared directory to your home dir, \n",
    "# Replace $SAMPLE with your Sample name.\n",
    "# USE AUTOCOMPLETE\n",
    "cp /home/share/workshop/raw-fastqs/$SAMPLE*\n",
    "\n",
    "# confirm the copy arrived (remember ‘*’ will match any character/string)\n",
    "ls"
   ]
  },
  {
   "cell_type": "raw",
   "id": "8081c5d5-ad8b-4b5b-93ff-ce750e81ecdd",
   "metadata": {},
   "source": [
    "\n",
    "\n",
    "\n"
   ]
  },
  {
   "cell_type": "code",
   "execution_count": null,
   "id": "406077e9",
   "metadata": {},
   "outputs": [],
   "source": [
    "%%bash\n",
    "# Make a new directory and add the Sample directory into it\n",
    "mkdir wgs-tutorial\n",
    "mv $SAMPLE* wgs-tutorial/\n",
    "cd wgs-tutorial/\n",
    "# make the sample directory name more meaningful\n",
    "mkdir raw-reads\n",
    "mv * raw-reads"
   ]
  },
  {
   "cell_type": "markdown",
   "id": "bc4c685b",
   "metadata": {},
   "source": [
    "\n",
    "\n",
    "## Activate the genomics environment\n",
    "This is important and ensures that all the programs we use are updates and in working order. You'll need to do this everytime you login to the server.\n",
    "\n"
   ]
  },
  {
   "cell_type": "code",
   "execution_count": null,
   "id": "4a89f102",
   "metadata": {},
   "outputs": [],
   "source": [
    "%%bash\n",
    "conda activate genomics"
   ]
  },
  {
   "cell_type": "raw",
   "id": "5d2ff113-edd0-4e2c-9c45-77c1dfae6d9d",
   "metadata": {},
   "source": [
    "\n",
    "\n",
    "\n",
    "## Sequencing Read Assessment\n",
    "\n",
    "Note the file extension - fastq.**gz**. Since these files are usually pretty big it is standard to receive them compressed. To view these files ourselves (which you normally wouldn't do) you either have to decompress the data with gzip or by using variations of the typical commands. Instead of 'cat' we use 'zcat', instead of grep we can use 'zgrep'. Below I show both ways.\n",
    "       \n"
   ]
  },
  {
   "cell_type": "code",
   "execution_count": null,
   "id": "40b171bc",
   "metadata": {},
   "outputs": [],
   "source": [
    "%%bash\n",
    "# Examine the reads with zcat, I use the wildcard '*' to match the file since everyone's names will be different. Use tab complete and there is no need for the wildcards.\n",
    "zcat Sample*/*_R1_* | more\n",
    "# unzip the data and view\n",
    "gunzip Sample*/*_R1_*\n",
    "more Sample*/*_R1_*\n",
    "# rezip the data\n",
    "gzip Sample*/*_R1_*\n",
    "# Examine reads directly with less\n",
    "less -S Sample*/*_R1_*"
   ]
  },
  {
   "cell_type": "markdown",
   "id": "c2f2f97c",
   "metadata": {},
   "source": [
    "\n",
    "\n",
    "#### Fastq File Format\n",
    "Each sequencing read entry is four lines long.. \n",
    "\n",
    "    - Line 1. Always begins with an '@' symbol and denotes the header. This is unique to each sequence and has info about the sequencing run. \n",
    "\n",
    "    - Line 2. The actual sequencing read for your organism, a 250 bp string of As, Ts, Cs, and Gs.\n",
    "\n",
    "    - Line 3. Begins with a '+' symbol, this is the header for the read quality. Usually the same as the first line header. \n",
    "\n",
    "    - Line 4. Next are ascii symbols representing the quality score (see table below) for each base in your sequence. This denotes how confident we are in the base call for each respective nucleotide. This line is the same length as the sequencing line since we have a quality score for each and every base of the sequence. \n",
    "\n",
    "![rawilluminadatafastqfiles](https://user-images.githubusercontent.com/18738632/42129269-49b8dace-7c8e-11e8-86e7-069df9028447.png)\n",
    "\n",
    "![quality_info](https://user-images.githubusercontent.com/18738632/42226531-2f343178-7ead-11e8-8401-5a2fb455b4ef.png)\n",
    "\n",
    "* Count The Number of Raw Reads\n",
    "\n",
    "I always start by counting the number of reads I have for each sample. This is done to quickly assess whether we have enough data to assemble a meaningful genome. Usually these file contains millions of reads, good thing BASH is great for parsing large files! Note that the forward and reverse reads will have the same number of entries so you only need to count one.\n",
    "\n"
   ]
  },
  {
   "cell_type": "code",
   "execution_count": null,
   "id": "5f4c58c7",
   "metadata": {},
   "outputs": [],
   "source": [
    "%%bash\n",
    "# using grep. Note that I don't count just '@', this is because that symbol may appear in the quality lines.\n",
    "zgrep -c '^@' Sample*/*R1*\n",
    "# counting the lines and dividing by 4. Remember each read entry is exactly four lines long. These numbers should match.\n",
    "zcat Sample*/*_R1_* | wc -l"
   ]
  },
  {
   "cell_type": "markdown",
   "id": "feeff3a2",
   "metadata": {},
   "source": [
    "\n",
    "* Whats our total bp of data? This is what we call our sequencing throughput. We multiple the number of reads by the read length (ours is 250) and by 2 because it is paired-end data.\n",
    "\n",
    "(Read length x 2(paired-end) x Number of reads)\n",
    "\n"
   ]
  },
  {
   "cell_type": "code",
   "execution_count": null,
   "id": "c3d528de",
   "metadata": {},
   "outputs": [],
   "source": [
    "%%bash\n",
    "# we can do this calculation from the terminal with echo and bc (bc is the terminal calculator)\n",
    "echo \"Number_of_reads * 250 * 2\" | bc"
   ]
  },
  {
   "cell_type": "markdown",
   "id": "52d55285",
   "metadata": {},
   "source": [
    "\n",
    "\n",
    "* If we have a 7 MB genome, what is our average coverage? \n",
    "\n",
    "(Total bp/7,000,000)\n"
   ]
  },
  {
   "cell_type": "code",
   "execution_count": null,
   "id": "9beaee83",
   "metadata": {},
   "outputs": [],
   "source": [
    "%%bash\n",
    "echo \"Total_bps / 7000000\" | bc"
   ]
  },
  {
   "cell_type": "markdown",
   "id": "66154242",
   "metadata": {},
   "source": [
    "\n",
    "\n",
    "If you completed the above calculation lets hope you have at least 10X coverage. For the most part, the higher the coverage the better off we are. If you have low coverage you'll want to do some more sequencing and get more read data. Usually published genomes have at least 70-100X coverage.\n",
    "\n",
    "## Examine Read Quality\n",
    "program: FASTQC  \n",
    "manual: https://www.bioinformatics.babraham.ac.uk/projects/fastqc/\n",
    "\n",
    "[FASTQC explained](http://www.bioinformatics.babraham.ac.uk/projects/fastqc/Help/3%20Analysis%20Modules/)\n",
    "\n",
    "* Run Fastqc\n",
    "\n",
    "FastQC is a program to summarize read qualities and base composition. Since we have millions of reads there is no practical way to do this by hand. We call the program to parse through the fastq files and do the hard work for us. **The input to the program is one or more fastq file(s) and the output is an html file with several figures.** The link above describes what each of the output figures are describing. I mainly focus on the first graph which visualizes our average read qualities and the last figure which shows the adapter content. Note that this program does not do anything to your data, as with the majority of the assessment tools, it merely reads it.\n",
    "\n"
   ]
  },
  {
   "cell_type": "code",
   "execution_count": null,
   "id": "58fcad53",
   "metadata": {},
   "outputs": [],
   "source": [
    "%%bash\n",
    "# make a directory to store the output\n",
    "mkdir fastqc_raw-reads\n",
    "# run the program\n",
    "fastqc Sample_*/*_R1_* Sample_*/*_R2_* -o fastqc_raw-reads\n",
    "ls fastqc_raw-reads\n",
    "# the resulting folder should contain a zipped archive and an html file, we can ignore the zipped archive which is redundant."
   ]
  },
  {
   "cell_type": "markdown",
   "id": "353b267b",
   "metadata": {},
   "source": [
    "\n",
    "\n",
    "* Transfer resulting HTML files to computer using filezilla or with the command line on OSX/Linux.\n",
    "\n",
    "On filezilla you will need to enter the same server information when you login form the terminal. Be sure to use port 22.  \n",
    "\n"
   ]
  },
  {
   "cell_type": "code",
   "execution_count": null,
   "id": "0e2bed54",
   "metadata": {},
   "outputs": [],
   "source": [
    "%%bash\n",
    "# to get the absolute path to a file you can use the ‘readlink’ command.\n",
    "readlink -f fastqc_raw-reads/*.html\n",
    "# copy those paths, we will use them for the file transfer\n",
    "# In a fresh terminal on OSX, Linux, or BASH for windows\n",
    "scp USERNAME@ron.sr.unh.edu:/home/GROUP/USERNAME/mdibl-t3-2019-WGS/fastqc_raw-reads/*.html /path/to/put/files"
   ]
  },
  {
   "cell_type": "markdown",
   "id": "53b31c40",
   "metadata": {},
   "source": [
    "\n",
    "\n",
    "* Transfer resulting HTML files to computer using filezilla or with the command line on OSX/Linux.\n",
    "\n",
    "On filezilla you will need to enter the same server information when you login form the terminal. Be sure to use port 22.  \n",
    "\n"
   ]
  },
  {
   "cell_type": "code",
   "execution_count": null,
   "id": "57d45a6d",
   "metadata": {},
   "outputs": [],
   "source": [
    "%%bash\n",
    "# to get the absolute path to a file you can use the ‘readlink’ command.\n",
    "readlink -f fastqc_raw-reads/*.html\n",
    "# copy those paths, we will use them for the file transfer\n",
    "# In a fresh terminal on OSX, Linux, or BASH for windows\n",
    "scp USERNAME@ron.sr.unh.edu:/home/GROUP/USERNAME/mdibl-t3-2019-WGS/fastqc_raw-reads/*.html /path/to/put/files"
   ]
  },
  {
   "cell_type": "markdown",
   "id": "593e0bb9",
   "metadata": {},
   "source": [
    "\n",
    "\n",
    "## Adapter and Quality Trimming\n",
    "Trimmomatic\n",
    "manual: http://www.usadellab.org/cms/uploads/supplementary/Trimmomatic/TrimmomaticManual_V0.32.pdf\n",
    "\n",
    "alternative tools: [cutadapt](http://cutadapt.readthedocs.io/en/stable/guide.html), [skewer](https://github.com/relipmoc/skewer)\n",
    "\n",
    "* Run Trimmomatic\n",
    "\n",
    "You may have noticed from the fastqc output the some of your reads have poor qualities towards the end of the sequence, this is especially true for the reverse reads and is common for Illumina data. You may also notice that the fastqc report 'failed' for adapter content. The Trimmomtic program will be used to trim these low quality bases and to remove the adapters. I created a wrapper script called trim_script_TruSeq.sh which makes this program much easier to use. It is available on the server by calling its name, it is also available on this github repository. For this wrapper script **the input is the raw forward and reverse reads and the output will be new trimmed fastq files**. We will use these trimmed reads for our genome assembly. When you are more comfortable using BASH you can call Trimmomatic directly by using the manual or by copying the code from the provided script.\n",
    "\n"
   ]
  },
  {
   "cell_type": "code",
   "execution_count": null,
   "id": "3dc0ba04",
   "metadata": {},
   "outputs": [],
   "source": [
    "%%bash\n",
    "# Run wrapper script\n",
    "trim_scriptV2.sh Sample_*/*_R1_* Sample_*/*_R2_*\n",
    "# if you want to see inside the program you can take a look.\n",
    "which trim_scriptV2.sh\n",
    "more /usr/local/bin/trim_scriptV2.sh"
   ]
  },
  {
   "cell_type": "markdown",
   "id": "2ecbf70f",
   "metadata": {},
   "source": [
    "\n",
    "\n",
    "* Move the trimmed reads to new directory - remember its a good idea to keep the directory clean.\n",
    "* Note: This is already done with the new trim_script version 2.\n"
   ]
  },
  {
   "cell_type": "code",
   "execution_count": null,
   "id": "a6921520",
   "metadata": {},
   "outputs": [],
   "source": [
    "%%bash\n",
    "mkdir trimmed_reads\n",
    "# move all the reads into the new directory\n",
    "mv *fastq.gz trimmed_reads/\n",
    "# confirm that the files have moved\n",
    "ls trimmed_reads/"
   ]
  },
  {
   "cell_type": "markdown",
   "id": "cb5a4b08",
   "metadata": {},
   "source": [
    "\n",
    "\n",
    "When the program finishes it outputs four files. paired_forward.fastq.gz, paired_reverse.fastq.gz, and two unpaired reads. These output files are cleaned reads, which hopefully retained the highly confident sequences and have removed the adapters from the sequences. Some sequences will be lost entirely, some will lose a few bases off the ends, and some won't be trimmed at all. When a reverse read is lost but a forward read is maintained, the forward read will be written to the unpaired_forward.fastq.gz file (and vise-versa).\n",
    "\n",
    "![fastqc](https://user-images.githubusercontent.com/18738632/42241259-ef2d5f0c-7ed7-11e8-8a7f-f7407979202f.png)\n",
    "\n",
    "Similar to above, you can run FASTQC again with your new trimmed reads. Comparing the original html and the new one you should note the differences (see above).\n",
    "\n",
    "You can also count the number of reads for each of your files like you did for the raw reads. How does this compare to the original count? What percentage of your reads did you lose? How many reads are unpaired?\n",
    "\n",
    "## Genome Assembly\n",
    "\n",
    "\n",
    "<img src=\"https://www.genome.gov/sites/default/files/tg/en/illustration/shotgun_sequencing.jpg\">\n",
    "\n",
    "\n",
    "program: SPAdes\n",
    "manual: http://cab.spbu.ru/software/spades/\n",
    "\n",
    "alternative tools: [ABySS](http://www.bcgsc.ca/platform/bioinfo/software/abyss), [MaSuRCA](http://masurca.blogspot.com/)\n",
    "\n",
    "With our trimmed reads in hand are now ready to assemble our genomes (check out Kelley's PowerPount for how it works). There are many programs that are used for genome assembly and different assemblers work well with certain genomes (how large the genome is, how complex, is it a Eukaryote, etc), but SPAdes works very well for most bacteria. Either way these programs are usually run with the same sort of syntax. **The input is a set of sequencing reads in FASTQ format and the output will be a FASTA file which is the genome assembly**. I encourage you to try out a different assembler and compare the results.\n",
    "\n",
    "* Run SPAdes\n"
   ]
  },
  {
   "cell_type": "code",
   "execution_count": null,
   "id": "a40ac402",
   "metadata": {},
   "outputs": [],
   "source": [
    "%%bash\n",
    "# examine the help menu\n",
    "spades.py --help\n",
    "# run spades with the forward, reverse, and unpaired reads.\n",
    "nohup spades.py -1 trimmed_reads/paired_forward.fastq.gz -2 trimmed_reads/paired_reverse.fastq.gz -s trimmed_reads/unpaired_forward.fastq.gz -s trimmed_reads/unpaired_reverse.fastq.gz -o spades_assembly_default -t 24 &"
   ]
  },
  {
   "cell_type": "markdown",
   "id": "e2735305",
   "metadata": {},
   "source": [
    "\n",
    "\n",
    "Notice that the above command makes use of 'nohup' and '&'. Its good practice to always use these two together. This allows you to close your computer and let the server continue working and/or let you continue working while the job runs in the background. This is the most computationally expensive program of the pipeline. It is taking our millions of reads and attempting to put them back together, as you can image that takes a lot of work. It will probably take a few hours to run.\n",
    "\n",
    "You can check the output of nohup for any errors. If there are any errors you will see them at the bottom of the file. The best way to check is with the 'tail' command. Try 'tail nohup.out'.\n",
    "\n",
    "* Check the status of your job w/ 'top' -- [top explanation](https://www.booleanworld.com/guide-linux-top-command/)\n"
   ]
  },
  {
   "cell_type": "code",
   "execution_count": null,
   "id": "c9c3d00c",
   "metadata": {},
   "outputs": [],
   "source": [
    "%%bash\n",
    "# 'top' lets you see all the jobs that are running on the server\n",
    "top\n",
    "# adding the user option lets you view just your jobs\n",
    "top -u $USER\n",
    "# the \"$USER\" variable always links to your user name, to see what I mean echo it.\n",
    "echo $USER"
   ]
  },
  {
   "cell_type": "markdown",
   "id": "41add441",
   "metadata": {},
   "source": [
    "\n",
    "\n",
    "* View Output Data When the assembly finishes.\n",
    "\n"
   ]
  },
  {
   "cell_type": "code",
   "execution_count": null,
   "id": "7f2faa92",
   "metadata": {},
   "outputs": [],
   "source": [
    "%%bash\n",
    "ls spades_assembly_default/\n",
    "# view FASTA file\n",
    "less -S spades_assembly_default/contigs.fasta\n",
    "# view the top 10 headers\n",
    "grep '>' spades_assembly_default/contigs.fasta | head\n",
    "# count the number of sequences\n",
    "grep -c '>' spades_assembly_default/contigs.fasta"
   ]
  },
  {
   "cell_type": "markdown",
   "id": "cff55ec8",
   "metadata": {},
   "source": [
    "\n",
    "\n",
    "## FASTA format\n",
    "\n",
    "The FASTA format is similar to the FASTQ format except it does not include quality information. Each sequence is also delineated by a '>' symbol instead of a '@'. In addition, all the sequences will be much larger (since they were assembled). Instead of all the sequencing being 250 bp they could be the size of an entire genome!  Each of the sequence entries in the FASTA file are typically refereed to as a contig, which means contiguous sequence. \n",
    "\n",
    "\n",
    "In an ideal world the assembler would work perfectly and we would have one contig per chromosome in the genome. In the case of a typical bacterium (if there is such a thing) this would mean one circular chromosome and maybe a plasmid. So if the assembly worked perfect we would see two contigs in our FASTA file. However, this is very rarely the case (unless we add some sort of long-read technology like pacbio or nanopore sequencing). \n",
    "\n",
    "\n",
    "How fragmented your reconstructed genome is usually depends on how many reads you put into your assembler, how large the genome is, and what the architecture and complexity of the genome is like. We typically see a genome split into 10's to 100's of contigs for a typical run.\n",
    "\n",
    "In the case of SPAdes the FASTA headers are named in a common format. Something like \"NODE_1_length_263127_cov_73.826513\". The first field is a unique name for the contig (just a numerical value), the next field is the length of the sequence, and the last field is the kmer coverage of that contig (this is different than read coverage which NCBI submissions require). Furthermore, the contigs are organized by length where the longest contigs are first.\n",
    "\n",
    "\n",
    "* Clean up Spades directory.\n",
    "\n",
    "When you listed the SPAdes directory you could see that it makes a lot of output folders, all of which are explained in the manual. We really only 'care' about the contigs.fasta file and the spades.log. The spades.log is important because it includes details about how exactly we ran the assembly. If you ever wanted to reproduce your assembly this file might come in handy. The rest of the files can be deleted, if we ever need them you can always use the spades.log to rerun the analysis.\n",
    "\n",
    "We are going to proceed to remove these unwanted files. **Remember if you delete a file using the 'rm' command it is gone forever, there is no way to get it back, there is no recover from trash bin, so be careful!**\n",
    "\n",
    "\n"
   ]
  },
  {
   "cell_type": "code",
   "execution_count": null,
   "id": "90e6f5fe",
   "metadata": {},
   "outputs": [],
   "source": [
    "%%bash\n",
    "# There are many ways to do this, proceed however you are comfortable. I am going to move the files I want to keep out of the directory, delete everything else in the directory with 'rm' then move my files back in. Alternatively you could just remove unwanted files one at a time.\n",
    "# Move into the spades directory\n",
    "cd spades_spades_assembly_default/\n",
    "# move the files we want to keep back one directory\n",
    "mv contigs.fasta spades.log ../\n",
    "# confirm that the files moved!!!!!!!\n",
    "ls ../\n",
    "# confirm you are still in the spades_directory (I'm paranoid)\n",
    "pwd\n",
    "# you should see something like /home/GROUP/UserName/mdibl-t3-2018-WGS/spades_directory_default/\n",
    "# After you confirm the files have been moved and you are in the right directory, delete the unwanted files\n",
    "rm -r *\n",
    "# move the files back\n",
    "mv ../contigs.fasta ../spades.log ./\n",
    "# list the directory and you should see just the two files.\n",
    "ls"
   ]
  },
  {
   "cell_type": "markdown",
   "id": "5404376a",
   "metadata": {},
   "source": [
    "\n",
    "\n",
    "# Genome Assessment\n",
    "\n",
    "Now that are initial spades assembly is completed we can move on to genome assessment. We will use QUAST to examine contiguity, BUSCO to assess completeness, and blobtools to check for contamination.\n",
    "\n",
    "\n",
    "We are also going to use BLAST to identify our organisms. Up to this point you probably don't know what it is.\n",
    "\n",
    "\n",
    "## Genome Structure Assessment\n",
    "program: QUAST\n",
    "manual: http://quast.bioinf.spbau.ru/manual.html\n",
    "\n",
    "QUAST is a genome assembly assessment tool to look at the contiguity of a genome assembly, how well the genome was reconstructed. Did you get one contig representing your entire genome? Or did you get thousands of contigs representing a highly fragmented genome? Quast also gives us some useful information like how many base pairs our genome assembly is (total genome size).\n",
    "\n",
    "QUAST has many functionalities which we will explore later on in the tutorial, for now we are going to use it in its simplest form. It essentially just keeps track of the length of each contig and provides basic statistics. This type of information is something you would typically provide in a publication or to assess different assemblers/options you may use. **The input to the program is the genome assembly FASTA and the output are various tables and a html/pdf you can export and view.**\n",
    "\n",
    "* Run Quast\n"
   ]
  },
  {
   "cell_type": "code",
   "execution_count": null,
   "id": "1cfaeb8c",
   "metadata": {},
   "outputs": [],
   "source": [
    "%%bash\n",
    "# look at the usage\n",
    "quast.py --help\n",
    "# run the command\n",
    "quast.py contigs.fasta -o quast_results"
   ]
  },
  {
   "cell_type": "markdown",
   "id": "570e33cf",
   "metadata": {},
   "source": [
    "\n",
    "* View output files\n",
    "\n",
    "Most of the output files from QUAST contain the same information in different formats (tsv, txt, csv etc). Open up any of these files to see the output. Descriptions for each metric can be seen below. You can use the total assembly size in the coverage estimate from above.\n",
    "\n",
    "![quast_output](https://user-images.githubusercontent.com/18738632/42242349-8db09646-7edb-11e8-8c05-f4ba103c9201.png)\n",
    "\n",
    "<img src=\"https://i0.wp.com/www.molecularecologist.com/wp-content/uploads/2017/03/Figure1b.jpg?resize=640%2C129\" width=\"320\">\n",
    "\n",
    "## Genome Content Assessment w/ BUSCO\n",
    "manual: https://busco.ezlab.org/\n",
    "\n",
    "\n",
    "BUSCO is a program utilized to assess the completeness of a genome assembly. This program makes use of the OrthoDB set of single-copy orthologous that are found in at least 90% of all the organisms in question. There are different data sets for various taxonomic groups (Eukaryotes, Metazoa, Bacteria, Gammaproteobacteria, etc. etc.). The idea is that a newly sequenced genome should contain most of these highly conserved genes. If your genome doesn't contain a large portion of these single-copy orthologs it may indicate that your genome is not complete.\n",
    "\n",
    "* Path to lineage data on RON:\n",
    "\n",
    "We will be using the Bacterial data set for our BUSCO analyis. However, there are many data sets available on our server. Listing the path below will show you all the available data sets. These can also be seen in the BUSCO manual linked above. \n",
    "\n"
   ]
  },
  {
   "cell_type": "code",
   "execution_count": null,
   "id": "864b34ab",
   "metadata": {},
   "outputs": [],
   "source": [
    "%%bash\n",
    "# View available sets\n",
    "busco --list-datasets"
   ]
  },
  {
   "cell_type": "markdown",
   "id": "700c2746",
   "metadata": {},
   "source": [
    "\n",
    "* Run BUSCO\n",
    "\n",
    "**The input to the program is your genome assembly (contigs) as well as a selection of which database to use. The output is a directory with a short summary of the results, a full table with coordinates for each orthologous gene is located in your assembly, and a directory with the nucleotide and amino acid sequences of all the identified sequences.**\n",
    "\n"
   ]
  },
  {
   "cell_type": "code",
   "execution_count": null,
   "id": "ac548ea6",
   "metadata": {},
   "outputs": [],
   "source": [
    "%%bash\n",
    "#look at the help menu\n",
    "busco --help\n",
    "# run busco\n",
    "busco -i contigs.fasta -m genome -o busco-results -l bacteria\n",
    "# note: add the -c option to change the number of threads."
   ]
  },
  {
   "cell_type": "markdown",
   "id": "3895692a",
   "metadata": {},
   "source": [
    "\n",
    "\n",
    "* Examine the BUSCO output.\n",
    "\n",
    "The first file we will look at is the 'short_summary_busco_output.txt'. This is a file which summarizes the main findings, how many of the expected genes did we find? This summary breaks the report into four main categories: complete single-copy genes, complete duplicated genes, fragmented genes, and missing genes. We are hopeful that the majority of our genes will be found as 'complete single-copy'. Duplicated genes could indicate that that particular gene underwent a gene duplication event or that we had a miss assembly and essentially have two copies of a region of our genome. Fragmented genes are an artifact of the fact that our genome did not assemble perfectly. Some of our genome is fragmented into multiple contigs, and with that some of our genes are going to be fragmented as well. This is why it is important to inspect the N50 of the genome with QUAST. We want the majority of our contigs to be at least as big as a gene, if it's not than we will have many fragmented genes as a result.\n",
    "\n",
    "Next we will view the 'full_table_busco_output.tsv' file. This is a file which shows the coordinates for all the associated single copy genes in our genome. It also provides information about the status of that ortholog (missing, complete, fragmented). This tsv file can be exported and viewed in excel.\n",
    "\n",
    "The final files we will examine are in a directory called 'single_copy_busco_sequences/'. This houses all the amino acid and protein sequences. This is a rich source for comparative genomics and other sorts of analyses.\n",
    "\n"
   ]
  },
  {
   "cell_type": "code",
   "execution_count": null,
   "id": "d28fee2d",
   "metadata": {},
   "outputs": [],
   "source": [
    "%%bash\n",
    "# view the short summary\n",
    "less -S busco-results/short_summary.specific.bacteria_odb10.busco-results.txt\n",
    "# view the full table\n",
    "less -S busco-results/run_bacteria_odb10/full_table.tsv\n",
    "# list and view a amino acid of protein sequence\n",
    "ls busco-results/run_bacteria_odb10/busco_sequences/"
   ]
  },
  {
   "cell_type": "markdown",
   "id": "0e44c1b0",
   "metadata": {},
   "source": [
    "\n",
    "\n",
    "## Genome Annotation\n",
    "program: PROKKA\n",
    "manual: https://github.com/tseemann/prokka\n",
    "\n",
    "alternative tools: [NCBI PGA](https://www.ncbi.nlm.nih.gov/genbank/genomesubmit_annotation/), [Glimmer](https://ccb.jhu.edu/software/glimmer/)\n",
    "\n",
    "![prokka_workflow](https://user-images.githubusercontent.com/18738632/42130490-e45251b6-7cb4-11e8-99ef-9579b9b7ce05.png)\n",
    "\n",
    "\n",
    "![gene_annotatoion](https://user-images.githubusercontent.com/18738632/42130642-bf1fb57e-7cb8-11e8-8472-37b82dadb53e.png)\n",
    "\n",
    "\n",
    "PROKKA does a lot, and is documented very well, so i will point you towards the course website and manual for more detailed information. It is a \"rapid prokaryote genome annotation pipeline\". Some of the relevant options include what genetic code your organism uses (standard is default), and what types of sequences you want to annotate (tRNA, rRNA, CDS).\n",
    "\n",
    "* Run PROKKA\n",
    "\n",
    " **The input to the program is your contig FASTA file, the output is gene annotations in GFF (and other) formats, as well as FFN (nucleotide) and FAA (amino acid) FASTA sequence files for all the annotated sequences.** We will be using several of these files to investigate the genome content of our genome. What genes does it have? What do these gene code for?\n",
    " \n"
   ]
  },
  {
   "cell_type": "code",
   "execution_count": null,
   "id": "b5551fde",
   "metadata": {},
   "outputs": [],
   "source": [
    "%%bash\n",
    "# look at the help menu.\n",
    "prokka --help\n",
    "# run the script, specifying an output directory\n",
    "nohup prokka contigs.fasta --outdir prokka_output --cpus 24 --mincontiglen 200 &"
   ]
  },
  {
   "cell_type": "markdown",
   "id": "422aa49b",
   "metadata": {},
   "source": [
    "\n",
    "\n",
    "* PROKKA Output\n",
    "![prokka_output](https://user-images.githubusercontent.com/18738632/42244846-894db27e-7ee4-11e8-8fd2-2293f1a6309c.png)\n",
    "\n"
   ]
  },
  {
   "cell_type": "code",
   "execution_count": null,
   "id": "98ae0d47",
   "metadata": {},
   "outputs": [],
   "source": [
    "%%bash\n",
    "# list all the output files.\n",
    "ls prokka_output\n",
    "# The GFF file contains the all the annotations and coordinates. It can be viewed in excel or with BASH. \n",
    "# Extract all the products from the GFF (we made this command up in class)\n",
    "# Copy this command to get a txt file with counts for each gene annotation.\n",
    "grep -o \"product=.*\" prokka_output/PROKKA_*.gff | sed 's/product=//g' | sort | uniq -c | sort -nr > protein_abundances.txt"
   ]
  },
  {
   "cell_type": "markdown",
   "id": "56a4edc5",
   "metadata": {},
   "source": [
    "\n",
    "\n",
    "The above command does a lot. It is a good idea to break it up and examine what it is doing one step at a time.\n",
    "\n",
    "    'grep -o' is used to pull out only CDS sequences with a product, just the definition.\n",
    "    # sed 's/search_term/replace_term/g', is used to search a replace items, below we want to remove all the 'product='\n",
    "    # \"sort | uniq -c \" togethor combine all the duplicate lines and provide a count for each.\n",
    "    # finally we save it to a file by using \" > my_file\"\n",
    "\n",
    "This is a good time to explore and make use of BASH. Hopefully everyone is getting used to working in BASH so they can explore as they want. Try to count the number of lines in the GFF that contain 'CDS'. How many tRNAs did we identify. etc. etc. We will be using more of these files later on in the tutorial.\n",
    "\n",
    "# Organism Identification\n",
    "\n",
    "### Extract the 16S sequence from the FFN file.\n",
    "\n",
    "The 16S sequence is a housekeeping gene coding for the large ribosomal subunit in Bacteria. It is highly conserved and found in every known Bacteria. This makes it a great tool to identity the bacterium (which is why it is used in metabarcoding studies). This is (hopefully) one of the genes that were identified from PROKKA. It is not a protein so it won't be found in the FAA file but it should be in the FFN file. We are going to use a simple script we wrote that is available on the server and this github page called \"extract_sequence\". **The program requires two inputs, 1.) a string to search in the headers (just like grep), 2.) the PROKKA ffn file. The program will output the sequence to the screen so be sure to save it with '>'. \n",
    "\n"
   ]
  },
  {
   "cell_type": "code",
   "execution_count": null,
   "id": "32fecc29",
   "metadata": {},
   "outputs": [],
   "source": [
    "%%bash\n",
    "# grep for 16S in the PROKKA annotations to see if it exists\n",
    "grep 16S prokka_output/*.ffn\n",
    "# run extract with an exact header\n",
    "extract_sequences \"16S ribosomal RNA\" prokka_output/PROKKA_*.ffn > 16S_sequence.fasta\n",
    "# check if it worked\n",
    "less -S 16S_sequence.fasta"
   ]
  },
  {
   "cell_type": "markdown",
   "id": "91a11251",
   "metadata": {},
   "source": [
    "\n",
    "\n",
    "# BLAST\n",
    "\n",
    "BLAST (Basic Local Alignment Search Tool) is one of the oldest and most fundamental bioinformatic tools available. If you have an unknown sequence it is usually my go to program to identify sequence similarity to a given reference set. At the heart of many programs, like PROKKA and BUSCO, they use BLAST as a primary tool to identify sequence homology. It can be run locally on the server or remotely on NCBI using their web server, we will go through both using simple functionality and examples. Keep in mind that this program has options that span books (literally). \n",
    "\n",
    "There are different 'flavors' of BLAST. For example, **blastn** is used for searching a nucleotide query against a nucleotide reference, **blastp** is used to searching a protein query against a protein reference. etc. etc. These different types of BLASTs have different sorts of advantages. For example, at the protein level sequences tend to be more conserved, this means we can likely identify more distantly related sequences compared to a standard blastn. The BLAST flavor you choose is largely dependent on what sort of data you have.\n",
    "\n",
    "\n",
    "\n",
    "## NCBI Web BLAST\n",
    "\n",
    "https://blast.ncbi.nlm.nih.gov/Blast.cgi\n",
    "\n",
    "![blast_flavors](https://user-images.githubusercontent.com/18738632/42249024-d5b4a2be-7ef6-11e8-954b-e3b697876f83.png)\n",
    "\n",
    "We are going to provide the 16S sequence we just extracted from our prokka results and BLAST it against the complete set of reference nucleotide sequences (nt database) on NCBI in an attempt to identify its species origin. The nt database comprises all the sequences that have been submitted to genbank so if the species has been sequenced before we have a good chance of identifying the sequence. To start we need to click on the 'blastn' option from the link above, this is because we want to blast a nucleotide query sequence against a nucleotide database.\n",
    "\n",
    "You can copy and paste the 16S sequence directly into the page or input the file using the web form. Next you select teh database you want to BLAST against. By default it will use the complete collection of nucleotide sequences. You can change this to contain just 16S sequences or not. Both should hopefully give us the same answer. The rest of the options can be left to default and you can hit \"BLAST\".\n",
    "\n",
    "When it finishes you can scroll down to see your top hits in the database. The best matches are at the top. If you see matches that have high query coverage and sequence similarity you can be fairly confident in the taxonomic assignment and you now how a rough identification of your samples genus!\n",
    "\n",
    "\n",
    "## Command Line BLAST\n",
    "manual: https://www.ncbi.nlm.nih.gov/books/NBK279690/\n",
    "\n",
    "Using the command line BLAST works essentially the same as NCBI BLAST except we have more control. We can specify more options like output formats and also use our own local databases. It is also a lot more useful for pipelines and workflows since it can be automated, you don't need to open a web page and fill out any forms. \n",
    "\n",
    "As a quick example for how BLAST works we will use the same 16S_sequence and BLAST it against our genome assembly.  Before we begin we will make a database out of our contig assembly. This is done to construct a set of files that BLAST can use to speed up its sequence lookup. In the end it means we have to wait less time for our results.\n",
    "\n",
    "* Make a BLAST db from your contig files\n",
    "\n",
    "The only required input is a FASTA file (our contigs), the database type (nucl or prot), and an output name for the new database.\n",
    "\n"
   ]
  },
  {
   "cell_type": "code",
   "execution_count": null,
   "id": "786c410b",
   "metadata": {},
   "outputs": [],
   "source": [
    "%%bash\n",
    "makeblastdb -in contigs.fasta -dbtype nucl -out contigs_db"
   ]
  },
  {
   "cell_type": "markdown",
   "id": "0e67eb15",
   "metadata": {},
   "source": [
    "\n",
    "\n",
    "## BLAST the 16S sequence against your contig database.\n",
    "\n",
    "As I mentioned BLAST has many options, too many to review here. Typically you will want to specify at least four options. The first is your query sequence, the sequence we are trying to locate in our assembly. Next is the 'db', this is our database we just created from our assembly. Third is the name of the output file, use something informative. And finally we specify the output format. There are many options but the most common is output format '6' which is a simple tab delimited file. This output format is often the one required by external programs and is completely customization. You can specify what sorts of columns you want to provide, default is 'qaccver saccver pident length mismatch gapopen qstart qend sstart send evalue bitscore'. This is usually good enough but all these details can be seen in the help menu.\n",
    "\n",
    "If there are mutliple hits for a single query BLAST will provide all of them by default. These hits will be organized by bitscore, which is a measure of our confidence in the match. Bit-score is a combination of match length and sequence similarity. It is up to the user (or an external program) to parse through this file and determine which hits are meaningful\n",
    "\n"
   ]
  },
  {
   "cell_type": "code",
   "execution_count": null,
   "id": "d14b82c0",
   "metadata": {},
   "outputs": [],
   "source": [
    "%%bash\n",
    "# examine the help menu, specifically look at the section about outfmt to see the available columns with explanations.\n",
    "blastn -help\n",
    "# run BLAST\n",
    "blastn -query 16S_sequence.fasta -db contigs_db -out 16S_vs_contigs_6.tsv -outfmt 6\n",
    "# view the results\n",
    "tabview 16S_vs_contigs_6.tsv"
   ]
  },
  {
   "cell_type": "markdown",
   "id": "378340b1",
   "metadata": {},
   "source": [
    "\n",
    "\n",
    "Since this 16S sequence was derived from this assembly you should see a perfect 100% identity match spanning about 1500 nucleotides. \n",
    "\n",
    "\n",
    "## BLAST the entire assembly against the nt database.\n",
    "\n",
    "We store a local copy of the complete nucleotide database on our server. We will be using this to provide a rough taxonomy to every sequence in our assembly and to ultimately identify non-target contaminates (like human and other bacteria) and to confirm our species identification from the 16S BLAST. Later we will be using the output file as in input to  blobtools and to visualize this information. blobtools requires a specifically formatted BLAST file, I therefore provide a script that will run the BLAST to the programs specification. We will simply provide the script with our contigs file and it will complete the task. This is a simple script that is not much different than the example we ran above. It will automatically format a meaningfull output name. \n",
    "\n"
   ]
  },
  {
   "cell_type": "code",
   "execution_count": null,
   "id": "8f7ca9c4",
   "metadata": {},
   "outputs": [],
   "source": [
    "%%bash\n",
    "# run the scipt, note that it will automatically use nohup since it will take about 30 minutes to run\n",
    "blob_blast.sh contigs.fasta\n",
    "# view the reuslts, the last column is the species identification\n",
    "tabview contigs.fasta.vs.nt.cul5.1e5.megablast.out"
   ]
  },
  {
   "cell_type": "markdown",
   "id": "5a9765f2",
   "metadata": {},
   "source": [
    "\n",
    "\n",
    "We will leave this BLAST file for now but will come back to it when we are ready to run blobtools. blobtools requires two input files, the BLAST results and a mapping file (SAM/BAM) which we will generate next.\n",
    "\n",
    "\n",
    "## Read Mapping\n",
    "\n",
    "BWA manual: http://bio-bwa.sourceforge.net/bwa.shtml\n",
    "\n",
    "samtools manual: http://www.htslib.org/doc/samtools-1.2.html\n",
    "\n",
    "Read Mapping refers to the process of aligning short reads to a reference sequence. This reference can be a complete genome, a transcriptome, or in our case de novo assembly. Read mapping is fundamental to many commonly used pipelines like differential expression or SNP analysis. We will be using it to calculate the average coverage of each of our contigs and to calculate the overall coverage of our genome (a requirement for genbank submission).The main output of read mapping is a Sequence Alignment Map format (SAM). The file provides information about where our sequencing reads match to our assembly and information about how it maps. There are hundreds of programs that use SAM files as a primary input. A BAM file is the binary version of a SAM, and can be converted very easily using samtools. \n",
    "\n",
    "SAM format specifications: https://samtools.github.io/hts-specs/SAMv1.pdf\n",
    "\n",
    "Many programs perform read mapping. The recommended program depends on what you are trying to do. My favorite is 'BWA mem' which balances performance and accuracy well. **The input to the program is a referece assembly and reads to map (forward and reverse). The output is a SAM file**. By default BWA writes the SAM file to standard output, I therefore save it directly to a file. There are lots of options, please see the manual to understand what I am using.\n",
    "\n",
    "* Map Reads to your assembly\n",
    "\n"
   ]
  },
  {
   "cell_type": "code",
   "execution_count": null,
   "id": "c8e78cdd",
   "metadata": {},
   "outputs": [],
   "source": [
    "%%bash\n",
    "# Step 1: Index your reference genome. This is a requirement before read mapping.\n",
    "bwa index $fasta\n",
    "# Step 2: Map the reads and construct a SAM file.\n",
    "bwa mem -t 24 $fasta $forward $reverse > raw_mapped.sam\n",
    "# view the file with less, note that to see the data you have to scroll down past all the headers (@SQ).\n",
    "less -S raw_mapped.sam"
   ]
  },
  {
   "cell_type": "markdown",
   "id": "dc7eb49e",
   "metadata": {},
   "source": [
    "\n",
    "\n",
    "* Construct a coverage table using samtools and other programs.\n",
    "\n"
   ]
  },
  {
   "cell_type": "code",
   "execution_count": null,
   "id": "8cb98154",
   "metadata": {},
   "outputs": [],
   "source": [
    "%%bash\n",
    "# Remove sequencing reads that did not match to the assembly and convert the SAM to a BAM.\n",
    "samtools view -@ 24 -Sb  raw_mapped.sam  | samtools sort -@ 24 - sorted_mapped\n",
    "# Examine how many reads mapped with samtools\n",
    "samtools flagstat sorted_mapped.bam\n",
    "# Calculate per base coverage with bedtools\n",
    "\n",
    "# index the new bam file\n",
    "samtools index sorted_mapped.bam\n",
    "\n",
    "bedtools genomecov -ibam sorted_mapped.bam > coverage.out\n",
    "# Calculate per contig coverage with gen_input_table.py\n",
    "gen_input_table.py  --isbedfiles $fasta coverage.out >  coverage_table.tsv\n",
    "# This outputs a simple file with two columns, the contig header and the average coverage."
   ]
  },
  {
   "cell_type": "markdown",
   "id": "6a4f3d62",
   "metadata": {},
   "source": [
    "\n",
    "\n",
    "## Non-target contig removal\n",
    "program: blobtools\n",
    "blobtools manual: https://blobtools.readme.io/docs\n",
    "\n",
    "Blobtools is a tool to visualize our genome assembly. It is also useful for filtering read and assembly data sets. **There are three main inputs to the program: 1.) Contig file (the one we used for BLAST and BWA), 2.) a 'hits' file generated from BLAST, 3.) A SAM or BAM file. The main output of the program are blobplots which plot the GC, coverage, taxonomy, and contigs lengths on a single graph.** \n",
    "\n",
    "The first step (blobtools create) in this short pipeline takes all of our input files and creates a lookup table that is used for plotting and constructing tables. This step does the brunt of the working, parsing the BLAST file to assign taxonomy to each of our sequences, and parsing the SAM file to calculate coverage information.\n",
    "\n",
    "After that is complete we will use 'blobtools view' to output all the data into a human readable table. Finally we will use 'blobtools plot' to construct the blobplot visuals.\n",
    "\n",
    "* Run the blobtools pipeline.\n",
    "\n"
   ]
  },
  {
   "cell_type": "code",
   "execution_count": null,
   "id": "5619a358",
   "metadata": {},
   "outputs": [],
   "source": [
    "%%bash\n",
    "# Create lookup table\n",
    "blobtools create --help\n",
    "blobtools create -i contigs.fasta -b sorted_mapped.bam -t contigs.fasta.vs.nt.cul5.1e5.megablast.out -o blob_out\n",
    "# Create output table\n",
    "blobtools view --help\n",
    "blobtools view -i blob_out.blobDB.json -r all -o blob_taxonomy\n",
    "# view the table, I remove headers with grep -v and view with tabview\n",
    "grep -v '##' blob_taxonomy.blob_out.blobDB.table.txt\n",
    "# Plot the data\n",
    "blobtools plot --help\n",
    "blobtools plot -i blob_out.blobDB.json -r genus"
   ]
  },
  {
   "cell_type": "markdown",
   "id": "39e4cfc8",
   "metadata": {},
   "source": [
    "\n",
    "The final table and plots can be exported to your computer to view. We will be using the table to decide which contigs to remove.\n",
    "\n",
    "![project_cherylandam-sample_lra1-contigs fasta blobdb json bestsum genus p7 span 100 blobplot spades](https://user-images.githubusercontent.com/18738632/42291330-0c6caf52-7f99-11e8-977d-4daf9321d2fe.png)\n",
    "\n",
    "The x-axis on these plots is GC content, the y-axis is the coverage (log transformed). The size of the 'blobs' are the length of the contigs. Colors represent taxonomic assignment (the -r option lets you choose which rank to view). The concept of these plots and ultimately for assembly filtering is that each organism has a unique GC content. For example Streptomyces has an average GC content of about 0.72 while other bacteria can go as low as 0.2. In addition, contamination is most likely has much lower coverage compared to the rest of your assembly. Combine that with the taxonomic assignments and you have multiple lines of evidence to identify your non-target contigs. In the plot above you can fairly easily see what contigs we plan to remove.\n",
    "\n",
    "## Filter the genome assembly:\n",
    "\n",
    "Take your time with this step. There is no exact set of commands that will work with everyones genome. When in doubt about a specific contig I tend to favor keeping it rather than removing it. I start by doing a strict length cutoff of 500 bp long contigs (some sequencing centers are more strict, not allowing any contigs < 1000 or even 5000 bp long.\n",
    "\n",
    "Column headers we will use. #2 == length, #3 == GC content, #5 == Coverage, #15 == family, #18 == genus. \n",
    "\n",
    "I am going to take this one step at a time and construct a final contig list ones we are happy with the cutoff values we choose. I will mainly be using 'awk' to do this filtering, you could also do it in excel. For awk, the '-F' options sets the field separator (\\t for a tsv), next we can call individual columns using $ + column_number.\n",
    "\n",
    "* Filter by length\n",
    "\n"
   ]
  },
  {
   "cell_type": "code",
   "execution_count": null,
   "id": "598e734a",
   "metadata": {},
   "outputs": [],
   "source": [
    "%%bash\n",
    "# make a directory for filtering\n",
    "mkdir ~/mdibl-t3-2018-WGS/filtered_assembly\n",
    "cd ~/mdibl-t3-2018-WGS/filtered_assembly\n",
    "# copy the taxonomy table\n",
    "cp ~/~/mdibl-t3-2018-WGS/blob_taxonomy.blob_out.blobDB.table.txt ./\n",
    "# Filter by length\n",
    "grep -v '#' blob_taxonomy.blob_out.blobDB.table.txt | awk -F'\\t' '$2 > 500' | tabview -\n",
    "# You can always do the opposite to examine what you are losing, do this every time\n",
    "grep -v '#' blob_taxonomy.blob_out.blobDB.table.txt | awk -F'\\t' '$2 < 500' | tabview -\n",
    "# You can check how many contigs are retained with the 'wc' command which counts lines.\n",
    "grep -v '#' blob_taxonomy.blob_out.blobDB.table.txt | awk -F'\\t' '$2 > 500' | wc\n",
    "grep -v '#' blob_taxonomy.blob_out.blobDB.table.txt | awk -F'\\t' '$2 < 500' | wc"
   ]
  },
  {
   "cell_type": "markdown",
   "id": "8edce0c1",
   "metadata": {},
   "source": [
    "\n",
    "\n",
    "* Also filter by coverage.\n",
    "\n",
    "Keeping the command we used above I am now adding some options based on column number 5, the coverage.\n",
    "\n"
   ]
  },
  {
   "cell_type": "code",
   "execution_count": null,
   "id": "f0d5c29c",
   "metadata": {},
   "outputs": [],
   "source": [
    "%%bash\n",
    "# Start with a low number and check what you will lose (I'll try 5)\n",
    "grep -v '#' blob_taxonomy.blob_out.blobDB.table.txt | awk -F'\\t' '$2 > 500' | awk -F'\\t' '$5 > 5' | tabview -\n",
    "# Check what I am losing by doing the opposite\n",
    "grep -v '#' blob_taxonomy.blob_out.blobDB.table.txt | awk -F'\\t' '$2 > 500' | awk -F'\\t' '$5 < 5' | tabview -\n",
    "# Check how many we lose\n",
    "grep -v '#' blob_taxonomy.blob_out.blobDB.table.txt | awk -F'\\t' '$2 > 500' | awk -F'\\t' '$5 < 5' | wc\n",
    "# Try a higher value\n",
    "grep -v '#' blob_taxonomy.blob_out.blobDB.table.txt | awk -F'\\t' '$2 > 500' | awk -F'\\t' '$5 > 15' | tabview -\n",
    "# turns out this makes no difference."
   ]
  },
  {
   "cell_type": "markdown",
   "id": "9e6857a6",
   "metadata": {},
   "source": [
    "\n",
    "Hopefully at some point you will be happy with what you decide for a filtering criteria. Be sure to carefully check what you are throwing away. Do any of the contigs still have the non-target taxonomy assigned? Are you losing anything that has the right taxonomy? If you notice contigs that are obviously contamination how can the filtering options be adjusted to remove these but not out targets? Do you need to add a taxonomy or GC based filter?\n",
    "\n",
    "Assuming we have carefully selected our criteria we are ready to construct a list of contigs to keep. This list will be provided to a program to construct a new filtered FASTA file.\n",
    "\n",
    "## Construct a list of contigs we want to keep.\n",
    "\n",
    " Our current table has many columns. We want just the first column which are contig headers. You will start with the same command you selected for filtering criteria and add an option to just print the first column. Notice the output name that I choose. It should reflect what we use as a filterig criteria.\n",
    " \n",
    " "
   ]
  },
  {
   "cell_type": "code",
   "execution_count": null,
   "id": "dfb44165",
   "metadata": {},
   "outputs": [],
   "source": [
    "%%bash\n",
    " # use awk to constuct list, the new part is the final part of the command which will only print the first column.\n",
    " grep -v '##' blob_taxonomy.blob_out.blobDB.table.txt | awk -F'\\t' '$2 > 500' | awk -F'\\t' '$5 > 20' | tabview -\n",
    " grep -v '##' blob_taxonomy.blob_out.blobDB.table.txt | awk -F'\\t' '$2 > 500' | awk -F'\\t' '$5 > 20' | awk -F'\\t' '{print $1}' > list_of_contigs_to_keep_len500_cov20.txt\n",
    " # view the file to make sure it is a list of contig headers\n",
    " less -S list_of_contigs_to_keep_len500_cov20.txt"
   ]
  },
  {
   "cell_type": "markdown",
   "id": "3e1f499f",
   "metadata": {},
   "source": [
    "\n",
    "\n",
    " ## Filter your assembly based on a list of contigs.\n",
    " \n",
    " I have created a script that takes three arguments. An original FASTA file, a list of headers we want to keep, and an output name for the new FASTA. Be sure to give your final file a meaningful name. Usually somehting like the species name followed by the sample/strain id.\n",
    " \n",
    " "
   ]
  },
  {
   "cell_type": "code",
   "execution_count": null,
   "id": "0a64cdb7",
   "metadata": {},
   "outputs": [],
   "source": [
    "%%bash\n",
    "filter_contigs_by_list.py ~/mdibl-t3-WGS/spades_assembly/contigs.fasta list_of_contigs_to_keep_len500_cov20.txt Streptomyces_A1277_filtered.fasta"
   ]
  },
  {
   "cell_type": "markdown",
   "id": "34f1787d",
   "metadata": {},
   "source": [
    "\n",
    " \n",
    " ## Average coverage from Blobtools table.\n",
    "\n"
   ]
  },
  {
   "cell_type": "code",
   "execution_count": null,
   "id": "0c98e73c",
   "metadata": {},
   "outputs": [],
   "source": [
    "%%bash\n",
    "# Coverage from blob table\n",
    "# remove the initial grep if you want the average coverage for all the contigs\n",
    "grep -f list_to_keep.txt blob_taxonomy.blob_out.blobDB.table.txt | awk '{w = w + $2; e = e + $5 * $2;} END {print e/w}'"
   ]
  },
  {
   "cell_type": "markdown",
   "id": "300c885e",
   "metadata": {},
   "source": [
    "\n",
    " \n",
    " ## BLAST the final contigs against UniVec to ensure no contamination is found.\n",
    " \n",
    " "
   ]
  },
  {
   "cell_type": "code",
   "execution_count": null,
   "id": "065767e1",
   "metadata": {},
   "outputs": [],
   "source": [
    "%%bash\n",
    "# download univec database\n",
    "wget \"https://ftp.ncbi.nlm.nih.gov/pub/UniVec/UniVec\"\n",
    "\n",
    "# BLAST the sequences\n",
    "blastn -reward 1 -penalty -5 -gapopen 3 -gapextend 3 -dust yes -soft_masking true -evalue 700 -searchsp 1750000000000 -query filtered-SKB06.fasta -subject UniVec  -outfmt 6 -out genome_vs_univec.6"
   ]
  },
  {
   "cell_type": "markdown",
   "id": "a79bcad9",
   "metadata": {},
   "source": [
    "\n",
    " \n",
    " \n",
    " \n",
    " # FINISHED!!!!\n",
    " \n",
    " ## Afterthoughts\n",
    " \n",
    " We should now have a cleaned genome assembly that is ready for downstream analyses like submission to NCBI and comparative genomics. \n",
    " \n",
    "It is a good idea to check how the filtering affected your final assembly. Run QUAST again. What is your total genome size? Is it in the range of previously published genomes. Run BUSCO again. Do you get the same results? How does it differ? Reconstruct a blobplot using your new filtered data set. Does it look clean? Are there still some contigs that look like they should be removed?\n",
    "\n",
    "Depending on how you answer these questions you may have to go back and adjust your filtering criteria.\n",
    "\n",
    "## Genome visualization\n",
    "\n",
    "![](img/genome-visual.png)\n",
    "\n",
    "## Plot showing the N50 and genome sizes of Streptomyces genomes on genbank.\n",
    "![streptomyces_genome_paper](https://user-images.githubusercontent.com/18738632/42292594-9b1a437e-7fa1-11e8-8a2e-b39fc9cfdcaf.jpg)\n"
   ]
  }
 ],
 "metadata": {
  "kernelspec": {
   "display_name": "conda_python3",
   "language": "python",
   "name": "conda_python3"
  },
  "language_info": {
   "codemirror_mode": {
    "name": "ipython",
    "version": 3
   },
   "file_extension": ".py",
   "mimetype": "text/x-python",
   "name": "python",
   "nbconvert_exporter": "python",
   "pygments_lexer": "ipython3",
   "version": "3.10.14"
  }
 },
 "nbformat": 4,
 "nbformat_minor": 5
}
