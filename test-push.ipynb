{
 "cells": [
  {
   "cell_type": "code",
   "execution_count": null,
   "id": "06ded80e-d215-405c-83e3-cf4ad079b0f3",
   "metadata": {},
   "outputs": [],
   "source": [
    "# Testing Git Push\n",
    "# https://github.com/NIGMS/NIGMS-Sandbox?tab=readme-ov-file"
   ]
  },
  {
   "cell_type": "code",
   "execution_count": null,
   "id": "52a8c0b7-e0d5-4b94-b909-c45b93009a86",
   "metadata": {},
   "outputs": [],
   "source": [
    "!ls"
   ]
  },
  {
   "cell_type": "code",
   "execution_count": null,
   "id": "52f919fc-b04a-41cc-9b2f-b248e8f8b18e",
   "metadata": {},
   "outputs": [],
   "source": [
    "import math\n",
    "\n",
    "math.log(1)"
   ]
  },
  {
   "cell_type": "code",
   "execution_count": null,
   "id": "091eddae-f807-47ff-88b9-3fc12d967b15",
   "metadata": {},
   "outputs": [],
   "source": []
  }
 ],
 "metadata": {},
 "nbformat": 4,
 "nbformat_minor": 5
}
