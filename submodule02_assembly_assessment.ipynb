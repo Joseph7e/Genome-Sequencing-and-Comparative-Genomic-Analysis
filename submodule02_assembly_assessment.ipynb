{
 "cells": [
  {
   "cell_type": "markdown",
   "id": "3a251c4b-9e9c-4ce1-b715-a8f1ea7dc7cd",
   "metadata": {},
   "source": [
    "# Submodule 2: Assessment of genome assembly and genome annotation\n",
    "\n",
    "In this submodule, you will begin with the genome that you assembled in Submodule 1. The primary goal is to assess the quality of the assembled genome through the lens of what we call the \"5 Cs\": Contiguity, Completeness, Contamination, Coverage, and Content. By utilizing a combination of bioinformatics tools, participants will evaluate the assembled genome and generate outputs that include visualizations, a cleaned genome sequence and functionalannotations. These outputs wil will be used in submodule 4.\n",
    "\n",
    "\n",
    "### Learning Objectives\n",
    "\n",
    "Through this submodule, users will gain hands-on experience in quality assessment, resulting in a deeper understanding of genomic data integrity and the significance of accurate genome sequences.\n",
    "\n",
    "- **Understand and Apply the 5 Cs of Genome Quality**:  \n",
    "  Understand how to assess the overall quality of a genome sequence by examing Contiguity (QUAST), Completeness (BUSCO), Contamination (BLAST/BlobTools), Coverage (BWA/Samtools), and Content (Prokka gene annotations).\n",
    "\n",
    "- **Generate and Interpret Visualizations**:  \n",
    "  Gain proficiency in using bioinformatics tools and foster skills in data analysis and interpretation.\n",
    "\n",
    "- **Relate the Central Dogma of Molecular Biology to Genome Annotation**:  \n",
    "  Connect the principles of the central dogma (DNA → RNA → Protein) to the process of genome annotation, understanding how gene annotations contribute to functional genomics and biological interpretations.\n",
    "\n",
    "- **Produce a Clean and Annotated Genome**:  \n",
    "  Participants will refine the genome based on their assessments, ensuring a high-quality, annotated genome that can be used for further analysis or research applications."
   ]
  },
  {
   "cell_type": "markdown",
   "id": "048beb3d-6133-4361-96c3-eb05e9c28135",
   "metadata": {},
   "source": [
    "## **Install required software**\n",
    "\n",
    "Several additional tools are required for Submodule 2; quast, busco, bwa, samtools, blast, blobtools, and prokka.  As with submodule 1, we will install these tools using __[Conda](https://docs.conda.io/en/latest/)__.\n",
    "\n",
    "Each piece of software, along with links to publications and documentation, will be described in turn. Below is a brief summary of these tools.\n",
    "\n",
    "### List of software\n",
    "| **Tool**       | **Description**                                                                                                                                                           |\n",
    "|:---------------|:--------------------------------------------------------------------------------------------------------------------------------------------------------------------------|\n",
    "| **QUAST**      | Used for evaluating and reporting the quality of genome assemblies by comparing them against reference genomes or generating statistical summaries.                          |\n",
    "| **BUSCO**      | Utilized for assessing genome completeness by searching for conserved single-copy orthologs from specific lineage datasets.                                                 |\n",
    "| **BWA**        | A fast and memory-efficient tool for aligning sequence reads to large reference genomes, commonly used in variant calling pipelines.                                         |\n",
    "| **Samtools**   | Used for manipulating and processing sequence alignments stored in SAM/BAM format. Essential for sorting, indexing, and viewing alignment files.                            |\n",
    "| **BLAST**      | A widely used tool for comparing an input sequence to a database of sequences, identifying regions of local similarity and aiding in functional annotation.                  |\n",
    "| **BlobTools**  | A versatile tool for visualizing and analyzing genome assemblies, helping to identify contamination or misassembled regions by correlating sequence features with taxonomy.   |\n",
    "| **Prokka**     | Used for rapid annotation of prokaryotic genomes, identifying genes, coding sequences, rRNAs, tRNAs, and other genomic features.                                             |"
   ]
  },
  {
   "cell_type": "code",
   "execution_count": 6,
   "id": "1719c82c-e638-42e4-a816-846fa52c646c",
   "metadata": {
    "tags": []
   },
   "outputs": [
    {
     "name": "stdout",
     "output_type": "stream",
     "text": [
      "bioconda/linux-64                                           Using cache\n",
      "bioconda/noarch                                             Using cache\n",
      "conda-forge/linux-64                                        Using cache\n",
      "conda-forge/noarch                                          Using cache\n",
      "nvidia/linux-64                                             Using cache\n",
      "nvidia/noarch                                               Using cache\n",
      "pytorch/linux-64                                            Using cache\n",
      "pytorch/noarch                                              Using cache\n"
     ]
    },
    {
     "name": "stderr",
     "output_type": "stream",
     "text": [
      "warning  libmamba Added empty dependency for problem type SOLVER_RULE_UPDATE\n"
     ]
    },
    {
     "name": "stdout",
     "output_type": "stream",
     "text": [
      "\n",
      "Looking for: ['quast=5.2.0', 'busco=5.4.6', 'bwa=0.7.18', 'samtools=1.18', 'blast=2.15.0', 'blobtools=1.0.1', 'prokka=1.14.6']\n",
      "\n",
      "\n",
      "Pinned packages:\n",
      "  - python 3.9.*\n",
      "\n",
      "\n",
      "Could not solve for environment specs\n",
      "The following packages are incompatible\n",
      "└─ blobtools 1.0.1**  is installable with the potential options\n",
      "   ├─ blobtools 1.0.1 would require\n",
      "   │  └─ python [2.7* |>=2.7,<2.8.0a0 ], which can be installed;\n",
      "   └─ blobtools 1.0.1 would require\n",
      "      └─ matplotlib 2.0.2 , which does not exist (perhaps a missing channel).\n",
      "Installation of quast, busco, bwa, samtools, blast, blobtools, and prokka complete.\n"
     ]
    }
   ],
   "source": [
    "%%bash\n",
    "\n",
    "# Install all tools using mamba (a conda alternative) with specific versions\n",
    "\n",
    "mamba install --channel bioconda \\\n",
    "    quast=5.2.0 \\\n",
    "    busco=5.4.6 \\\n",
    "    bwa=0.7.18 \\\n",
    "    samtools=1.18 \\\n",
    "    blast=2.15.0 \\\n",
    "    blobtools=1.0.1 \\\n",
    "    prokka=1.14.6 \\\n",
    "    -y\n",
    "\n",
    "echo \"Installation of quast, busco, bwa, samtools, blast, blobtools, and prokka complete.\""
   ]
  },
  {
   "cell_type": "markdown",
   "id": "9d496898-5b34-480f-8702-e9f2a58139fb",
   "metadata": {},
   "source": [
    "## Starting Data\n",
    "\n",
    "This submodule starts with the **genome FASTA** file, this will be the primary input for all programs. We will define this as the variable *genome* now, and use that for the remainder of the workflow. This enables the starting data to be easily changed if a user wants to run this tutorial with their own data.\n",
    "\n",
    "Read mapping with BWA to calculate sequencing coverage requires **paired-end sequencing reads in FASTQ format**. These are the reads used in Submodule 1 to assemble the genome. We will define these here as *forward* for the R1 sequencing reads and *reverse* for the R2 sequencing reads."
   ]
  },
  {
   "cell_type": "code",
   "execution_count": 8,
   "id": "a93fc2f4-b579-4d18-9e3b-1a4a47026de6",
   "metadata": {
    "tags": []
   },
   "outputs": [],
   "source": [
    "%%bash\n",
    "\n",
    "# starting genome from submodule 1\n",
    "genome=\n",
    "\n",
    "# raw reads from submodule 1\n",
    "forward=\n",
    "reverse="
   ]
  },
  {
   "cell_type": "markdown",
   "id": "638c8c9b-bd31-4b61-b2b4-c84822767ca4",
   "metadata": {},
   "source": [
    "## Process 1: **Contiguity** assessment using QUAST\n",
    "QUAST (Quality Assessment Tool for Genome Assemblies) is a tool used to evaluate and compare the quality of genome assemblies by providing metrics such as N50, number of contigs, genome length, and misassemblies. Did you get one contig representing your entire genome? Or did you get thousands of contigs representing a highly fragmented genome?\n",
    "\n",
    "QUAST has many functionalities which we will not explore in this tutorial, I encourage you to explore these, for now we are going to use it in its simplest form. The program parses the genome FASTA file and records statsitics about each contig, the length, GC content etc. This type of information is something you would typically provide in a publication or as a way to assess different assemblers/options you may use. \n",
    "\n",
    "The **input** to the program is the genome assembly **FASTA** and the output are various tables and an html/pdf you can export and view."
   ]
  },
  {
   "cell_type": "code",
   "execution_count": null,
   "id": "829a5245-9a06-4a98-8a00-cd1e0e3db39a",
   "metadata": {},
   "outputs": [],
   "source": []
  },
  {
   "cell_type": "markdown",
   "id": "975d4b87-b3d8-4b91-acd5-2ee5a7c324aa",
   "metadata": {},
   "source": [
    "## Process 2: **Completeness** assessment using BUSCO"
   ]
  },
  {
   "cell_type": "code",
   "execution_count": null,
   "id": "221ac192-7110-4b92-81f6-1ef79a029784",
   "metadata": {},
   "outputs": [],
   "source": []
  },
  {
   "cell_type": "markdown",
   "id": "a2b999c3-d1c8-409b-a590-6a533947d91f",
   "metadata": {},
   "source": [
    "## Process 3: **Coverage** assessment using BWA"
   ]
  },
  {
   "cell_type": "code",
   "execution_count": null,
   "id": "37c7007c-b87e-4334-8de6-738c4182c138",
   "metadata": {},
   "outputs": [],
   "source": []
  },
  {
   "cell_type": "markdown",
   "id": "06bd84a5-3d7a-4f1b-b824-e0a1332ed623",
   "metadata": {},
   "source": [
    "## 2.4 - Taxonomic assignment using BLAST and blobtools"
   ]
  },
  {
   "cell_type": "code",
   "execution_count": null,
   "id": "0c6d6e74-0673-4efc-8e25-c9c496629785",
   "metadata": {},
   "outputs": [],
   "source": []
  },
  {
   "cell_type": "markdown",
   "id": "696979b8-dd31-42a0-ac7f-92513b6c909c",
   "metadata": {},
   "source": [
    "### 2.4.1 - BLAST genome assembly against the nt database"
   ]
  },
  {
   "cell_type": "markdown",
   "id": "13dbf048-196b-49c1-b712-09240961755d",
   "metadata": {},
   "source": []
  },
  {
   "cell_type": "markdown",
   "id": "06b74686-e191-49df-a773-4df1fe8e5da2",
   "metadata": {},
   "source": [
    "### 2.4.2 - Combine datasets into a blobtools database"
   ]
  },
  {
   "cell_type": "markdown",
   "id": "c4d9f9e1-e25f-4efb-8be7-78faaf05835d",
   "metadata": {},
   "source": []
  },
  {
   "cell_type": "markdown",
   "id": "bd578fc1-6777-4d18-af07-9763c8b40627",
   "metadata": {},
   "source": [
    "## 2.5 - Filter non-target sequences from de novo assembly"
   ]
  },
  {
   "cell_type": "markdown",
   "id": "ce4d2f08-d2b1-4dc3-8649-8eb1ac77765f",
   "metadata": {},
   "source": [
    "## 2.6 - Genome annotation using PROKKA"
   ]
  }
 ],
 "metadata": {
  "kernelspec": {
   "display_name": "conda_python3",
   "language": "python",
   "name": "conda_python3"
  },
  "language_info": {
   "codemirror_mode": {
    "name": "ipython",
    "version": 3
   },
   "file_extension": ".py",
   "mimetype": "text/x-python",
   "name": "python",
   "nbconvert_exporter": "python",
   "pygments_lexer": "ipython3",
   "version": "3.10.14"
  }
 },
 "nbformat": 4,
 "nbformat_minor": 5
}
