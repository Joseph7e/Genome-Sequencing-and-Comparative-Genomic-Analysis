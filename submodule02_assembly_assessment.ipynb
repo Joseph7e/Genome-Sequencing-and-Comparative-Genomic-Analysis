{
 "cells": [
  {
   "cell_type": "markdown",
   "id": "3a251c4b-9e9c-4ce1-b715-a8f1ea7dc7cd",
   "metadata": {},
   "source": [
    "# Submodule 2: Assessment of genome assembly\n",
    "\n",
    "### Learning Objectives:\n",
    "\n",
    "\n",
    "genome="
   ]
  },
  {
   "cell_type": "markdown",
   "id": "9dad3aca-c59b-4170-a81a-4113623e73a1",
   "metadata": {},
   "source": [
    "## 2.1 - Contiguity assessment using QUAST"
   ]
  },
  {
   "cell_type": "code",
   "execution_count": null,
   "id": "829a5245-9a06-4a98-8a00-cd1e0e3db39a",
   "metadata": {},
   "outputs": [],
   "source": [
    "%%bash\n",
    "# Install QUAST\n",
    "mamba install --channel bioconda python=3.9 quast -y > /dev/null 2>&1\n",
    "\n",
    "quast --version\n",
    "echo \"Installation Complete\""
   ]
  },
  {
   "cell_type": "markdown",
   "id": "975d4b87-b3d8-4b91-acd5-2ee5a7c324aa",
   "metadata": {},
   "source": [
    "## 2.2 - Completeness assessment using BUSCO"
   ]
  },
  {
   "cell_type": "code",
   "execution_count": null,
   "id": "221ac192-7110-4b92-81f6-1ef79a029784",
   "metadata": {},
   "outputs": [],
   "source": [
    "%%bash\n",
    "# Install BUSCO\n",
    "mamba install --channel bioconda python=3.9 busco -y > /dev/null 2>&1\n",
    "\n",
    "busco --version\n",
    "echo \"Installation Complete\""
   ]
  },
  {
   "cell_type": "markdown",
   "id": "a2b999c3-d1c8-409b-a590-6a533947d91f",
   "metadata": {},
   "source": [
    "## 2.3 - Coverage assessment using BWA"
   ]
  },
  {
   "cell_type": "code",
   "execution_count": null,
   "id": "37c7007c-b87e-4334-8de6-738c4182c138",
   "metadata": {},
   "outputs": [],
   "source": [
    "%%bash\n",
    "# Install bwa\n",
    "mamba install --channel bioconda python=3.9 bwa samtools -y > /dev/null 2>&1\n",
    "\n",
    "echo \"Installations of bwa and samtools Complete\""
   ]
  },
  {
   "cell_type": "markdown",
   "id": "06bd84a5-3d7a-4f1b-b824-e0a1332ed623",
   "metadata": {},
   "source": [
    "## 2.4 - Taxonomic assignment using BLAST and blobtools"
   ]
  },
  {
   "cell_type": "code",
   "execution_count": null,
   "id": "0c6d6e74-0673-4efc-8e25-c9c496629785",
   "metadata": {},
   "outputs": [],
   "source": [
    "%%bash\n",
    "# Install BLAST and blobtools\n",
    "mamba install --channel bioconda python=3.9 blast blobtools -y > /dev/null 2>&1\n",
    "\n",
    "busco --version\n",
    "echo \"Installation Complete\""
   ]
  },
  {
   "cell_type": "markdown",
   "id": "696979b8-dd31-42a0-ac7f-92513b6c909c",
   "metadata": {},
   "source": [
    "### 2.4.1 - BLAST genome assembly against the nt database"
   ]
  },
  {
   "cell_type": "markdown",
   "id": "13dbf048-196b-49c1-b712-09240961755d",
   "metadata": {},
   "source": []
  },
  {
   "cell_type": "markdown",
   "id": "06b74686-e191-49df-a773-4df1fe8e5da2",
   "metadata": {},
   "source": [
    "### 2.4.2 - Combine datasets into a blobtools database"
   ]
  },
  {
   "cell_type": "markdown",
   "id": "c4d9f9e1-e25f-4efb-8be7-78faaf05835d",
   "metadata": {},
   "source": []
  },
  {
   "cell_type": "markdown",
   "id": "bd578fc1-6777-4d18-af07-9763c8b40627",
   "metadata": {},
   "source": [
    "## 2.5 - Filter non-target sequences from de novo assembly"
   ]
  },
  {
   "cell_type": "markdown",
   "id": "ce4d2f08-d2b1-4dc3-8649-8eb1ac77765f",
   "metadata": {},
   "source": [
    "## 2.6 - Genome annotation using PROKKA"
   ]
  }
 ],
 "metadata": {
  "kernelspec": {
   "display_name": "conda_python3",
   "language": "python",
   "name": "conda_python3"
  },
  "language_info": {
   "codemirror_mode": {
    "name": "ipython",
    "version": 3
   },
   "file_extension": ".py",
   "mimetype": "text/x-python",
   "name": "python",
   "nbconvert_exporter": "python",
   "pygments_lexer": "ipython3",
   "version": "3.10.14"
  }
 },
 "nbformat": 4,
 "nbformat_minor": 5
}
