{
 "cells": [
  {
   "cell_type": "markdown",
   "id": "38e4d452-3752-43a5-be5a-65ac3cfa4611",
   "metadata": {},
   "source": [
    "# Submodule 4: Comparative genomics analysis\n",
    "--------\n",
    "## Overview\n",
    "In this submodule, you will begin with a directory of proteomes from *de novo* assembled and annotated genomes. A single bacterial genome was analyzed in Submodules 1 & 2 and we automated the process on many genomes in Submodule 3 to produce a total of XX genome sequences. We will add to this dataset with reference genomes publicly available from NCBI. These genome sequences are curated for quality and provide gene accessions with curated functional information. These datasets are crucial for providing context to our new dataset.\n",
    "\n",
    "Genome assembly is a foundational step that allows researchers to generate a complete picture of the genetic material in a given organism. Assessing the quality and completeness of a genome assembly ensures that it accurately reflects the original genome, providing a reliable foundation for further analysis. Comparative genomics builds on genome assembly by comparing the genomes of different species or individuals. This field focuses on identifying similarities and differences in DNA sequences to understand evolutionary relationships and reveal the genetic underpinnings of adaptation and diversity. Comparative genomics can uncover how species evolve and adapt over time and identify genes associated with specific traits or diseases.\n",
    "\n",
    "<p align=\"center\">\n",
    "  <img src=\"images/toxo_multi_alignment.png\" width=\"80%\"/>\n",
    "</p>\n",
    "\n",
    "### Learning Objectives\n",
    "\n",
    "Through this submodule, users will gain experience in comparative genomics, resulting in an understanding of how to use existing genomes a reference points to better understand the context of a novel genome. You will Learn to perform comparative genomic analyses to identify similarities and differences across genomes, run phylogenomic analyses, construct pangenomes to capture genetic diversity. You will then apply these techniques to address biological questions and hypotheses. \n",
    "\n",
    "- **Access Genome Datasets from the NCBI**:<br>\n",
    "  Participants will use command line tools to acces genomes on NCBI for use in comparative genomics analyses.\n",
    "    \n",
    "- **Perform and Visualize Comparative Genomics Analyses**:<br>\n",
    "  Gain proficiency in using comparative genomics tools and visuazing their outputs. Participants will use these outputs to identify patterns across genomes and develop hypotheses about genome relatedness, gene loss or gain events, and gene duplications.\n",
    "\n",
    "- **Create and Understand Phylogeny Trees**:<br>\n",
    "  Use both ortholog groups and average nucleotide identity in genes to create phylogeny trees. Use phylogeny trees to gain an understanding of the see species relatedness and to understand taxonomic groupings.\n",
    "\n",
    "- **Draw Conclusions about Assembled Genome**:<br>\n",
    "  Using the comparisons to fully annotated genomes, participants should be able to identify patterns in host and strain of comparator genomes and draw their own conclusions about the genomes assembled in submodules 1-3."
   ]
  },
  {
   "cell_type": "markdown",
   "id": "9377c6cb-8acc-4c6a-9caa-1bb3e7e75fd7",
   "metadata": {},
   "source": [
    "## **Install required software**\n",
    "\n",
    "A few more tools are required for Submodule 4; OrthoFinder, UpSet plot, and fastANI. As with submodule 1, we will install these tools using __[Conda](https://docs.conda.io/en/latest/)__.\n",
    "\n",
    "Each piece of software, along with links to publications and documentation, will be described in turn. Below is a brief summary of these tools.\n",
    "\n",
    "### List of software\n",
    "| **Tool**       | **Description**                                                                                                                                                           |\n",
    "|:---------------|:--------------------------------------------------------------------------------------------------------------------------------------------------------------------------|\n",
    "| **OrthoFinder**      | Finds orthogroups and orthologs, infers rooted gene trees for all orthogroups and identifies all of the gene duplication events in those gene trees.                         |\n",
    "| **UpSet Plots**      | UpSet plots are a data visualization method for showing set data with more than three intersecting sets.                                                  |\n",
    "| **fastANI**        | Developed for fast alignment-free computation of whole-genome Average Nucleotide Identity (ANI). ANI is defined as mean nucleotide identity of orthologous gene pairs shared between two microbial genomes.     \n",
    "| **seaborn**        | A python library necessary for creating complex heatmaps.   |"
   ]
  },
  {
   "cell_type": "code",
   "execution_count": 60,
   "id": "22777784-a00c-49f3-9ef0-9b0ae84687de",
   "metadata": {},
   "outputs": [],
   "source": [
    "%%bash\n",
    "\n",
    "# other installs are already complete, we just need to install seaborn\n",
    "mamba install seaborn --quiet"
   ]
  },
  {
   "cell_type": "markdown",
   "id": "371e7605-9f1c-4c35-9492-f5b301a3f332",
   "metadata": {},
   "source": [
    "## Starting Data\n",
    "\n",
    "This submodule begins with a directory of genomes in FASTA format and a directory of proteomes in FAA (FASTA amino acid) format. This module is designd to work with data produced from submodule 3, but feel free replace the FAA files within the directory *proteomes* or add additional FAA files as neeeded."
   ]
  },
  {
   "cell_type": "code",
   "execution_count": 1,
   "id": "cc8631f3-4be5-408e-ac17-356ba87f8e65",
   "metadata": {},
   "outputs": [
    {
     "name": "stdout",
     "output_type": "stream",
     "text": [
      "SRR10056681.faa\n",
      "SRR10056778.faa\n",
      "SRR10056784.faa\n",
      "SRR10056829.faa\n",
      "SRR10056855.faa\n",
      "SRR10056856.faa\n",
      "SRR10056914.faa\n",
      "SRR10067958.faa\n",
      "SRR10068079.faa\n",
      "SRR10068117.faa\n"
     ]
    }
   ],
   "source": [
    "%%bash\n",
    "\n",
    "ls data/proteomes/"
   ]
  },
  {
   "cell_type": "code",
   "execution_count": 2,
   "id": "2c672628-212e-47d3-9ec5-f020d42f9be3",
   "metadata": {},
   "outputs": [
    {
     "name": "stdout",
     "output_type": "stream",
     "text": [
      "SRR10056681.fasta\n",
      "SRR10056778.fasta\n",
      "SRR10056784.fasta\n",
      "SRR10056829.fasta\n",
      "SRR10056855.fasta\n",
      "SRR10056856.fasta\n",
      "SRR10056914.fasta\n",
      "SRR10067958.fasta\n",
      "SRR10068079.fasta\n",
      "SRR10068117.fasta\n"
     ]
    }
   ],
   "source": [
    "%%bash\n",
    "\n",
    "ls data/genomes/"
   ]
  },
  {
   "cell_type": "markdown",
   "id": "2a4a6a7a-c3e3-4d12-b64d-d9959f4b2ba8",
   "metadata": {},
   "source": [
    "## Process 1: Downloading Reference Genomes and Proteomes from NCBI\n",
    "We have a directory of `genomes` and `proteomes` we created in submodules 1-3. To provide these context, we can also access thousands of deposited and annotated bacterial genomes and proteomes from NCBI with a few commands."
   ]
  },
  {
   "cell_type": "code",
   "execution_count": 3,
   "id": "7a726735-7171-4330-bb60-b2bd58b4a2a1",
   "metadata": {},
   "outputs": [],
   "source": [
    "%%bash\n",
    "\n",
    "# download the list of all refseq assemblies\n",
    "if [[ ! -s assembly_summary_refseq.txt ]]\n",
    "then\n",
    "    wget https://ftp.ncbi.nlm.nih.gov/genomes/ASSEMBLY_REPORTS/assembly_summary_refseq.txt -O assembly_summary_refseq.txt --quiet --no-check-certificate\n",
    "fi"
   ]
  },
  {
   "cell_type": "code",
   "execution_count": 41,
   "id": "19128ed3-63cf-47f3-b9ca-514f82752355",
   "metadata": {},
   "outputs": [
    {
     "name": "stdout",
     "output_type": "stream",
     "text": [
      "GCF_000009085.1\tPRJNA57587\tSAMEA1705929\tna\treference genome\t192222\t197\tCampylobacter jejuni subsp. jejuni NCTC 11168 = ATCC 700819\tstrain=NCTC 11168\tna\tlatest\tComplete Genome\tMajor\tFull\t2003-05-06\tASM908v1\tSanger Institute\tGCA_000009085.1\tidentical\thttps://ftp.ncbi.nlm.nih.gov/genomes/all/GCF/000/009/085/GCF_000009085.1_ASM908v1\tna\tna\tna        \thaploid\tbacteria\t1641481\t1641481\t30.500000\t1\t1\t1\tNCBI RefSeq\tAnnotation submitted by NCBI RefSeq\t2022-07-18\t1668\t1572\t56\t10688204;17565669\n",
      "GCF_000011865.1\tPRJNA224116\tSAMN02604007\tna\tna\t195099\t197\tCampylobacter jejuni RM1221\tstrain=RM1221\tna\tlatest\tComplete Genome\tMajor\tFull\t2005-01-06\tASM1186v1\tTIGR\tGCA_000011865.1\tidentical\thttps://ftp.ncbi.nlm.nih.gov/genomes/all/GCF/000/011/865/GCF_000011865.1_ASM1186v1\tna\tna\tna        \thaploid\tbacteria\t1777831\t1777831\t30.500000\t1\t1\t1\tNCBI RefSeq\tGCF_000011865.1-RS_2024_05_07\t2024-05-07\t1891\t1767\t56\t15660156\n",
      "GCF_000015525.1\tPRJNA224116\tSAMN02604044\tna\tna\t354242\t197\tCampylobacter jejuni subsp. jejuni 81-176\tstrain=81-176\tna\tlatest\tComplete Genome\tMajor\tFull\t2007-01-09\tASM1552v1\tTIGR\tGCA_000015525.1\tidentical\thttps://ftp.ncbi.nlm.nih.gov/genomes/all/GCF/000/015/525/GCF_000015525.1_ASM1552v1\tna\tna\tna        \thaploid\tbacteria\t1699052\t1699052\t30.500000\t3\t3\t3\tNCBI RefSeq\tGCF_000015525.1-RS_2024_06_30\t2024-06-30\t1758\t1651\t56\tna\n"
     ]
    }
   ],
   "source": [
    "%%bash\n",
    "\n",
    "# we can use grep to search for our target organism\n",
    "grep \"Campylobacter jejuni\" assembly_summary_refseq.txt | head -n 3"
   ]
  },
  {
   "cell_type": "markdown",
   "id": "cbf86e68-fe72-4dda-bdb3-017aa996f39e",
   "metadata": {},
   "source": [
    "<div class=\"alert alert-block alert-info\"><b>Tip</b>: Click on one of the blue highlighted links above to be taken to an assembly page on NCBIs server. Notice how the assembly page is laid out just like a directory and the link looks like a path. This is just like how our cloud server works!</div>"
   ]
  },
  {
   "cell_type": "markdown",
   "id": "f0c1ab77-d4b6-451c-9c87-17b9f15989ec",
   "metadata": {},
   "source": [
    "<p align=\"center\">\n",
    "  <img src=\"images/ncbi_screenshot.png\" width=\"80%\"/>\n",
    "</p>"
   ]
  },
  {
   "cell_type": "markdown",
   "id": "5fd4089c-05a3-4ac6-b270-cfb985084049",
   "metadata": {},
   "source": [
    "Let's use grep again to search for our organism, but this time we are going to `sort` the results randomly and take the top 10 results. We can then use `cut` to select only the 20th column which contains the link. After, we will loop through the links and download them by adding the file we want from the assembly directory to the end of the link."
   ]
  },
  {
   "cell_type": "code",
   "execution_count": 44,
   "id": "f85690d3-f57e-4e0c-8c62-c5abbf74b9d2",
   "metadata": {},
   "outputs": [
    {
     "name": "stdout",
     "output_type": "stream",
     "text": [
      "Downloading https://ftp.ncbi.nlm.nih.gov/genomes/all/GCF/036/574/495/GCF_036574495.1_ASM3657449v1\n",
      "Downloading https://ftp.ncbi.nlm.nih.gov/genomes/all/GCF/002/178/195/GCF_002178195.1_ASM217819v1\n",
      "Downloading https://ftp.ncbi.nlm.nih.gov/genomes/all/GCF/001/877/725/GCF_001877725.1_ASM187772v1\n",
      "Downloading https://ftp.ncbi.nlm.nih.gov/genomes/all/GCF/037/733/045/GCF_037733045.1_ASM3773304v1\n",
      "Downloading https://ftp.ncbi.nlm.nih.gov/genomes/all/GCF/019/297/285/GCF_019297285.1_ASM1929728v1\n",
      "Downloading https://ftp.ncbi.nlm.nih.gov/genomes/all/GCF/036/578/165/GCF_036578165.1_ASM3657816v1\n",
      "Downloading https://ftp.ncbi.nlm.nih.gov/genomes/all/GCF/964/233/685/GCF_964233685.1_CNRERY-01897\n",
      "Downloading https://ftp.ncbi.nlm.nih.gov/genomes/all/GCF/001/764/295/GCF_001764295.1_ASM176429v1\n",
      "Downloading https://ftp.ncbi.nlm.nih.gov/genomes/all/GCF/001/763/575/GCF_001763575.1_ASM176357v1\n",
      "Downloading https://ftp.ncbi.nlm.nih.gov/genomes/all/GCF/019/297/005/GCF_019297005.1_ASM1929700v1\n"
     ]
    }
   ],
   "source": [
    "%%bash\n",
    "\n",
    "links=$(grep \"Campylobacter jejuni\" assembly_summary_refseq.txt | sort -R | head -n 10 | cut -f 20)\n",
    "\n",
    "for link in $links\n",
    "do\n",
    "    echo Downloading $(echo $link)\n",
    "\n",
    "    # gets file names\n",
    "    genome_file=$(echo $link | awk -F'/' '{print $NF}')_genomic.fna.gz\n",
    "    proteome_file=$(echo $link | awk -F'/' '{print $NF}')_protein.faa.gz\n",
    "\n",
    "    # gets fna download link\n",
    "    fna=$(echo $link)/$(echo $genome_file)\n",
    "    faa=$(echo $link)/$(echo $proteome_file)\n",
    "\n",
    "    # wget downloads the file\n",
    "    # -P specifies a directory prefix\n",
    "    wget -P data/genomes/ $fna --quiet --no-check-certificate\n",
    "    wget -P data/proteomes/ $faa --quiet --no-check-certificate\n",
    "\n",
    "done"
   ]
  },
  {
   "cell_type": "code",
   "execution_count": 45,
   "id": "fda0745f-75bd-422e-96fd-2b6829b44331",
   "metadata": {},
   "outputs": [],
   "source": [
    "%%bash\n",
    "\n",
    "# lastly, we have to unzip the genome and proteome files\n",
    "gunzip data/genomes/*.gz\n",
    "gunzip data/proteomes/*.gz"
   ]
  },
  {
   "cell_type": "markdown",
   "id": "ae7e677e-0efe-4487-9495-bb55b9a0191e",
   "metadata": {},
   "source": [
    "We now have 10 genomes and 10 proteomes from NCBI which we can use for comparative genomics! Let's start by comparing our genomes to the NCBI isolates with FastANI."
   ]
  },
  {
   "cell_type": "markdown",
   "id": "615549a3-0c68-4dc4-b6d2-d22aa7f1fb94",
   "metadata": {},
   "source": [
    "## Process 2: Comparing Average Nucleotide Identity using FastANI\n",
    "Program: FastANI - Fast alignment-free computation of whole-genome Average Nucleotide Identity (ANI)\n",
    "Citation : Jain, C., Rodriguez-R, L.M., Phillippy, A.M. et al. *High throughput ANI analysis of 90K prokaryotic genomes reveals clear species boundaries.* Nat Commun 9, 5114 (2018). https://doi.org/10.1038/s41467-018-07641-9\n",
    "Manual: https://github.com/ParBLiSS/FastANI\n",
    "\n",
    "FastANI is developed for fast alignment-free computation of whole-genome Average Nucleotide Identity (ANI). ANI is defined as mean nucleotide identity of orthologous gene pairs shared between two microbial genomes. FastANI supports pairwise comparison of both complete and draft genome assemblies and avoids expensive sequence alignments in most ANI tools. With all our genomes on hand, we can make an initial comparison of ANI to give a preview of potential patterns among our genome set."
   ]
  },
  {
   "cell_type": "code",
   "execution_count": 75,
   "id": "b789175c-07b7-4935-8158-72ff58546271",
   "metadata": {},
   "outputs": [
    {
     "name": "stdout",
     "output_type": "stream",
     "text": [
      "-----------------\n",
      "fastANI is a fast alignment-free implementation for computing whole-genome Average Nucleotide Identity (ANI) between genomes\n",
      "-----------------\n",
      "Example usage:\n",
      "$ fastANI -q genome1.fa -r genome2.fa -o output.txt\n",
      "$ fastANI -q genome1.fa --rl genome_list.txt -o output.txt\n",
      "\n",
      "SYNOPSIS\n",
      "--------\n",
      "fastANI [-h] [-r <value>] [--rl <value>] [-q <value>] [--ql <value>] [-k\n",
      "        <value>] [-t <value>] [--fragLen <value>] [--minFraction <value>]\n",
      "        [--maxRatioDiff <value>] [--visualize] [--matrix] [-o <value>] [-s] [-v]\n",
      "\n",
      "OPTIONS\n",
      "--------\n",
      "-h, --help\n",
      "     print this help page\n",
      "\n",
      "-r, --ref <value>\n",
      "     reference genome (fasta/fastq)[.gz]\n",
      "\n",
      "--rl, --refList <value>\n",
      "     a file containing list of reference genome files, one genome per line\n",
      "\n",
      "-q, --query <value>\n",
      "     query genome (fasta/fastq)[.gz]\n",
      "\n",
      "--ql, --queryList <value>\n",
      "     a file containing list of query genome files, one genome per line\n",
      "\n",
      "-k, --kmer <value>\n",
      "     kmer size <= 16 [default : 16]\n",
      "\n",
      "-t, --threads <value>\n",
      "     thread count for parallel execution [default : 1]\n",
      "\n",
      "--fragLen <value>\n",
      "     fragment length [default : 3,000]\n",
      "\n",
      "--minFraction <value>\n",
      "     minimum fraction of genome that must be shared for trusting ANI. If\n",
      "     reference and query genome size differ, smaller one among the two is\n",
      "     considered. [default : 0.2]\n",
      "\n",
      "--maxRatioDiff <value>\n",
      "     maximum difference between (Total Ref. Length/Total Occ. Hashes) and (Total\n",
      "     Ref. Length/Total No. Hashes). [default : 10.0]\n",
      "\n",
      "--visualize\n",
      "     output mappings for visualization, can be enabled for single genome to\n",
      "     single genome comparison only [disabled by default]\n",
      "\n",
      "--matrix\n",
      "     also output ANI values as lower triangular matrix (format inspired from\n",
      "     phylip). If enabled, you should expect an output file with .matrix\n",
      "     extension [disabled by default]\n",
      "\n",
      "-o, --output <value>\n",
      "     output file name\n",
      "\n",
      "-s, --sanityCheck\n",
      "     run sanity check\n",
      "\n",
      "-v, --version\n",
      "     show version\n",
      "\n"
     ]
    }
   ],
   "source": [
    "%%bash\n",
    "\n",
    "# take a look at the help menu\n",
    "fastANI -h"
   ]
  },
  {
   "cell_type": "markdown",
   "id": "1f0b69a5-7ba4-4275-bc1c-f22d71633f4e",
   "metadata": {},
   "source": [
    "We want to run FastANI with all of our genomes queried against each other. This corresponds to the example in the manual `fastANI --ql [QUERY_LIST] --rl [REFERENCE_LIST] -o [OUTPUT_FILE]`. The query and reference lists are lists of the paths to our genomes. Let's first make these files with some more bash looping."
   ]
  },
  {
   "cell_type": "code",
   "execution_count": 68,
   "id": "fe86229f-a25e-481e-b88c-13c61e2b2fd1",
   "metadata": {},
   "outputs": [
    {
     "name": "stdout",
     "output_type": "stream",
     "text": [
      "data/genomes/GCF_001763575.1_ASM176357v1_genomic.fna\n",
      "data/genomes/GCF_001764295.1_ASM176429v1_genomic.fna\n",
      "data/genomes/GCF_001877725.1_ASM187772v1_genomic.fna\n",
      "data/genomes/GCF_002178195.1_ASM217819v1_genomic.fna\n",
      "data/genomes/GCF_019297005.1_ASM1929700v1_genomic.fna\n",
      "data/genomes/GCF_019297285.1_ASM1929728v1_genomic.fna\n",
      "data/genomes/GCF_036574495.1_ASM3657449v1_genomic.fna\n",
      "data/genomes/GCF_036578165.1_ASM3657816v1_genomic.fna\n",
      "data/genomes/GCF_037733045.1_ASM3773304v1_genomic.fna\n",
      "data/genomes/GCF_964233685.1_CNRERY-01897_genomic.fna\n",
      "data/genomes/SRR10056681.fasta\n",
      "data/genomes/SRR10056778.fasta\n",
      "data/genomes/SRR10056784.fasta\n",
      "data/genomes/SRR10056829.fasta\n",
      "data/genomes/SRR10056855.fasta\n",
      "data/genomes/SRR10056856.fasta\n",
      "data/genomes/SRR10056914.fasta\n",
      "data/genomes/SRR10067958.fasta\n",
      "data/genomes/SRR10068079.fasta\n",
      "data/genomes/SRR10068117.fasta\n"
     ]
    }
   ],
   "source": [
    "%%bash\n",
    "\n",
    "# looping through all genome files in our genome directory\n",
    "for genome in data/genomes/*\n",
    "do\n",
    "    # readlink gets the full path to the genome, tee writes the path to two files at once\n",
    "    echo $genome | tee -a query_list.txt reference_list.txt\n",
    "done"
   ]
  },
  {
   "cell_type": "code",
   "execution_count": 76,
   "id": "25b89b71-87e8-4abe-a214-f099b43a9465",
   "metadata": {},
   "outputs": [
    {
     "name": "stderr",
     "output_type": "stream",
     "text": [
      ">>>>>>>>>>>>>>>>>>\n",
      "Reference = [data/genomes/GCF_001763575.1_ASM176357v1_genomic.fna, data/genomes/GCF_001764295.1_ASM176429v1_genomic.fna, data/genomes/GCF_001877725.1_ASM187772v1_genomic.fna, data/genomes/GCF_002178195.1_ASM217819v1_genomic.fna, data/genomes/GCF_019297005.1_ASM1929700v1_genomic.fna, data/genomes/GCF_019297285.1_ASM1929728v1_genomic.fna, data/genomes/GCF_036574495.1_ASM3657449v1_genomic.fna, data/genomes/GCF_036578165.1_ASM3657816v1_genomic.fna, data/genomes/GCF_037733045.1_ASM3773304v1_genomic.fna, data/genomes/GCF_964233685.1_CNRERY-01897_genomic.fna, data/genomes/SRR10056681.fasta, data/genomes/SRR10056778.fasta, data/genomes/SRR10056784.fasta, data/genomes/SRR10056829.fasta, data/genomes/SRR10056855.fasta, data/genomes/SRR10056856.fasta, data/genomes/SRR10056914.fasta, data/genomes/SRR10067958.fasta, data/genomes/SRR10068079.fasta, data/genomes/SRR10068117.fasta]\n",
      "Query = [data/genomes/GCF_001763575.1_ASM176357v1_genomic.fna, data/genomes/GCF_001764295.1_ASM176429v1_genomic.fna, data/genomes/GCF_001877725.1_ASM187772v1_genomic.fna, data/genomes/GCF_002178195.1_ASM217819v1_genomic.fna, data/genomes/GCF_019297005.1_ASM1929700v1_genomic.fna, data/genomes/GCF_019297285.1_ASM1929728v1_genomic.fna, data/genomes/GCF_036574495.1_ASM3657449v1_genomic.fna, data/genomes/GCF_036578165.1_ASM3657816v1_genomic.fna, data/genomes/GCF_037733045.1_ASM3773304v1_genomic.fna, data/genomes/GCF_964233685.1_CNRERY-01897_genomic.fna, data/genomes/SRR10056681.fasta, data/genomes/SRR10056778.fasta, data/genomes/SRR10056784.fasta, data/genomes/SRR10056829.fasta, data/genomes/SRR10056855.fasta, data/genomes/SRR10056856.fasta, data/genomes/SRR10056914.fasta, data/genomes/SRR10067958.fasta, data/genomes/SRR10068079.fasta, data/genomes/SRR10068117.fasta]\n",
      "Kmer size = 16\n",
      "Fragment length = 3000\n",
      "Threads = 24\n",
      "ANI output file = fastani_output.tsv\n",
      "Sanity Check  = 0\n",
      ">>>>>>>>>>>>>>>>>>\n",
      "INFO [thread 0], skch::main, Count of threads executing parallel_for : 24\n",
      "INFO [thread 0], skch::Sketch::build, window size for minimizer sampling  = 24\n",
      "INFO [thread 0], skch::Sketch::build, minimizers picked from reference = 136859\n",
      "INFO [thread 0], skch::Sketch::index, unique minimizers = 129976\n",
      "INFO [thread 0], skch::Sketch::computeFreqHist, Frequency histogram of minimizers = (1, 126787) ... (8, 2)\n",
      "INFO [thread 0], skch::Sketch::computeFreqHist, consider all minimizers during lookup.\n",
      "INFO [thread 0], skch::main, Time spent sketching the reference : 0.202202 sec\n",
      "INFO [thread 0], skch::main, Start Map 1\n",
      "INFO [thread 0], skch::main, Time spent mapping fragments in query #1 : 0.350457 sec\n",
      "INFO [thread 0], skch::main, Time spent post mapping : 7.6028e-05 sec\n",
      "INFO [thread 0], skch::main, Start Map 2\n",
      "INFO [thread 0], skch::main, Time spent mapping fragments in query #2 : 0.307536 sec\n",
      "INFO [thread 0], skch::main, Time spent post mapping : 7.7477e-05 sec\n",
      "INFO [thread 0], skch::main, Start Map 3\n",
      "INFO [thread 0], skch::main, Time spent mapping fragments in query #3 : 0.311408 sec\n",
      "INFO [thread 0], skch::main, Time spent post mapping : 6.2507e-05 sec\n",
      "INFO [thread 0], skch::main, Start Map 4\n",
      "INFO [thread 0], skch::main, Time spent mapping fragments in query #4 : 0.280114 sec\n",
      "INFO [thread 0], skch::main, Time spent post mapping : 5.2037e-05 sec\n",
      "INFO [thread 0], skch::main, Start Map 5\n",
      "INFO [thread 0], skch::main, Time spent mapping fragments in query #5 : 0.250579 sec\n",
      "INFO [thread 0], skch::main, Time spent post mapping : 4.9659e-05 sec\n",
      "INFO [thread 0], skch::main, Start Map 6\n",
      "INFO [thread 0], skch::main, Time spent mapping fragments in query #6 : 0.223556 sec\n",
      "INFO [thread 0], skch::main, Time spent post mapping : 4.4743e-05 sec\n",
      "INFO [thread 0], skch::main, Start Map 7\n",
      "INFO [thread 0], skch::main, Time spent mapping fragments in query #7 : 0.303611 sec\n",
      "INFO [thread 0], skch::main, Time spent post mapping : 5.9329e-05 sec\n",
      "INFO [thread 0], skch::main, Start Map 8\n",
      "INFO [thread 21], skch::main, ready to exit the loop\n",
      "INFO [thread 23], skch::main, ready to exit the loop\n",
      "INFO [thread 0], skch::main, Time spent mapping fragments in query #8 : 0.30011 sec\n",
      "INFO [thread 0], skch::main, Time spent post mapping : 5.551e-05 sec\n",
      "INFO [thread 0], skch::main, Start Map 9\n",
      "INFO [thread 22], skch::main, ready to exit the loop\n",
      "INFO [thread 20], skch::main, ready to exit the loop\n",
      "INFO [thread 0], skch::main, Time spent mapping fragments in query #9 : 0.319586 sec\n",
      "INFO [thread 0], skch::main, Time spent post mapping : 6.7886e-05 sec\n",
      "INFO [thread 0], skch::main, Start Map 10\n",
      "INFO [thread 0], skch::main, Time spent mapping fragments in query #10 : 0.308437 sec\n",
      "INFO [thread 0], skch::main, Time spent post mapping : 5.7834e-05 sec\n",
      "INFO [thread 0], skch::main, Start Map 11\n",
      "INFO [thread 0], skch::main, Time spent mapping fragments in query #11 : 0.300637 sec\n",
      "INFO [thread 0], skch::main, Time spent post mapping : 5.5326e-05 sec\n",
      "INFO [thread 0], skch::main, Start Map 12\n",
      "INFO [thread 0], skch::main, Time spent mapping fragments in query #12 : 0.277415 sec\n",
      "INFO [thread 0], skch::main, Time spent post mapping : 5.3353e-05 sec\n",
      "INFO [thread 0], skch::main, Start Map 13\n",
      "INFO [thread 0], skch::main, Time spent mapping fragments in query #13 : 0.279279 sec\n",
      "INFO [thread 0], skch::main, Time spent post mapping : 7.1852e-05 sec\n",
      "INFO [thread 0], skch::main, Start Map 14\n",
      "INFO [thread 0], skch::main, Time spent mapping fragments in query #14 : 0.246139 sec\n",
      "INFO [thread 0], skch::main, Time spent post mapping : 4.8754e-05 sec\n",
      "INFO [thread 0], skch::main, Start Map 15\n",
      "INFO [thread 0], skch::main, Time spent mapping fragments in query #15 : 0.306794 sec\n",
      "INFO [thread 0], skch::main, Time spent post mapping : 5.9269e-05 sec\n",
      "INFO [thread 0], skch::main, Start Map 16\n",
      "INFO [thread 0], skch::main, Time spent mapping fragments in query #16 : 0.284299 sec\n",
      "INFO [thread 0], skch::main, Time spent post mapping : 5.3795e-05 sec\n",
      "INFO [thread 0], skch::main, Start Map 17\n",
      "INFO [thread 0], skch::main, Time spent mapping fragments in query #17 : 0.2499 sec\n",
      "INFO [thread 0], skch::main, Time spent post mapping : 6.412e-05 sec\n",
      "INFO [thread 0], skch::main, Start Map 18\n",
      "INFO [thread 13], skch::main, ready to exit the loop\n",
      "INFO [thread 11], skch::main, ready to exit the loop\n",
      "INFO [thread 0], skch::main, Time spent mapping fragments in query #18 : 0.24637 sec\n",
      "INFO [thread 0], skch::main, Time spent post mapping : 4.9172e-05 sec\n",
      "INFO [thread 0], skch::main, Start Map 19\n",
      "INFO [thread 18], skch::main, ready to exit the loop\n",
      "INFO [thread 15], skch::main, ready to exit the loop\n",
      "INFO [thread 3], skch::main, ready to exit the loop\n",
      "INFO [thread 19], skch::main, ready to exit the loop\n",
      "INFO [thread 0], skch::main, Time spent mapping fragments in query #19 : 0.267275 sec\n",
      "INFO [thread 0], skch::main, Time spent post mapping : 5.4345e-05 sec\n",
      "INFO [thread 0], skch::main, Start Map 20\n",
      "INFO [thread 10], skch::main, ready to exit the loop\n",
      "INFO [thread 0], skch::main, Time spent mapping fragments in query #20 : 0.284874 sec\n",
      "INFO [thread 0], skch::main, Time spent post mapping : 5.3167e-05 sec\n",
      "INFO [thread 0], skch::main, ready to exit the loop\n",
      "INFO [thread 6], skch::main, ready to exit the loop\n",
      "INFO [thread 7], skch::main, ready to exit the loop\n",
      "INFO [thread 9], skch::main, ready to exit the loop\n",
      "INFO [thread 5], skch::main, ready to exit the loop\n",
      "INFO [thread 8], skch::main, ready to exit the loop\n",
      "INFO [thread 16], skch::main, ready to exit the loop\n",
      "INFO [thread 17], skch::main, ready to exit the loop\n",
      "INFO [thread 4], skch::main, ready to exit the loop\n",
      "INFO [thread 12], skch::main, ready to exit the loop\n",
      "INFO [thread 14], skch::main, ready to exit the loop\n",
      "INFO [thread 1], skch::main, ready to exit the loop\n",
      "INFO [thread 2], skch::main, ready to exit the loop\n",
      "INFO, skch::main, parallel_for execution finished\n"
     ]
    }
   ],
   "source": [
    "%%bash\n",
    "\n",
    "fastANI --ql query_list.txt --rl reference_list.txt -t 24 -o fastani_output.tsv"
   ]
  },
  {
   "cell_type": "code",
   "execution_count": 77,
   "id": "20961eba-3cc4-4c32-96c6-2e4786bf001a",
   "metadata": {},
   "outputs": [
    {
     "name": "stdout",
     "output_type": "stream",
     "text": [
      "data/genomes/GCF_001763575.1_ASM176357v1_genomic.fna\tdata/genomes/GCF_001763575.1_ASM176357v1_genomic.fna\t100\t547\t559\n",
      "data/genomes/GCF_001763575.1_ASM176357v1_genomic.fna\tdata/genomes/GCF_002178195.1_ASM217819v1_genomic.fna\t98.3077\t451\t559\n",
      "data/genomes/GCF_001763575.1_ASM176357v1_genomic.fna\tdata/genomes/GCF_964233685.1_CNRERY-01897_genomic.fna\t98.2654\t511\t559\n",
      "data/genomes/GCF_001763575.1_ASM176357v1_genomic.fna\tdata/genomes/GCF_037733045.1_ASM3773304v1_genomic.fna\t98.2606\t512\t559\n",
      "data/genomes/GCF_001763575.1_ASM176357v1_genomic.fna\tdata/genomes/SRR10056855.fasta\t98.2039\t507\t559\n"
     ]
    }
   ],
   "source": [
    "%%bash\n",
    "\n",
    "# taking a look at our output\n",
    "head -n 5 fastani_output.tsv"
   ]
  },
  {
   "cell_type": "markdown",
   "id": "b7bdcf60-3b22-4b10-834a-a11ec72564bd",
   "metadata": {},
   "source": [
    "### Explanation of FastANI output\n",
    "\n",
    "FastANI outputs a tab delimited file with a row for every query genome and five columns. The columns correspond to the query genome, the reference genome, ANI value, count of bidirectional fragment mappings, and total query fragments respectively. Since our NCBI genomes are from the same species as our isolate, our ANI value should be >95%.\n",
    "\n",
    "For some downstream analysis, we should clean these names up a bit. We don't need the preceding data/genomes/ before every one of our genomes. Below, we use `sed` to edit a file in place, replacing all instance of `/data/genomes/` with empty text. More info on `sed` can be found in its manual page [here](https://linux.die.net/man/1/sed)."
   ]
  },
  {
   "cell_type": "code",
   "execution_count": 80,
   "id": "eabc12f5-daf6-400e-9625-1eedb8870fd6",
   "metadata": {},
   "outputs": [],
   "source": [
    "%%bash\n",
    "\n",
    "# sed syntax is 's|what we want to find|what we want to replace it with|'\n",
    "# the -i flag specifies that the operation is in place and won't make a new file\n",
    "# the g at the end of the sed expression stands for global--replacing every instance in the whole document\n",
    "sed -i 's|data/genomes/||g' fastani_output.tsv"
   ]
  },
  {
   "cell_type": "code",
   "execution_count": 81,
   "id": "a461fbec-9cf0-4958-b022-29acf277d659",
   "metadata": {},
   "outputs": [
    {
     "name": "stdout",
     "output_type": "stream",
     "text": [
      "GCF_001763575.1_ASM176357v1_genomic.fna\tGCF_001763575.1_ASM176357v1_genomic.fna\t100\t547\t559\n",
      "GCF_001763575.1_ASM176357v1_genomic.fna\tGCF_002178195.1_ASM217819v1_genomic.fna\t98.3077\t451\t559\n",
      "GCF_001763575.1_ASM176357v1_genomic.fna\tGCF_964233685.1_CNRERY-01897_genomic.fna\t98.2654\t511\t559\n",
      "GCF_001763575.1_ASM176357v1_genomic.fna\tGCF_037733045.1_ASM3773304v1_genomic.fna\t98.2606\t512\t559\n",
      "GCF_001763575.1_ASM176357v1_genomic.fna\tSRR10056855.fasta\t98.2039\t507\t559\n"
     ]
    }
   ],
   "source": [
    "%%bash\n",
    "\n",
    "# we should see the effect of sed now\n",
    "head -n 5 fastani_output"
   ]
  },
  {
   "cell_type": "code",
   "execution_count": 82,
   "id": "bb76ec59-4260-4826-92e6-9845fb95b299",
   "metadata": {},
   "outputs": [
    {
     "name": "stdout",
     "output_type": "stream",
     "text": [
      "usage: fastANI_heatmap.py [-h] [--input INPUT] [--out OUT]\n",
      "\n",
      "Creates a heatmap from fastANI results\n",
      "\n",
      "options:\n",
      "  -h, --help            show this help message and exit\n",
      "  --input INPUT, -i INPUT\n",
      "                        FastANI results to make a heatmap from\n",
      "  --out OUT             Name of the resulting heatmap\n"
     ]
    }
   ],
   "source": [
    "%%bash\n",
    "\n",
    "scripts/fastANI_heatmap.py -h"
   ]
  },
  {
   "cell_type": "code",
   "execution_count": 83,
   "id": "5cbda6bf-d000-46b6-afe4-d80e90bc0da3",
   "metadata": {},
   "outputs": [],
   "source": [
    "%%bash\n",
    "\n",
    "scripts/fastANI_heatmap.py --input fastani_output --out fastani_heatmap.png"
   ]
  },
  {
   "cell_type": "markdown",
   "id": "7570fdd5-777d-4714-9f80-1f5814527a89",
   "metadata": {},
   "source": [
    "<p align=\"center\">\n",
    "  <img src=\"fastani_heatmap.png\" width=\"80%\"/>\n",
    "</p>"
   ]
  },
  {
   "cell_type": "markdown",
   "id": "1c0f5ced-f639-443a-8586-645c37f8e290",
   "metadata": {},
   "source": [
    "# HCGS-Comprative-Genomics\n",
    "NCBI download and Orthofinder analysis\n",
    "\n",
    "## Our Starting data\n",
    "\n",
    "```bash\n",
    "ls /home/share/workshop/faa_files/\n",
    "```\n",
    "\n",
    "## What we will be doing\n",
    "\n",
    "We will be using **Orthofinder** for our main comparative genomic analysis. The manual is very detailed, I recommend taking some time to read it. To run the program we will need some genomes to compare.\n",
    "\n",
    "Orhtofinder Manual: https://github.com/davidemms/OrthoFinder\n",
    "\n",
    "The program takes a set of protein sequences for each species and runs pair-wise comarisons to identify orhtologous groups. For each orthogroup a gene tree is calculated and in the end an overall species tree is computed. To get any sort of meaningful phylogenetic tree we need to be sure to include **at least four different genome datasets**. Ideally we would run this program with all of the avaialble sequences on NCBI. As you can imagine, a pairwise comparison with 1,185 Streptomyces genomes will take a lone time (days). We will therfore run it with a reduced set. Next we will determine what genomes we want to download and go over the best ways to retrieve them from NCBI.\n",
    "\n",
    "\n",
    "## Set up working directories\n",
    "```bash\n",
    "cd ~/genomics_tutorial/\n",
    "mkdir genbank_downloads\n",
    "cd genbank_downloads/\n",
    "```\n",
    "\n",
    "## Locate Reference Data on NCBI\n",
    "\n",
    "FAQs about genome download from NCBI: https://www.ncbi.nlm.nih.gov/genome/doc/ftpfaq/#GBorRS\n",
    "\n",
    "Whatever method you use be sure to grab an outgroup, or don't thats your call.\n",
    "\n",
    "### Method 1: Download speicifc genomes\n",
    "\n",
    "We ran a NCBI blast during the genome assembly tutorial. This BLAST should have given you the closest match against the nt database. Chances are it 'hit' well to many genomes. Choose the top hit to a full genome and follow the links to retriev the download link of the genome FAA from the ftp site.\n",
    "\n",
    "Alternatively, you can download the reference genome used as part of the MR study in staphylococcus.\n",
    "\n",
    "Staphylococcus aureus ATCC 29213 is the reference strain.\n",
    "https://www.ncbi.nlm.nih.gov/assembly/GCF_001879295.1\n",
    "\n",
    "FOllow the links to the FTP download.\n",
    "\n",
    "```bash\n",
    "wget \"https://ftp.ncbi.nlm.nih.gov/genomes/all/GCF/001/879/295/GCF_001879295.1_StAu00v1/GCF_001879295.1_StAu00v1_protein.faa.gz\"\n",
    "```\n",
    "\n",
    "\n",
    "### Method 2: Download all refseq genomes for your genus\n",
    "\n",
    "link to NCBI prokaryote tables: https://www.ncbi.nlm.nih.gov/genome/browse#!/prokaryotes/\n",
    "link to genome reports FTP: ftp://ftp.ncbi.nlm.nih.gov/genomes/GENOME_REPORTS/\n",
    "\n",
    "* Download the genome report file for all all of prokaryotes\n",
    "\n",
    "We will download the file directly to the server, there is no need to download it to your computer. Right lick on the link and copy the link address. This is a big file so we will filter it a bit first before opening it with tabview.\n",
    "\n",
    "This file has a lot of useful information. For now we really care about column 21 which is the downloa link for the genome on the ftp site. Copy that link and paste it into a browser to see the files. We will then download the FAA files to the server.\n",
    "\n",
    "\n",
    "```bash\n",
    "# download the file\n",
    "wget \"ftp://ftp.ncbi.nlm.nih.gov/genomes/GENOME_REPORTS/prokaryotes.txt\"\n",
    "\n",
    "# view it\n",
    "tabview prokaryotes.txt\n",
    "\n",
    "# grep for species in question and view.\n",
    "grep -i \"Staphylococcus\" prokaryotes.txt | grep REPR | tabview -\n",
    "\n",
    "# print the download commands\n",
    "grep \"Staphylococcus\" prokaryotes.txt | grep REPR | awk -F'\\t' '{print \"wget \"$21\"/*protein.faa.gz\"}'\n",
    "\n",
    "# download all the faa files automatically. -P is the number of processes at a time.\n",
    "grep \"Staphylococcus\" prokaryotes.txt | grep REPR | awk -F'\\t' '{print $21\"/*protein.faa.gz\"}' | xargs -P 1 wget -i\n",
    "\n",
    "# or even better, rename the files as you go. (Delete the files created from the previous command before proceeding).\n",
    "grep \"Staphylococcus\" prokaryotes.txt | grep REPR | sed 's/ /_/g' | awk -F'\\t' '{print $1\"_\"$19\".faa.gz\",$21\"/*protein.faa.gz\"}' | xargs -n 2 -P 1 wget -O\n",
    "```\n",
    "\n",
    "\n",
    "Remove the empty files, some of them don't have annotations and it will mess up the next part.\n",
    "\n",
    "```bash\n",
    "zgrep -c '>' *.faa.gz\n",
    "zgrep -c '>' *.faa.gz | awk -F':' '$2 == 0'\n",
    "\n",
    "# automatic deletion with xargs\n",
    "zgrep -c '>' *.faa.gz| awk -F':' '$2 == 0 {print $1}' | xargs rm\n",
    "```\n",
    "\n",
    "Unzip all the files\n",
    "\n",
    "```bash\n",
    "gunzip *.faa.gz\n",
    "```\n",
    "\n",
    "\n",
    "## Set up orthofinder directory\n",
    "\n",
    "```bash\n",
    "# move to analysis folder\n",
    "mkdir ~/genomics_tutorial/orthofinder-analysis\n",
    "cd ~/genomics_tutorial/orthofinder-analysis\n",
    "\n",
    "\n",
    "# create a soft link to the FAA files we just downloaded\n",
    "ln -s ../genbank_downloads/*.faa ./\n",
    "\n",
    "# create a soft link to the FAA fles from our PROKKA analysis\n",
    "ln -s /home/share/workshop/faa_files/*.faa ./\n",
    "```\n",
    "\n",
    "## Count the number of proteins in all the starting files\n",
    "Think about what these numbers tell us right off the bat.\n",
    "\n",
    "```bash\n",
    "grep -c '>' *.faa\n",
    "```\n",
    "\n",
    "## Run Orthofinder2\n",
    "\n",
    "The input to the program is a directory containing a FAA file for each species.\n",
    "\n",
    "```bash\n",
    "# view the manual\n",
    "orthofinder --help\n",
    "# run the program, it will take some time\n",
    "nohup time orthofinder -t 16 -a 16 -S diamond -f ./ &\n",
    "```\n",
    "\n",
    "## Examine the output files\n",
    "\n",
    "I will review some, but not all of the files. The manual goes into extensive detail.\n",
    "\n",
    "```bash\n",
    "cd Results*/\n",
    "ls\n",
    "```\n",
    "\n",
    "### * Orthogroups.csv\n",
    "\n",
    "A **tab** seperated table. Each orthogroup is a raw, each column is a different sample.\n",
    "\n",
    "The table provides all of the data for orthogroups that are in at least two different samples. If a sample has more than one protein for that particular orthogroup than it will have a comma seperated list for the entry. \n",
    "\n",
    "```bash\n",
    "tabview Orthogroups.csv\n",
    "```\n",
    "\n",
    "### * Orthogroups_UnassignedGenes.csv\n",
    "\n",
    "The same style table. Instead this one contains Orthogroups that are not belonging to an orthogroup, they are unique to a single sample. As you scroll down you should notice the proteins belong to different samples.\n",
    "\n",
    "```bash\n",
    "tabview Orthogroups_UnassignedGenes.csv\n",
    "```\n",
    "\n",
    "###  * Orthogroups.GeneCount.csv\n",
    "\n",
    "My favorite 'Orthogroup' Output file. Orthogroups are the rows, columns are gene counts per species. This can be easily parsed to see what orthogroups are specific to waht species. It provides total gene counts for each sample.\n",
    "\n",
    "```bash\n",
    "tabview Orthogroups.GeneCount.csv\n",
    "```\n",
    "\n",
    "* add annotations from a reference sequence\n",
    "\n",
    "~/orthogroups_add_annotations.py <reference_faa> Orthogroups.txt  Orthogroups.GeneCount.csv\n",
    "\n",
    "```bash\n",
    "orthogroups_add_annotations.py ../GCF_000203835.1_ASM20383v1_protein.faa Orthogroups.txt  Orthogroups.GeneCount.csv | tabview -\n",
    "```\n",
    "\n",
    "\n",
    "## Statistics\n",
    "\n",
    "### * Statistics_Overall.csv\n",
    "\n",
    "A file containing the overall statistcis for the analysis. Total number of genes in the dataset etc. \n",
    "\n",
    "```bash\n",
    "tabview Statistics_Overall.csv\n",
    "```\n",
    "\n",
    "### * Statistics_PerSpecies.csv\n",
    "\n",
    "In my opinion this is the most important statistics output file. It provides details for each sample. How many genes were speciifc to that sample. If you want to know a quick statistics of how 'differen't your genome is, this is it.\n",
    "\n",
    "```bash\n",
    "tabview Statistics_PerSpecies.csv\n",
    "```\n",
    "\n",
    "### * WorkingDirectory/\n",
    "\n",
    "All of the work that external programs like BLAST or DIAMOND. 'ls' this directory. It contains all the results for each pairwise comparison.\n",
    "\n",
    "### * Orthologues_DATE/\n",
    "\n",
    "This directory contains a lot of useful data related to the Orthofinder analysis and how they commpute the phylogenetic trees.\n",
    "\n",
    "#### * Recon_Gene_Trees/\n",
    "\n",
    "A directory containing inferred trees for every orthogroup.\n",
    "\n",
    "#### * SpeciesTree_rooted.txt\n",
    "\n",
    "A rooted-species tree. Orthofinder commputes a root for the tree automatically. You can view this in any tree viewing program like FigTree or TreeView (macs). This file is in newick format. Check it out.\n",
    "\n",
    "```bash\n",
    "more Orthologues*/SpeciesTree_rooted.txt\n",
    "```\n",
    "\n",
    "## Export the tree file and view.\n",
    "\n",
    "\n",
    "## Bonus - Figures\n",
    "```\n",
    "orthogroups_add_annotations.py ../GCF_000203835.1_ASM20383v1_protein.faa Orthogroups.txt  Orthogroups.GeneCount.csv\n",
    "\n",
    "orthotools-venn.py Results_*/ PROKKA_*.faa species1.faa species2.faa  venn\n",
    "\n",
    "orthotools-UpSet.R Results_*/Orthogroups.GeneCount.csv\n",
    "\n",
    "```"
   ]
  },
  {
   "cell_type": "code",
   "execution_count": 10,
   "id": "d5247702-bc17-4fe5-b1f9-e699b7a1f439",
   "metadata": {},
   "outputs": [
    {
     "name": "stdout",
     "output_type": "stream",
     "text": [
      "test\n"
     ]
    }
   ],
   "source": [
    "print(\"test\")"
   ]
  },
  {
   "cell_type": "code",
   "execution_count": null,
   "id": "ece61dbc-beaf-4f36-8158-1ed5145a3cc2",
   "metadata": {},
   "outputs": [],
   "source": [
    "#install the required packages\n",
    "import requests\n",
    "import json\n",
    "import ipywidgets as widgets\n",
    "from IPython.display import display\n",
    "import random\n",
    "print(\"done installing required packages\")\n",
    "\n",
    "#install the module quiz_module.py\n",
    "##from quiz_module import run_quiz\n",
    "from quiz_module import run_quiz\n",
    "print(\"done installing quiz_module\")"
   ]
  },
  {
   "cell_type": "code",
   "execution_count": null,
   "id": "85a0ec3b-0b2e-44f2-9377-9cb514ec1527",
   "metadata": {},
   "outputs": [],
   "source": [
    "#This randomizes the order of the possible answers.\n",
    "##import_type should be one of two str values: 'json' or 'url'\n",
    "##import_path here defines the json filepath\n",
    "run_quiz(import_type=\"json\", import_path=\"questions/1-1.json\", instant_feedback=False, shuffle_questions=False, shuffle_answers=True)"
   ]
  },
  {
   "cell_type": "code",
   "execution_count": null,
   "id": "e7644244-797e-4208-8b00-cc743619355c",
   "metadata": {},
   "outputs": [],
   "source": [
    "%%bash\n",
    "\n",
    "aws s3 cp s3://nh-inbre-genome-sequencing-and-comparative-genomic-analysis/ ./"
   ]
  },
  {
   "cell_type": "code",
   "execution_count": null,
   "id": "8fc756ae-6583-4096-82a5-e90410d9f0fc",
   "metadata": {},
   "outputs": [],
   "source": [
    "# Phylogenetic tree\n",
    "\n",
    "Phylo\n",
    "ETE toolkit\n",
    "ToyTree\n",
    "\n",
    "https://github.com/etetoolkit/ete\n",
    "\n",
    "http://etetoolkit.org/ipython_notebook/\n",
    " ETE Toolkit - Visualization and analyses using Ipython Notebooks \n",
    "The ETE toolkit - Ipython notebook integration\n",
    "\n",
    "https://toytree.readthedocs.io/en/latest/\n",
    "\n",
    "#South Dokota is doing one\n",
    "\n",
    "aws s3 cp s3://PATH "
   ]
  }
 ],
 "metadata": {
  "kernelspec": {
   "display_name": "Python 3 (ipykernel)",
   "language": "python",
   "name": "python3"
  },
  "language_info": {
   "codemirror_mode": {
    "name": "ipython",
    "version": 3
   },
   "file_extension": ".py",
   "mimetype": "text/x-python",
   "name": "python",
   "nbconvert_exporter": "python",
   "pygments_lexer": "ipython3",
   "version": "3.10.14"
  }
 },
 "nbformat": 4,
 "nbformat_minor": 5
}
