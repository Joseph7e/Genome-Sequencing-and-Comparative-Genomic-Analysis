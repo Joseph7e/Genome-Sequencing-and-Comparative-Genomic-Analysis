{
 "cells": [
  {
   "cell_type": "code",
   "execution_count": null,
   "id": "76fd3391-320a-453b-841f-f3c77fe7d555",
   "metadata": {},
   "outputs": [],
   "source": [
    "# Submodule 4: Comparative genomics analysis\n",
    "\n",
    "In this submodule, you will begin with a directory of proteomes from de novo assembled and annotated genomes. \n",
    "\n",
    "A single bacterial genomes was analyzed in Submodules 1 & 2 and we automated the process on many genomes in Submodule 3 to procude a total of XX genome sequences.\n",
    "\n",
    "We will add to this dataset, reference genomes publicly available from NCBI. These genome sequences are curated for quality and provide gene accessions with curated functional information. These datasets are crucial for providing context to our new dataset.\n",
    "\n",
    "\n",
    "### Learning Objectives\n",
    "\n",
    "- **Access genome datasets from the NCBI**:  \n",
    "    \n",
    "- ****:  \n",
    "  Gain proficiency in using bioinformatics tools and foster skills in data analysis and interpretation.\n",
    "\n",
    "- ****:  \n",
    "  Connect the principles of the central dogma (DNA → RNA → Protein) to the process of genome annotation, understanding how gene annotations contribute to functional genomics and biological interpretations.\n",
    "\n",
    "- ****:  \n",
    "  Participants will refine the genome based on their assessments, ensuring a high-quality, annotated genome that can be used for further analysis or research applications."
   ]
  }
 ],
 "metadata": {},
 "nbformat": 4,
 "nbformat_minor": 5
}
