{
 "cells": [
  {
   "cell_type": "markdown",
   "id": "38e4d452-3752-43a5-be5a-65ac3cfa4611",
   "metadata": {},
   "source": [
    "# Submodule 4: Comparative genomics analysis\n",
    "\n",
    "In this submodule, you will begin with a directory of proteomes from de novo assembled and annotated genomes. \n",
    "\n",
    "A single bacterial genomes was analyzed in Submodules 1 & 2 and we automated the process on many genomes in Submodule 3 to procude a total of XX genome sequences.\n",
    "\n",
    "We will add to this dataset, reference genomes publicly available from NCBI. These genome sequences are curated for quality and provide gene accessions with curated functional information. These datasets are crucial for providing context to our new dataset.\n",
    "\n",
    "\n",
    "### Learning Objectives\n",
    "\n",
    "- **Access genome datasets from the NCBI**:  \n",
    "    \n",
    "- ****:  \n",
    "  Gain proficiency in using bioinformatics tools and foster skills in data analysis and interpretation.\n",
    "\n",
    "- ****:  \n",
    "  Connect the principles of the central dogma (DNA → RNA → Protein) to the process of genome annotation, understanding how gene annotations contribute to functional genomics and biological interpretations.\n",
    "\n",
    "- ****:  \n",
    "  Participants will refine the genome based on their assessments, ensuring a high-quality, annotated genome that can be used for further analysis or research applications."
   ]
  },
  {
   "cell_type": "markdown",
   "id": "9377c6cb-8acc-4c6a-9caa-1bb3e7e75fd7",
   "metadata": {},
   "source": [
    "## **Install required software**\n",
    "\n",
    "A few more tools are required for Submodule 4; OrthoFinder, UpSet plot, bwa, samtools, blast, blobtools, and prokka.  As with submodule 1, we will install these tools using __[Conda](https://docs.conda.io/en/latest/)__.\n",
    "\n",
    "Each piece of software, along with links to publications and documentation, will be described in turn. Below is a brief summary of these tools.\n",
    "\n",
    "### List of software\n",
    "| **Tool**       | **Description**                                                                                                                                                           |\n",
    "|:---------------|:--------------------------------------------------------------------------------------------------------------------------------------------------------------------------|\n",
    "| **QUAST**      | Used for evaluating and reporting the quality of genome assemblies by comparing them against reference genomes or generating statistical summaries.                          |\n",
    "| **BUSCO**      | Utilized for assessing genome completeness by searching for conserved single-copy orthologs from specific lineage datasets.                                                 |\n",
    "| **BWA**        | A fast and memory-efficient tool for aligning sequence reads to large reference genomes, commonly used in variant calling pipelines.                                         |\n",
    "| **Samtools**   | Used for manipulating and processing sequence alignments stored in SAM/BAM format. Essential for sorting, indexing, and viewing alignment files.                            |\n",
    "| **BLAST**      | A widely used tool for comparing an input sequence to a database of sequences, identifying regions of local similarity and aiding in functional annotation.                  |\n",
    "| **BlobTools**  | A versatile tool for visualizing and analyzing genome assemblies, helping to identify contamination or misassembled regions by correlating sequence features with taxonomy.   |\n",
    "| **Prokka**     | Used for rapid annotation of prokaryotic genomes, identifying genes, coding sequences, rRNAs, tRNAs, and other genomic features.                                             |"
   ]
  },
  {
   "cell_type": "markdown",
   "id": "371e7605-9f1c-4c35-9492-f5b301a3f332",
   "metadata": {},
   "source": [
    "## Starting Data\n",
    "\n",
    "This submodule begins with a directory of proteomes in FAA (FASTA amino acid) format. This module is designd to work with data produced from ssubmodule 3, but replace the FAA files within the working directory *proteomes* or add additional FAA files as neeeded."
   ]
  },
  {
   "cell_type": "code",
   "execution_count": null,
   "id": "cc8631f3-4be5-408e-ac17-356ba87f8e65",
   "metadata": {},
   "outputs": [],
   "source": [
    "%%bash\n",
    "\n",
    "ls proteomes/\n",
    "\n",
    "\n"
   ]
  },
  {
   "cell_type": "code",
   "execution_count": null,
   "id": "ece61dbc-beaf-4f36-8158-1ed5145a3cc2",
   "metadata": {},
   "outputs": [],
   "source": [
    "#install the required packages\n",
    "import requests\n",
    "import json\n",
    "import ipywidgets as widgets\n",
    "from IPython.display import display\n",
    "import random\n",
    "print(\"done installing required packages\")\n",
    "\n",
    "#install the module quiz_module.py\n",
    "##from quiz_module import run_quiz\n",
    "from quiz_module import run_quiz\n",
    "print(\"done installing quiz_module\")"
   ]
  },
  {
   "cell_type": "code",
   "execution_count": null,
   "id": "85a0ec3b-0b2e-44f2-9377-9cb514ec1527",
   "metadata": {},
   "outputs": [],
   "source": [
    "#This randomizes the order of the possible answers.\n",
    "##import_type should be one of two str values: 'json' or 'url'\n",
    "##import_path here defines the json filepath\n",
    "run_quiz(import_type=\"json\", import_path=\"questions/1-1.json\", instant_feedback=False, shuffle_questions=False, shuffle_answers=True)"
   ]
  },
  {
   "cell_type": "code",
   "execution_count": null,
   "id": "8fc756ae-6583-4096-82a5-e90410d9f0fc",
   "metadata": {},
   "outputs": [],
   "source": [
    "# Phylogenetic tree\n",
    "\n",
    "Phylo\n",
    "ETE toolkit\n",
    "ToyTree\n",
    "\n",
    "https://github.com/etetoolkit/ete\n",
    "\n",
    "http://etetoolkit.org/ipython_notebook/\n",
    " ETE Toolkit - Visualization and analyses using Ipython Notebooks \n",
    "The ETE toolkit - Ipython notebook integration\n",
    "\n",
    "https://toytree.readthedocs.io/en/latest/\n",
    "\n",
    "#South Dokota is doing one\n",
    "\n",
    "\n"
   ]
  },
  {
   "cell_type": "code",
   "execution_count": null,
   "id": "005e7750-0132-418f-b22a-bc6ff0948f18",
   "metadata": {},
   "outputs": [],
   "source": []
  },
  {
   "cell_type": "code",
   "execution_count": null,
   "id": "9144cb02-db72-4dba-9b93-edff47b3cef1",
   "metadata": {},
   "outputs": [],
   "source": []
  }
 ],
 "metadata": {},
 "nbformat": 4,
 "nbformat_minor": 5
}
