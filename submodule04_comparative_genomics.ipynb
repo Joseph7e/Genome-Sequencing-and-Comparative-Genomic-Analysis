{
 "cells": [
  {
   "cell_type": "markdown",
   "id": "38e4d452-3752-43a5-be5a-65ac3cfa4611",
   "metadata": {},
   "source": [
    "# Submodule 4: Comparative genomics analysis\n",
    "--------\n",
    "## Overview\n",
    "In this submodule, you will begin with a directory of proteomes from *de novo* assembled and annotated genomes. A single bacterial genome was analyzed in Submodules 1 & 2 and we automated the process on many genomes in Submodule 3 to produce a total of XX genome sequences. We will add to this dataset with reference genomes publicly available from NCBI. These genome sequences are curated for quality and provide gene accessions with curated functional information. These datasets are crucial for providing context to our new dataset.\n",
    "\n",
    "Genome assembly is a foundational step that allows researchers to generate a complete picture of the genetic material in a given organism. Assessing the quality and completeness of a genome assembly ensures that it accurately reflects the original genome, providing a reliable foundation for further analysis. Comparative genomics builds on genome assembly by comparing the genomes of different species or individuals. This field focuses on identifying similarities and differences in DNA sequences to understand evolutionary relationships and reveal the genetic underpinnings of adaptation and diversity. Comparative genomics can uncover how species evolve and adapt over time and identify genes associated with specific traits or diseases.\n",
    "\n",
    "<p align=\"center\">\n",
    "  <img src=\"images/toxo_multi_alignment.png\" width=\"80%\"/>\n",
    "</p>\n",
    "\n",
    "### Learning Objectives\n",
    "\n",
    "Through this submodule, users will gain experience in comparative genomics, resulting in an understanding of how to use existing genomes a reference points to better understand the context of a novel genome. You will Learn to perform comparative genomic analyses to identify similarities and differences across genomes, run phylogenomic analyses, construct pangenomes to capture genetic diversity. You will then apply these techniques to address biological questions and hypotheses. \n",
    "\n",
    "- **Access Genome Datasets from the NCBI**:<br>\n",
    "  Participants will use command line tools to acces genomes on NCBI for use in comparative genomics analyses.\n",
    "    \n",
    "- **Perform and Visualize Comparative Genomics Analyses**:<br>\n",
    "  Gain proficiency in using comparative genomics tools and visuazing their outputs. Participants will use these outputs to identify patterns across genomes and develop hypotheses about genome relatedness, gene loss or gain events, and gene duplications.\n",
    "\n",
    "- **Create and Understand Phylogeny Trees**:<br>\n",
    "  Use both ortholog groups and average nucleotide identity in genes to create phylogeny trees. Use phylogeny trees to gain an understanding of the see species relatedness and to understand taxonomic groupings.\n",
    "\n",
    "- **Draw Conclusions about Assembled Genome**:<br>\n",
    "  Using the comparisons to fully annotated genomes, participants should be able to identify patterns in host and strain of comparator genomes and draw their own conclusions about the genomes assembled in submodules 1-3."
   ]
  },
  {
   "cell_type": "markdown",
   "id": "9377c6cb-8acc-4c6a-9caa-1bb3e7e75fd7",
   "metadata": {},
   "source": [
    "## **Install required software**\n",
    "\n",
    "A few more tools are required for Submodule 4; OrthoFinder, UpSet plot, fastANI, and seaborn. As with submodule 1, we will install these tools using __[Conda](https://docs.conda.io/en/latest/)__.\n",
    "\n",
    "Each piece of software, along with links to publications and documentation, will be described in turn. Below is a brief summary of these tools.\n",
    "\n",
    "### List of software\n",
    "| **Tool**       | **Description**                                                                                                                                                           |\n",
    "|:---------------|:--------------------------------------------------------------------------------------------------------------------------------------------------------------------------|\n",
    "| **OrthoFinder**      | Finds orthogroups and orthologs, infers rooted gene trees for all orthogroups and identifies all of the gene duplication events in those gene trees.                         |\n",
    "| **UpSet Plots**      | UpSet plots are a data visualization method for showing set data with more than three intersecting sets.                                                  |\n",
    "| **fastANI**        | Developed for fast alignment-free computation of whole-genome Average Nucleotide Identity (ANI). ANI is defined as mean nucleotide identity of orthologous gene pairs shared between two microbial genomes.     \n",
    "| **seaborn**        | A python library necessary for creating complex heatmaps.   |"
   ]
  },
  {
   "cell_type": "code",
   "execution_count": null,
   "id": "22777784-a00c-49f3-9ef0-9b0ae84687de",
   "metadata": {},
   "outputs": [],
   "source": [
    "%%bash\n",
    "\n",
    "# other installs are already complete, we just need to install seaborn\n",
    "mamba install seaborn --quiet"
   ]
  },
  {
   "cell_type": "markdown",
   "id": "371e7605-9f1c-4c35-9492-f5b301a3f332",
   "metadata": {},
   "source": [
    "## Starting Data\n",
    "\n",
    "This submodule begins with a directory of genomes in FASTA format and a directory of proteomes in FAA (FASTA amino acid) format. This module is designd to work with data produced from submodule 3, but feel free replace the FAA files within the directory *proteomes* or add additional FAA files as neeeded."
   ]
  },
  {
   "cell_type": "code",
   "execution_count": null,
   "id": "cc8631f3-4be5-408e-ac17-356ba87f8e65",
   "metadata": {},
   "outputs": [],
   "source": [
    "%%bash\n",
    "\n",
    "ls data/proteomes/"
   ]
  },
  {
   "cell_type": "code",
   "execution_count": null,
   "id": "2c672628-212e-47d3-9ec5-f020d42f9be3",
   "metadata": {},
   "outputs": [],
   "source": [
    "%%bash\n",
    "\n",
    "ls data/genomes/"
   ]
  },
  {
   "cell_type": "markdown",
   "id": "2a4a6a7a-c3e3-4d12-b64d-d9959f4b2ba8",
   "metadata": {},
   "source": [
    "## Process 1: Downloading Reference Genomes and Proteomes from NCBI\n",
    "We have a directory of `genomes` and `proteomes` we created in submodules 1-3. To provide these context, we can also access thousands of deposited and annotated bacterial genomes and proteomes from NCBI with a few commands. For comparative genomics, we will grab several genomes in "
   ]
  },
  {
   "cell_type": "code",
   "execution_count": null,
   "id": "7a726735-7171-4330-bb60-b2bd58b4a2a1",
   "metadata": {},
   "outputs": [],
   "source": [
    "%%bash\n",
    "\n",
    "# download the list of all refseq assemblies\n",
    "if [[ ! -s assembly_summary_refseq.txt ]]\n",
    "then\n",
    "    wget https://ftp.ncbi.nlm.nih.gov/genomes/ASSEMBLY_REPORTS/assembly_summary_refseq.txt -O assembly_summary_refseq.txt --quiet --no-check-certificate\n",
    "fi"
   ]
  },
  {
   "cell_type": "code",
   "execution_count": null,
   "id": "19128ed3-63cf-47f3-b9ca-514f82752355",
   "metadata": {},
   "outputs": [],
   "source": [
    "%%bash\n",
    "\n",
    "species=\"Campylobacter jejuni\"\n",
    "\n",
    "# we can use grep to search for our target organism\n",
    "grep \"$species\" assembly_summary_refseq.txt | head -n 3\n"
   ]
  },
  {
   "cell_type": "markdown",
   "id": "cbf86e68-fe72-4dda-bdb3-017aa996f39e",
   "metadata": {},
   "source": [
    "<div class=\"alert alert-block alert-info\"><b>Tip</b>: Click on one of the blue highlighted links above to be taken to an assembly page on NCBIs server. Notice how the assembly page is laid out just like a directory and the link looks like a path. This is just like how our cloud server works!</div>"
   ]
  },
  {
   "cell_type": "markdown",
   "id": "f0c1ab77-d4b6-451c-9c87-17b9f15989ec",
   "metadata": {},
   "source": [
    "<p align=\"center\">\n",
    "  <img src=\"images/ncbi_screenshot.png\" width=\"80%\"/>\n",
    "</p>"
   ]
  },
  {
   "cell_type": "markdown",
   "id": "5fd4089c-05a3-4ac6-b270-cfb985084049",
   "metadata": {},
   "source": [
    "Let's use grep again to search for our organism, but this time we are going to `sort` the results randomly and take the top 10 results. We can then use `cut` to select only the 20th column which contains the link. We will also add an outgroup which should fall outside our other isolates in further analyses. After, we will loop through the links and download them by adding the file we want from the assembly directory to the end of the link."
   ]
  },
  {
   "cell_type": "code",
   "execution_count": null,
   "id": "14551b82-0013-4ed8-8e72-b826a2dfdf41",
   "metadata": {},
   "outputs": [],
   "source": [
    "%%bash\n",
    "\n",
    "#cleaning temp, dont leave in\n",
    "rm query_list.txt reference_list.txt\n",
    "rm data/*/Campy*"
   ]
  },
  {
   "cell_type": "code",
   "execution_count": null,
   "id": "f85690d3-f57e-4e0c-8c62-c5abbf74b9d2",
   "metadata": {},
   "outputs": [],
   "source": [
    "%%bash\n",
    "\n",
    "species=\"Campylobacter jejuni\"\n",
    "outgroup=\"Campylobacter fetus\"\n",
    "\n",
    "links=$(grep \"$species\" assembly_summary_refseq.txt | sort -R | head -n 10 | cut -f 20)\n",
    "\n",
    "# adding an outgroup for our analysis\n",
    "# Add the link for the outgroup (just one for now)\n",
    "outgroup_link=$(grep \"$outgroup\" assembly_summary_refseq.txt | sort -R | head -n 1 | cut -f 20)\n",
    "\n",
    "# Append outgroup link to the species links\n",
    "links=\"$links $outgroup_link\"\n",
    "\n",
    "\n",
    "for link in $links\n",
    "do\n",
    "\n",
    "    # gets the species corresponding to the isolate\n",
    "    species=$(grep $link assembly_summary_refseq.txt | cut -f 8 | cut -f 1-2 -d' ' | sed 's/ /_/')\n",
    "    # gets the accession number from the full link\n",
    "    accession=$(echo $link | awk -F'/' '{print $NF}')\n",
    "    \n",
    "    echo Downloading $species from $(echo $link)\n",
    "\n",
    "    # gets file names\n",
    "    genome_file=${accession}_genomic.fna.gz\n",
    "    proteome_file=${accession}_protein.faa.gz\n",
    "\n",
    "    # gets fna download link\n",
    "    fna=${link}/${genome_file}\n",
    "    faa=${link}/${proteome_file}\n",
    "\n",
    "    # wget downloads the file\n",
    "    # -O specifies a name for the output file\n",
    "    wget $fna -O data/genomes/${species}_${genome_file} --quiet --no-check-certificate\n",
    "    wget $faa -O data/proteomes/${species}_${proteome_file} --quiet --no-check-certificate\n",
    "\n",
    "done"
   ]
  },
  {
   "cell_type": "code",
   "execution_count": null,
   "id": "fda0745f-75bd-422e-96fd-2b6829b44331",
   "metadata": {},
   "outputs": [],
   "source": [
    "%%bash\n",
    "\n",
    "# lastly, we have to unzip the genome and proteome files\n",
    "gunzip data/genomes/*.gz\n",
    "gunzip data/proteomes/*.gz\n",
    "\n",
    "\n",
    "# echo list the two starting directories\n",
    "echo '-----------------GENOMES--------------------'\n",
    "ls data/genomes/\n",
    "echo '-----------------PROTEOMES------------------'\n",
    "ls data/proteomes/"
   ]
  },
  {
   "cell_type": "markdown",
   "id": "ae7e677e-0efe-4487-9495-bb55b9a0191e",
   "metadata": {},
   "source": [
    "We now have 11 genomes and 11 proteomes from NCBI which we can use for comparative genomics! Let's start by comparing our genomes to the NCBI isolates with FastANI."
   ]
  },
  {
   "cell_type": "markdown",
   "id": "615549a3-0c68-4dc4-b6d2-d22aa7f1fb94",
   "metadata": {},
   "source": [
    "## Process 2: Comparing Average Nucleotide Identity using FastANI\n",
    "Program: FastANI - Fast alignment-free computation of whole-genome Average Nucleotide Identity (ANI)\n",
    "Citation : Jain, C., Rodriguez-R, L.M., Phillippy, A.M. et al. *High throughput ANI analysis of 90K prokaryotic genomes reveals clear species boundaries.* Nat Commun 9, 5114 (2018). https://doi.org/10.1038/s41467-018-07641-9\n",
    "Manual: https://github.com/ParBLiSS/FastANI\n",
    "\n",
    "FastANI is developed for fast alignment-free computation of whole-genome Average Nucleotide Identity (ANI). ANI is defined as mean nucleotide identity of orthologous gene pairs shared between two microbial genomes. FastANI supports pairwise comparison of both complete and draft genome assemblies and avoids expensive sequence alignments in most ANI tools. With all our genomes on hand, we can make an initial comparison of ANI to give a preview of potential patterns among our genome set."
   ]
  },
  {
   "cell_type": "code",
   "execution_count": null,
   "id": "b789175c-07b7-4935-8158-72ff58546271",
   "metadata": {},
   "outputs": [],
   "source": [
    "%%bash\n",
    "\n",
    "# take a look at the help menu\n",
    "fastANI -h"
   ]
  },
  {
   "cell_type": "markdown",
   "id": "1f0b69a5-7ba4-4275-bc1c-f22d71633f4e",
   "metadata": {},
   "source": [
    "We want to run FastANI with all of our genomes queried against each other. This corresponds to the example in the manual `fastANI --ql [QUERY_LIST] --rl [REFERENCE_LIST] -o [OUTPUT_FILE]`. The query and reference lists are lists of the paths to our genomes. Let's first make these files with some more bash looping."
   ]
  },
  {
   "cell_type": "code",
   "execution_count": null,
   "id": "fe86229f-a25e-481e-b88c-13c61e2b2fd1",
   "metadata": {},
   "outputs": [],
   "source": [
    "%%bash\n",
    "\n",
    "# looping through all genome files in our genome directory\n",
    "for genome in data/genomes/*\n",
    "do\n",
    "    # readlink gets the full path to the genome, tee writes the path to two files at once\n",
    "    echo $genome | tee -a query_list.txt reference_list.txt\n",
    "done"
   ]
  },
  {
   "cell_type": "code",
   "execution_count": null,
   "id": "25b89b71-87e8-4abe-a214-f099b43a9465",
   "metadata": {},
   "outputs": [],
   "source": [
    "%%bash\n",
    "\n",
    "fastANI --ql query_list.txt --rl reference_list.txt -t 24 -o fastani_output.tsv --minFraction 0"
   ]
  },
  {
   "cell_type": "code",
   "execution_count": null,
   "id": "20961eba-3cc4-4c32-96c6-2e4786bf001a",
   "metadata": {},
   "outputs": [],
   "source": [
    "%%bash\n",
    "\n",
    "# taking a look at our output\n",
    "head -n 5 fastani_output.tsv"
   ]
  },
  {
   "cell_type": "markdown",
   "id": "b7bdcf60-3b22-4b10-834a-a11ec72564bd",
   "metadata": {},
   "source": [
    "### Explanation of FastANI output\n",
    "\n",
    "FastANI outputs a tab delimited file with a row for every query genome and five columns. The columns correspond to the query genome, the reference genome, ANI value, count of bidirectional fragment mappings, and total query fragments respectively. Since our NCBI genomes are from the same species as our isolate, our ANI value should be >95%.\n",
    "\n",
    "For some downstream analysis, we should clean these names up a bit. We don't need the preceding data/genomes/ before every one of our genomes. Below, we use `sed` to edit a file in place, replacing all instance of `/data/genomes/` with empty text. More info on `sed` can be found in its manual page [here](https://linux.die.net/man/1/sed)."
   ]
  },
  {
   "cell_type": "code",
   "execution_count": null,
   "id": "eabc12f5-daf6-400e-9625-1eedb8870fd6",
   "metadata": {},
   "outputs": [],
   "source": [
    "%%bash\n",
    "\n",
    "# sed syntax is 's|what we want to find|what we want to replace it with|'\n",
    "# the -i flag specifies that the operation is in place and won't make a new file\n",
    "# the g at the end of the sed expression stands for global--replacing every instance in the whole document\n",
    "sed -i 's|data/genomes/||g' fastani_output.tsv"
   ]
  },
  {
   "cell_type": "code",
   "execution_count": null,
   "id": "a461fbec-9cf0-4958-b022-29acf277d659",
   "metadata": {},
   "outputs": [],
   "source": [
    "%%bash\n",
    "\n",
    "# we should see the effect of sed now\n",
    "head -n 5 fastani_output.tsv"
   ]
  },
  {
   "cell_type": "code",
   "execution_count": null,
   "id": "bb76ec59-4260-4826-92e6-9845fb95b299",
   "metadata": {},
   "outputs": [],
   "source": [
    "%%bash\n",
    "\n",
    "scripts/fastANI_heatmap.py -h"
   ]
  },
  {
   "cell_type": "code",
   "execution_count": null,
   "id": "5cbda6bf-d000-46b6-afe4-d80e90bc0da3",
   "metadata": {},
   "outputs": [],
   "source": [
    "%%bash\n",
    "\n",
    "scripts/fastANI_heatmap.py --input fastani_output.tsv --out fastani_heatmap.png"
   ]
  },
  {
   "cell_type": "markdown",
   "id": "74b5adfb-caae-4f61-86db-fc95fc4a14dc",
   "metadata": {},
   "source": [
    "## A Briefer on Phylogeny\n",
    "\n",
    "<p align=\"center\">\n",
    "  <img src=\"images/phylogeny_explanation.png\" width=\"80%\"/>\n",
    "</p>\n",
    "\n",
    "This image illustrates the concept of phylogenetic trees, which are used to represent evolutionary relationships among species. Each branch point, or node, represents a common ancestor shared by the species that diverge from it. For example, the most recent common ancestor of species A and B is highlighted at the upper node connecting them. Similarly, the root at the base of the tree represents the most recent common ancestor of all the species shown (A, B, C, D, and E). The tree branches from left to right, moving from ancestors to present-day species. In this tree, species E is the outgroup, as it diverged earliest and shares a more distant common ancestor with the other species. Understanding these relationships helps scientists study how species have evolved over time and how they are related.\n",
    "\n",
    "### Visualizing the ANI cladogram\n",
    "Running the below cell with display the heatmap from FastANI which also contains a phylogenetic tree or cladogram. What do these results tell us? Is our outgroup the same species or different than the rest of our isolates? Do you see other interesting pattens?"
   ]
  },
  {
   "cell_type": "code",
   "execution_count": null,
   "id": "bc1bb633-3b12-4657-86ad-66c8548e9425",
   "metadata": {},
   "outputs": [],
   "source": [
    "from IPython.display import Image\n",
    "Image(filename='fastani_heatmap.png')"
   ]
  },
  {
   "cell_type": "markdown",
   "id": "6584f19a-ad07-4e63-ac04-ee392f77c0a6",
   "metadata": {},
   "source": [
    "## Process 3: Orthofinder Pairwise Orthology Analysis\n",
    "There are many ways to make phylogenetic comparisons. FastANI, as it suggests in the name, is a fast option. However, Average Nucleotide Identity is not the most accurate predictor of phylogeny. For this, we want to turn to ortholog analysis, that is, looking at the shared and unshared genes and their sequences among our isolates. We have a already added sequences from NCBI to our `proteomes` directory. Here, we will use them for comparative genomics analysis with **Orthofinder**. The manual is very detailed, I recommend taking some time to read it.\n",
    "\n",
    "Orhtofinder Manual: https://github.com/davidemms/OrthoFinder\n",
    "\n",
    "The program takes a set of protein sequences for each isolate and runs pair-wise comarisons to identify orhtologous groups. For each orthogroup a gene tree is calculated and in the end an overall species tree is computed. To get a meaningful phylogenetic tree we need to be sure to include **at least four different genome datasets**. Ideally we would run this program with all of the avaialble sequences on NCBI. As you can imagine, a pairwise comparison with thousands of Campylobacter genomes would take a long time (days). We will therefore run it with our reduced set."
   ]
  },
  {
   "cell_type": "markdown",
   "id": "547fd702-0e73-4c8c-85a5-2a9139d34ed1",
   "metadata": {},
   "source": [
    "Start by counting the number of proteins in all the starting files. Think about what these numbers tell us right off the bat."
   ]
  },
  {
   "cell_type": "code",
   "execution_count": null,
   "id": "f573ea00-2655-4e1a-bf79-bf0436fed2b6",
   "metadata": {},
   "outputs": [],
   "source": [
    "%%bash\n",
    "\n",
    "# grep -c will count the occurences of a searched string\n",
    "grep -c '>' data/proteomes/*.faa"
   ]
  },
  {
   "cell_type": "code",
   "execution_count": null,
   "id": "d6193f9b-88eb-40a2-bfb5-64993daff8e7",
   "metadata": {},
   "outputs": [],
   "source": [
    "%%bash\n",
    "\n",
    "# as always, we should take a look at the help menu\n",
    "orthofinder -h"
   ]
  },
  {
   "cell_type": "markdown",
   "id": "78f489a8-abc3-45b3-ad51-639d11e0af54",
   "metadata": {},
   "source": [
    "We want to run Orthofinder with all of our proteomes queried against each other. For orthofinder, this simply requires pointing to the directory that our proteomes our in with `orthofinder -f <dir>`"
   ]
  },
  {
   "cell_type": "markdown",
   "id": "c3681a76-36f7-48f3-88a3-dc2175190fe2",
   "metadata": {},
   "source": [
    "<div class= \"alert alert-block alert-info\"><b>Tip</b>: Although there are no standards, in many programs <code>-o</code> is the the flag for an output file or directory, while <code>-t</code> typically corresponds to threads.</div></div>"
   ]
  },
  {
   "cell_type": "code",
   "execution_count": null,
   "id": "f0050af4-4fe9-4e3c-9137-670d5b3f7301",
   "metadata": {},
   "outputs": [],
   "source": [
    "%%bash\n",
    "\n",
    "# running orthofinder with thread and parallelization options to speed up analysis\n",
    "orthofinder -t 24 -a 24 -f data/proteomes/ -o orthofinder-analysis"
   ]
  },
  {
   "cell_type": "markdown",
   "id": "1c0f5ced-f639-443a-8586-645c37f8e290",
   "metadata": {},
   "source": [
    "## Examine the output files\n",
    "\n",
    "I will review some, but not all of the files. The manual goes into extensive detail.\n",
    "\n",
    "```bash\n",
    "cd Results*/\n",
    "ls\n",
    "```\n",
    "\n",
    "### * Orthogroups.csv\n",
    "\n",
    "A **tab** seperated table. Each orthogroup is a raw, each column is a different sample.\n",
    "\n",
    "The table provides all of the data for orthogroups that are in at least two different samples. If a sample has more than one protein for that particular orthogroup than it will have a comma seperated list for the entry. \n",
    "\n",
    "```bash\n",
    "tabview Orthogroups.csv\n",
    "```\n",
    "\n",
    "### * Orthogroups_UnassignedGenes.csv\n",
    "\n",
    "The same style table. Instead this one contains Orthogroups that are not belonging to an orthogroup, they are unique to a single sample. As you scroll down you should notice the proteins belong to different samples.\n",
    "\n",
    "```bash\n",
    "tabview Orthogroups_UnassignedGenes.csv\n",
    "```\n",
    "\n",
    "###  * Orthogroups.GeneCount.csv\n",
    "\n",
    "My favorite 'Orthogroup' Output file. Orthogroups are the rows, columns are gene counts per species. This can be easily parsed to see what orthogroups are specific to waht species. It provides total gene counts for each sample.\n",
    "\n",
    "```bash\n",
    "tabview Orthogroups.GeneCount.csv\n",
    "```\n",
    "\n",
    "* add annotations from a reference sequence\n",
    "\n",
    "~/orthogroups_add_annotations.py <reference_faa> Orthogroups.txt  Orthogroups.GeneCount.csv\n",
    "\n",
    "```bash\n",
    "orthogroups_add_annotations.py ../GCF_000203835.1_ASM20383v1_protein.faa Orthogroups.txt  Orthogroups.GeneCount.csv | tabview -\n",
    "```\n",
    "\n",
    "\n",
    "## Statistics\n",
    "\n",
    "### * Statistics_Overall.csv\n",
    "\n",
    "A file containing the overall statistcis for the analysis. Total number of genes in the dataset etc. \n",
    "\n",
    "```bash\n",
    "tabview Statistics_Overall.csv\n",
    "```\n",
    "\n",
    "### * Statistics_PerSpecies.csv\n",
    "\n",
    "In my opinion this is the most important statistics output file. It provides details for each sample. How many genes were speciifc to that sample. If you want to know a quick statistics of how 'differen't your genome is, this is it.\n",
    "\n",
    "```bash\n",
    "tabview Statistics_PerSpecies.csv\n",
    "```\n",
    "\n",
    "### * WorkingDirectory/\n",
    "\n",
    "All of the work that external programs like BLAST or DIAMOND. 'ls' this directory. It contains all the results for each pairwise comparison.\n",
    "\n",
    "### * Orthologues_DATE/\n",
    "\n",
    "This directory contains a lot of useful data related to the Orthofinder analysis and how they commpute the phylogenetic trees.\n",
    "\n",
    "#### * Recon_Gene_Trees/\n",
    "\n",
    "A directory containing inferred trees for every orthogroup.\n",
    "\n",
    "#### * SpeciesTree_rooted.txt\n",
    "\n",
    "A rooted-species tree. Orthofinder commputes a root for the tree automatically. You can view this in any tree viewing program like FigTree or TreeView (macs). This file is in newick format. Check it out.\n",
    "\n",
    "```bash\n",
    "more Orthologues*/SpeciesTree_rooted.txt\n",
    "```\n",
    "\n",
    "## Export the tree file and view.\n",
    "\n",
    "\n",
    "## Bonus - Figures\n",
    "```\n",
    "orthogroups_add_annotations.py ../GCF_000203835.1_ASM20383v1_protein.faa Orthogroups.txt  Orthogroups.GeneCount.csv\n",
    "\n",
    "orthotools-venn.py Results_*/ PROKKA_*.faa species1.faa species2.faa  venn\n",
    "\n",
    "orthotools-UpSet.R Results_*/Orthogroups.GeneCount.csv\n",
    "\n",
    "```"
   ]
  },
  {
   "cell_type": "code",
   "execution_count": null,
   "id": "d5247702-bc17-4fe5-b1f9-e699b7a1f439",
   "metadata": {},
   "outputs": [],
   "source": [
    "print(\"test\")"
   ]
  },
  {
   "cell_type": "code",
   "execution_count": null,
   "id": "ece61dbc-beaf-4f36-8158-1ed5145a3cc2",
   "metadata": {},
   "outputs": [],
   "source": [
    "#install the required packages\n",
    "import requests\n",
    "import json\n",
    "import ipywidgets as widgets\n",
    "from IPython.display import display\n",
    "import random\n",
    "print(\"done installing required packages\")\n",
    "\n",
    "#install the module quiz_module.py\n",
    "##from quiz_module import run_quiz\n",
    "from quiz_module import run_quiz\n",
    "print(\"done installing quiz_module\")"
   ]
  },
  {
   "cell_type": "code",
   "execution_count": null,
   "id": "85a0ec3b-0b2e-44f2-9377-9cb514ec1527",
   "metadata": {},
   "outputs": [],
   "source": [
    "#This randomizes the order of the possible answers.\n",
    "##import_type should be one of two str values: 'json' or 'url'\n",
    "##import_path here defines the json filepath\n",
    "run_quiz(import_type=\"json\", import_path=\"questions/1-1.json\", instant_feedback=False, shuffle_questions=False, shuffle_answers=True)"
   ]
  },
  {
   "cell_type": "code",
   "execution_count": null,
   "id": "e7644244-797e-4208-8b00-cc743619355c",
   "metadata": {},
   "outputs": [],
   "source": [
    "%%bash\n",
    "\n",
    "aws s3 cp s3://nh-inbre-genome-sequencing-and-comparative-genomic-analysis/ ./"
   ]
  },
  {
   "cell_type": "code",
   "execution_count": null,
   "id": "8fc756ae-6583-4096-82a5-e90410d9f0fc",
   "metadata": {},
   "outputs": [],
   "source": [
    "# Phylogenetic tree\n",
    "\n",
    "Phylo\n",
    "ETE toolkit\n",
    "ToyTree\n",
    "\n",
    "https://github.com/etetoolkit/ete\n",
    "\n",
    "http://etetoolkit.org/ipython_notebook/\n",
    " ETE Toolkit - Visualization and analyses using Ipython Notebooks \n",
    "The ETE toolkit - Ipython notebook integration\n",
    "\n",
    "https://toytree.readthedocs.io/en/latest/\n",
    "\n",
    "#South Dokota is doing one\n",
    "\n",
    "aws s3 cp s3://PATH "
   ]
  },
  {
   "cell_type": "code",
   "execution_count": null,
   "id": "61551522-b825-45be-afbd-b904ffe36c3c",
   "metadata": {},
   "outputs": [],
   "source": []
  }
 ],
 "metadata": {},
 "nbformat": 4,
 "nbformat_minor": 5
}
