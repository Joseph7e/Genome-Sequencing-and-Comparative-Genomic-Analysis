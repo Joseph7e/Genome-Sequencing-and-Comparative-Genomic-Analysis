{
 "cells": [
  {
   "cell_type": "markdown",
   "id": "38e4d452-3752-43a5-be5a-65ac3cfa4611",
   "metadata": {},
   "source": [
    "# Submodule 4: Comparative genomics analysis\n",
    "--------\n",
    "## Overview\n",
    "In this submodule, you will begin with a directory of proteomes from *de novo* assembled and annotated genomes. A single bacterial genome was analyzed in Submodules 1 & 2 and we automated the process on many genomes in Submodule 3 to produce a total of 10 genome sequences. We will add to this dataset with **reference genomes** publicly available from NCBI. These genome sequences are curated for quality and provide gene accessions with curated functional information. These datasets are crucial for providing context to our new dataset.\n",
    "\n",
    "Genome assembly is a foundational step that allows researchers to generate a complete picture of the genetic material in a given organism. Assessing the quality and completeness of a genome assembly ensures that it accurately reflects the original genome, providing a reliable foundation for further analysis. **Comparative genomics** builds on genome assembly by comparing the genomes of different species or individuals. This field focuses on identifying similarities and differences in DNA sequences to understand evolutionary relationships and reveal the genetic underpinnings of adaptation and diversity. Comparative genomics can uncover how species evolve and adapt over time and identify genes associated with specific traits or diseases.\n",
    "\n",
    "<p align=\"center\">\n",
    "  <img src=\"images/toxo_multi_alignment.png\" width=\"80%\"/>\n",
    "</p>\n",
    "\n",
    "### Learning Objectives\n",
    "\n",
    "Through this submodule, users will gain experience in comparative genomics, resulting in an understanding of how to use existing genomes a reference points to better understand the context of a novel genome. You will learn to perform comparative genomic analyses to identify similarities and differences across genomes, run phylogenomic analyses, and construct pangenomes to capture genetic diversity. You will then apply these techniques to address biological questions and hypotheses.\n",
    "\n",
    "- **Access Genome Datasets from the NCBI**:<br>\n",
    "  Participants will use command line tools to acces genomes on NCBI for use in comparative genomics analyses.\n",
    "    \n",
    "- **Perform and Visualize Comparative Genomics Analyses**:<br>\n",
    "  Gain proficiency in using comparative genomics tools and visuazing their outputs. Participants will use these outputs to identify patterns across genomes and develop hypotheses about genome relatedness, gene loss or gain events, and gene duplications.\n",
    "\n",
    "- **Create and Understand Phylogeny Trees**:<br>\n",
    "  Use both average nucleotide identity and ortholog groups in genes to create cladograms or phylogeny trees. Use phylogeny trees to gain an understanding of the species relatedness and to understand taxonomic groupings.\n",
    "\n",
    "- **Draw Conclusions about Assembled Genome**:<br>\n",
    "  Using the comparisons to fully annotated genomes, participants should be able to identify patterns in host and strain of comparator genomes and draw their own conclusions about the genomes assembled in submodules 1-3."
   ]
  },
  {
   "cell_type": "markdown",
   "id": "9377c6cb-8acc-4c6a-9caa-1bb3e7e75fd7",
   "metadata": {},
   "source": [
    "## **Install required software**\n",
    "\n",
    "A few more tools are required for Submodule 4; OrthoFinder and fastANI are stand-alone software, while UpSet plots, seaborn, pandas, matplotlib, and BioPython are python modules. As with submodule 1, we will install these tools using __[Conda](https://docs.conda.io/en/latest/)__.\n",
    "\n",
    "Each piece of software, along with links to publications and documentation, will be described in turn. Below is a brief summary of these tools.\n",
    "\n",
    "### List of software\n",
    "| **Tool**       | **Description**                                                                                                                                                           |\n",
    "|:---------------|:--------------------------------------------------------------------------------------------------------------------------------------------------------------------------|\n",
    "| **OrthoFinder**      | Finds orthogroups and orthologs, infers rooted gene trees for all orthogroups and identifies all of the gene duplication events in those gene trees.                         |\n",
    "| **UpSet Plots**      | UpSet plots are a data visualization method for showing set data with more than three intersecting sets.                                                  |\n",
    "| **fastANI**        | Developed for fast alignment-free computation of whole-genome Average Nucleotide Identity (ANI). ANI is defined as mean nucleotide identity of orthologous gene pairs shared between two microbial genomes.     \n",
    "| **seaborn**        | A python library necessary for creating complex heatmaps.   |\n",
    "| **pandas**        | A python library used for analyzing tabular data.   |\n",
    "| **matplotlib**        | A python library used for generalized plotting purposes.   |\n",
    "| **BioPython**        | A python library with a suite of tools used in bioinformatics.   |"
   ]
  },
  {
   "cell_type": "code",
   "execution_count": null,
   "id": "22777784-a00c-49f3-9ef0-9b0ae84687de",
   "metadata": {},
   "outputs": [],
   "source": [
    "%%bash\n",
    "\n",
    "# other installs are already complete, we just need to install seaborn\n",
    "mamba install seaborn --quiet"
   ]
  },
  {
   "cell_type": "code",
   "execution_count": null,
   "id": "b84dd474-6da7-4605-8848-9eb1e7d8c45e",
   "metadata": {},
   "outputs": [],
   "source": [
    "from IPython.display import Image"
   ]
  },
  {
   "cell_type": "markdown",
   "id": "371e7605-9f1c-4c35-9492-f5b301a3f332",
   "metadata": {},
   "source": [
    "## Starting Data\n",
    "\n",
    "This submodule begins with a directory of genomes in FASTA format and a directory of proteomes in FAA (FASTA amino acid) format. This module is designd to work with data produced from submodule 3, but feel free replace the FAA files within the directory *proteomes* or add additional FAA files as neeeded."
   ]
  },
  {
   "cell_type": "code",
   "execution_count": null,
   "id": "cc8631f3-4be5-408e-ac17-356ba87f8e65",
   "metadata": {},
   "outputs": [],
   "source": [
    "%%bash\n",
    "\n",
    "ls data/proteomes/"
   ]
  },
  {
   "cell_type": "code",
   "execution_count": null,
   "id": "2c672628-212e-47d3-9ec5-f020d42f9be3",
   "metadata": {},
   "outputs": [],
   "source": [
    "%%bash\n",
    "\n",
    "ls data/genomes/"
   ]
  },
  {
   "cell_type": "markdown",
   "id": "2a4a6a7a-c3e3-4d12-b64d-d9959f4b2ba8",
   "metadata": {},
   "source": [
    "## Process 1: Downloading Reference Genomes and Proteomes from NCBI\n",
    "We have a directory of `genomes` and `proteomes` we created in submodules 1-3. To provide these context, we can also access thousands of deposited and annotated bacterial genomes and proteomes from NCBI with a few commands. For comparative genomics, we will grab several genomes in "
   ]
  },
  {
   "cell_type": "code",
   "execution_count": null,
   "id": "7a726735-7171-4330-bb60-b2bd58b4a2a1",
   "metadata": {},
   "outputs": [],
   "source": [
    "%%bash\n",
    "\n",
    "# download the list of all refseq assemblies\n",
    "if [[ ! -s assembly_summary_refseq.txt ]]\n",
    "then\n",
    "    wget https://ftp.ncbi.nlm.nih.gov/genomes/ASSEMBLY_REPORTS/assembly_summary_refseq.txt -O assembly_summary_refseq.txt --quiet --no-check-certificate\n",
    "fi"
   ]
  },
  {
   "cell_type": "code",
   "execution_count": null,
   "id": "19128ed3-63cf-47f3-b9ca-514f82752355",
   "metadata": {},
   "outputs": [],
   "source": [
    "%%bash\n",
    "\n",
    "species=\"Campylobacter jejuni\"\n",
    "\n",
    "# we can use grep to search for our target organism\n",
    "grep \"$species\" assembly_summary_refseq.txt | head -n 3"
   ]
  },
  {
   "cell_type": "markdown",
   "id": "cbf86e68-fe72-4dda-bdb3-017aa996f39e",
   "metadata": {},
   "source": [
    "<div class=\"alert alert-block alert-info\"><b>Tip</b>: Click on one of the blue highlighted links above to be taken to an assembly page on NCBIs server. Notice how the assembly page is laid out just like a directory and the link looks like a path. This is just like how our cloud server works!</div>"
   ]
  },
  {
   "cell_type": "markdown",
   "id": "f0c1ab77-d4b6-451c-9c87-17b9f15989ec",
   "metadata": {},
   "source": [
    "<p align=\"center\">\n",
    "  <img src=\"images/ncbi_screenshot.png\" width=\"80%\"/>\n",
    "</p>"
   ]
  },
  {
   "cell_type": "markdown",
   "id": "5fd4089c-05a3-4ac6-b270-cfb985084049",
   "metadata": {},
   "source": [
    "Let's use grep again to search for our organism, but this time we are going to `sort` the results randomly and take the top 10 results. We can then use `cut` to select only the 20th column which contains the link. We will also add an **outgroup** which should fall outside our other isolates in further analyses. After, we will loop through the links and download them by adding the file we want from the assembly directory to the end of the link.\n",
    "\n",
    "In the case that multiple species are included in the analysis, separate species names can be searched with a pipe symbol (`|`)."
   ]
  },
  {
   "cell_type": "code",
   "execution_count": null,
   "id": "14551b82-0013-4ed8-8e72-b826a2dfdf41",
   "metadata": {},
   "outputs": [],
   "source": [
    "%%bash\n",
    "\n",
    "# if you are running this analysis again, clean up the old files\n",
    "if [[ -f .submodule4_run ]]\n",
    "then\n",
    "    rm query_list.txt reference_list.txt\n",
    "    rm data/*/Campy*\n",
    "    rm orthogroup_upsetplot.png\n",
    "    rm -r orthofinder-analysis\n",
    "    rm fastani_heatmap.png\n",
    "    rm fastani_output.tsv\n",
    "    rm .submodule4_run\n",
    "fi\n",
    "\n",
    "touch .submodule4_run"
   ]
  },
  {
   "cell_type": "markdown",
   "id": "597131c5-2cdc-4171-90dc-dff8df1bee1e",
   "metadata": {},
   "source": [
    "<div class=\"alert alert-block alert-info\"><b>Tip</b>: Starting a file name with a <code>.</code> will typically hide it in any file browser or standard <code>ls</code>. Take a look at the difference between the two command outputs below.</div>"
   ]
  },
  {
   "cell_type": "code",
   "execution_count": null,
   "id": "16b88dbc-6166-47fe-9b54-4de44f7897ce",
   "metadata": {},
   "outputs": [],
   "source": [
    "%%bash\n",
    "\n",
    "echo \"=====Regular ls=====\"\n",
    "ls\n",
    "\n",
    "# -a stands for ALL\n",
    "echo \"=====All ls=====\"\n",
    "ls -a"
   ]
  },
  {
   "cell_type": "code",
   "execution_count": null,
   "id": "f85690d3-f57e-4e0c-8c62-c5abbf74b9d2",
   "metadata": {},
   "outputs": [],
   "source": [
    "%%bash\n",
    "\n",
    "species=\"Campylobacter jejuni|Campylobacter coli\"\n",
    "outgroup=\"Campylobacter fetus\"\n",
    "\n",
    "links=$(grep -E \"$species\" assembly_summary_refseq.txt | sort -R | head -n 10 | cut -f 20)\n",
    "\n",
    "# adding an outgroup for our analysis\n",
    "# Add the link for the outgroup (just one for now)\n",
    "outgroup_link=$(grep \"$outgroup\" assembly_summary_refseq.txt | sort -R | head -n 1 | cut -f 20)\n",
    "\n",
    "# Append outgroup link to the species links\n",
    "links=\"$links $outgroup_link\"\n",
    "\n",
    "\n",
    "for link in $links\n",
    "do\n",
    "\n",
    "    # gets the species corresponding to the isolate\n",
    "    species=$(grep $link assembly_summary_refseq.txt | cut -f 8 | cut -f 1-2 -d' ' | sed 's/ /_/')\n",
    "    # gets the accession number from the full link\n",
    "    accession=$(echo $link | awk -F'/' '{print $NF}')\n",
    "    \n",
    "    echo Downloading $species from $(echo $link)\n",
    "\n",
    "    # gets file names\n",
    "    genome_file=${accession}_genomic.fna.gz\n",
    "    proteome_file=${accession}_protein.faa.gz\n",
    "\n",
    "    # gets fna download link\n",
    "    fna=${link}/${genome_file}\n",
    "    faa=${link}/${proteome_file}\n",
    "\n",
    "    # wget downloads the file\n",
    "    # -O specifies a name for the output file\n",
    "    wget $fna -O data/genomes/${species}_${genome_file} --quiet --no-check-certificate\n",
    "    wget $faa -O data/proteomes/${species}_${proteome_file} --quiet --no-check-certificate\n",
    "\n",
    "done"
   ]
  },
  {
   "cell_type": "code",
   "execution_count": null,
   "id": "fda0745f-75bd-422e-96fd-2b6829b44331",
   "metadata": {},
   "outputs": [],
   "source": [
    "%%bash\n",
    "\n",
    "# lastly, we have to unzip the genome and proteome files\n",
    "gunzip data/genomes/*.gz\n",
    "gunzip data/proteomes/*.gz\n",
    "\n",
    "\n",
    "# echo list the two starting directories\n",
    "echo '-----------------GENOMES--------------------'\n",
    "ls data/genomes/\n",
    "echo '-----------------PROTEOMES------------------'\n",
    "ls data/proteomes/"
   ]
  },
  {
   "cell_type": "markdown",
   "id": "ae7e677e-0efe-4487-9495-bb55b9a0191e",
   "metadata": {},
   "source": [
    "We now have 11 genomes and 11 proteomes from NCBI which we can use for comparative genomics! Let's start by comparing our genomes to the NCBI isolates with FastANI."
   ]
  },
  {
   "cell_type": "markdown",
   "id": "615549a3-0c68-4dc4-b6d2-d22aa7f1fb94",
   "metadata": {},
   "source": [
    "## Process 2: Comparing Average Nucleotide Identity using FastANI\n",
    "Program: FastANI - Fast alignment-free computation of whole-genome Average Nucleotide Identity (ANI)\n",
    "Citation : Jain, C., Rodriguez-R, L.M., Phillippy, A.M. et al. *High throughput ANI analysis of 90K prokaryotic genomes reveals clear species boundaries.* Nat Commun 9, 5114 (2018). https://doi.org/10.1038/s41467-018-07641-9\n",
    "\n",
    "Manual: https://github.com/ParBLiSS/FastANI\n",
    "\n",
    "FastANI is developed for fast alignment-free computation of whole-genome Average Nucleotide Identity (ANI). ANI is defined as mean nucleotide identity of orthologous gene pairs shared between two microbial genomes. FastANI supports pairwise comparison of both complete and draft genome assemblies and avoids expensive sequence alignments in most ANI tools. With all our genomes on hand, we can make an initial comparison of ANI to give a preview of potential patterns among our genome set."
   ]
  },
  {
   "cell_type": "code",
   "execution_count": null,
   "id": "b789175c-07b7-4935-8158-72ff58546271",
   "metadata": {},
   "outputs": [],
   "source": [
    "%%bash\n",
    "\n",
    "# take a look at the help menu\n",
    "fastANI -h"
   ]
  },
  {
   "cell_type": "markdown",
   "id": "1f0b69a5-7ba4-4275-bc1c-f22d71633f4e",
   "metadata": {},
   "source": [
    "We want to run FastANI with all of our genomes queried against each other. This corresponds to the example in the manual `fastANI --ql [QUERY_LIST] --rl [REFERENCE_LIST] -o [OUTPUT_FILE]`. The query and reference lists are lists of the paths to our genomes. Let's first make these files with some more bash looping."
   ]
  },
  {
   "cell_type": "code",
   "execution_count": null,
   "id": "fe86229f-a25e-481e-b88c-13c61e2b2fd1",
   "metadata": {},
   "outputs": [],
   "source": [
    "%%bash\n",
    "\n",
    "# looping through all genome files in our genome directory\n",
    "for genome in data/genomes/*\n",
    "do\n",
    "    # readlink gets the full path to the genome, tee writes the path to two files at once\n",
    "    echo $genome | tee -a query_list.txt reference_list.txt\n",
    "done"
   ]
  },
  {
   "cell_type": "code",
   "execution_count": null,
   "id": "25b89b71-87e8-4abe-a214-f099b43a9465",
   "metadata": {},
   "outputs": [],
   "source": [
    "%%bash\n",
    "\n",
    "fastANI --ql query_list.txt --rl reference_list.txt -t 24 -o fastani_output.tsv --minFraction 0"
   ]
  },
  {
   "cell_type": "code",
   "execution_count": null,
   "id": "20961eba-3cc4-4c32-96c6-2e4786bf001a",
   "metadata": {},
   "outputs": [],
   "source": [
    "%%bash\n",
    "\n",
    "# taking a look at our output\n",
    "head -n 5 fastani_output.tsv"
   ]
  },
  {
   "cell_type": "markdown",
   "id": "b7bdcf60-3b22-4b10-834a-a11ec72564bd",
   "metadata": {},
   "source": [
    "### Explanation of FastANI output\n",
    "\n",
    "FastANI outputs a tab delimited file with a row for every query genome and five columns. The columns correspond to the query genome, the reference genome, ANI value, count of bidirectional fragment mappings, and total query fragments respectively. Genomes from the same species as our isolate should have an ANI >95%, while genomes from the same genus but different species will be lower.\n",
    "\n",
    "For some downstream analysis, we should clean these names up a bit. We don't need the preceding data/genomes/ before every one of our genomes. Below, we use `sed` to edit a file in place, replacing all instance of `/data/genomes/` with empty text. More info on `sed` can be found in its manual page [here](https://linux.die.net/man/1/sed)."
   ]
  },
  {
   "cell_type": "code",
   "execution_count": null,
   "id": "eabc12f5-daf6-400e-9625-1eedb8870fd6",
   "metadata": {},
   "outputs": [],
   "source": [
    "%%bash\n",
    "\n",
    "# sed syntax is 's|what we want to find|what we want to replace it with|'\n",
    "# the -i flag specifies that the operation is in place and won't make a new file\n",
    "# the g at the end of the sed expression stands for global--replacing every instance in the whole document\n",
    "sed -i 's|data/genomes/||g' fastani_output.tsv"
   ]
  },
  {
   "cell_type": "code",
   "execution_count": null,
   "id": "a461fbec-9cf0-4958-b022-29acf277d659",
   "metadata": {},
   "outputs": [],
   "source": [
    "%%bash\n",
    "\n",
    "# we should see the effect of sed now\n",
    "head -n 5 fastani_output.tsv"
   ]
  },
  {
   "cell_type": "markdown",
   "id": "269bcfec-f23e-427e-a264-30e13b56519f",
   "metadata": {},
   "source": [
    "Starting from a clean FastANI output file, we can use some custom Python scripting to generate a heatmap and cladogram. Lets see how the scripts `fastANI_heatmap.py` runs first by calling the help menu."
   ]
  },
  {
   "cell_type": "code",
   "execution_count": 5,
   "id": "bb76ec59-4260-4826-92e6-9845fb95b299",
   "metadata": {},
   "outputs": [
    {
     "name": "stdout",
     "output_type": "stream",
     "text": [
      "usage: fastANI_heatmap.py [-h] [--input INPUT] [--out OUT]\n",
      "\n",
      "Creates a heatmap from fastANI results\n",
      "\n",
      "options:\n",
      "  -h, --help            show this help message and exit\n",
      "  --input INPUT, -i INPUT\n",
      "                        FastANI results to make a heatmap from\n",
      "  --out OUT             Name of the resulting heatmap\n"
     ]
    }
   ],
   "source": [
    "%%bash\n",
    "\n",
    "scripts/fastANI_heatmap.py -h"
   ]
  },
  {
   "cell_type": "markdown",
   "id": "8bd5efa5-9871-45c1-b27a-27105485dde4",
   "metadata": {},
   "source": [
    "The heatmap script just wants an input FastANI file in the `--input` flag, and an output file in the `--out` flag. Let's run this below:"
   ]
  },
  {
   "cell_type": "code",
   "execution_count": null,
   "id": "5cbda6bf-d000-46b6-afe4-d80e90bc0da3",
   "metadata": {},
   "outputs": [],
   "source": [
    "%%bash\n",
    "\n",
    "scripts/fastANI_heatmap.py --input fastani_output.tsv --out fastani_heatmap.png"
   ]
  },
  {
   "cell_type": "markdown",
   "id": "74b5adfb-caae-4f61-86db-fc95fc4a14dc",
   "metadata": {},
   "source": [
    "## A Briefer on Phylogeny\n",
    "\n",
    "<p align=\"center\">\n",
    "  <img src=\"images/phylogeny_explanation.png\" width=\"80%\"/>\n",
    "</p>\n",
    "\n",
    "This image illustrates the concept of **phylogenetic trees**, which are used to represent evolutionary relationships among species. Each branch point, or node, represents a common ancestor shared by the species that diverge from it. The tree branches from left to right, moving from ancestors to present-day species. For example, the most recent common ancestor of species A and B is highlighted at the upper node connecting them. The equal branch lengths to A and B from their most recent common ancestor suggests that they have diverged equally over time. The root at the base of the tree represents the most recent common ancestor of all the species shown (A, B, C, D, and E). In this tree, species E is the **outgroup**, as it diverged earliest and shares a more distant common ancestor with the other species. Understanding these relationships helps scientists study how species have evolved over time and how they are related.\n",
    "\n",
    "### Cladograms vs. Phylogenetic Trees\n",
    "Both **cladograms** and **phylogenetic trees** are used to represent relationships among organisms, but they differ in the type of information they convey and how they are interpreted. A **cladogram** shows relationships based on shared derived characteristics without reflecting evolutionary time or genetic distance. Its branches are usually equal or arbitrary in length, focusing on the order of branching to indicate relative relationships and shared ancestry. In contrast, a **phylogenetic tree** provides a more detailed view of evolutionary history, incorporating both shared ancestry and the degree of divergence. Branch lengths in a **phylogenetic tree** represent *evolutionary time, genetic changes, or evolutionary distance*, depending on the data used. While a **cladogram** offers a qualitative view of relationships by highlighting who is more closely related to whom, a **phylogenetic tree** provides a quantitative perspective, often including a scale for time or genetic distance.\n",
    "\n",
    "### Visualizing the ANI cladogram\n",
    "Running the below cell with display the heatmap from FastANI which contains a cladogram. What do these results tell us? Is our outgroup the same species or different than the rest of our isolates? Do you see other interesting pattens?"
   ]
  },
  {
   "cell_type": "code",
   "execution_count": null,
   "id": "bc1bb633-3b12-4657-86ad-66c8548e9425",
   "metadata": {},
   "outputs": [],
   "source": [
    "Image(filename='fastani_heatmap.png')"
   ]
  },
  {
   "cell_type": "markdown",
   "id": "6584f19a-ad07-4e63-ac04-ee392f77c0a6",
   "metadata": {},
   "source": [
    "## Process 3: OrthoFinder Pairwise Orthology Analysis\n",
    "Program: OrthoFinder: phylogenetic orthology inference for comparative genomics\n",
    "Citation : Emms, D.M., Kelly, S. OrthoFinder: phylogenetic orthology inference for comparative genomics. Genome Biol 20, 238 (2019). https://doi.org/10.1186/s13059-019-1832-y\n",
    "\n",
    "Manual: https://github.com/davidemms/OrthoFinder\n",
    "\n",
    "There are many ways to make phylogenetic comparisons. FastANI, as it suggests in the name, is a fast option. However, Average Nucleotide Identity is not the most accurate predictor of evolutionary relationship. For this, we want to turn to ortholog analysis, that is, looking at the shared and unshared genes and their sequences among our isolates. We have a already added sequences from NCBI to our `proteomes` directory. Here, we will use them for comparative genomics analysis with **OrthoFinder**. The manual is very detailed, I recommend taking some time to read it.\n",
    "\n",
    "The program takes a set of protein sequences for each isolate and runs pair-wise comarisons to identify orhtologous groups. For each orthogroup a gene tree is calculated and in the end an overall species tree is computed. To get a meaningful phylogenetic tree we need to be sure to include **at least four different genome datasets**. Ideally we would run this program with all of the avaialble sequences on NCBI. As you can imagine, a pairwise comparison with thousands of *Campylobacter* genomes would take a long time (days). We will therefore run it with our reduced set."
   ]
  },
  {
   "cell_type": "markdown",
   "id": "547fd702-0e73-4c8c-85a5-2a9139d34ed1",
   "metadata": {},
   "source": [
    "Start by counting the number of proteins in all the starting files. Think about what these numbers tell us right off the bat."
   ]
  },
  {
   "cell_type": "code",
   "execution_count": null,
   "id": "f573ea00-2655-4e1a-bf79-bf0436fed2b6",
   "metadata": {},
   "outputs": [],
   "source": [
    "%%bash\n",
    "\n",
    "# grep -c will count the occurences of a searched string\n",
    "grep -c '>' data/proteomes/*.faa"
   ]
  },
  {
   "cell_type": "code",
   "execution_count": null,
   "id": "d6193f9b-88eb-40a2-bfb5-64993daff8e7",
   "metadata": {},
   "outputs": [],
   "source": [
    "%%bash\n",
    "\n",
    "# as always, we should take a look at the help menu\n",
    "orthofinder -h"
   ]
  },
  {
   "cell_type": "markdown",
   "id": "78f489a8-abc3-45b3-ad51-639d11e0af54",
   "metadata": {},
   "source": [
    "We want to run Orthofinder with all of our proteomes queried against each other. For orthofinder, this simply requires pointing to the directory that our proteomes our in with `orthofinder -f <dir>`"
   ]
  },
  {
   "cell_type": "markdown",
   "id": "c3681a76-36f7-48f3-88a3-dc2175190fe2",
   "metadata": {},
   "source": [
    "<div class= \"alert alert-block alert-info\"><b>Tip</b>: Although there are no standards, in many programs <code>-o</code> is the the flag for an output file or directory, while <code>-t</code> typically corresponds to threads.</div></div>"
   ]
  },
  {
   "cell_type": "code",
   "execution_count": null,
   "id": "f0050af4-4fe9-4e3c-9137-670d5b3f7301",
   "metadata": {},
   "outputs": [],
   "source": [
    "%%bash\n",
    "\n",
    "# running orthofinder with thread and parallelization options to speed up analysis\n",
    "orthofinder -t 24 -a 24 -f data/proteomes/ -o orthofinder-analysis"
   ]
  },
  {
   "cell_type": "markdown",
   "id": "64994071-9d15-41f5-ab9f-5a178a7316bc",
   "metadata": {},
   "source": [
    "## Examine the output files\n",
    "\n",
    "Let's take a look at the output directory from OrthoFinder first:"
   ]
  },
  {
   "cell_type": "code",
   "execution_count": null,
   "id": "f351aa1e-5d6a-4c07-a313-4374e1fb0ae2",
   "metadata": {},
   "outputs": [],
   "source": [
    "%%bash\n",
    "\n",
    "# orthofinder puts results in a directory titled Results_MonthDate\n",
    "ls orthofinder-analysis/Results*/"
   ]
  },
  {
   "cell_type": "markdown",
   "id": "6d1fd294-6ffc-47d6-8af2-043ed67ba5a3",
   "metadata": {},
   "source": [
    "We can see that OrthoFinder outputs a bunch of result files. Let's see what these files contain and highlight some of the important files."
   ]
  },
  {
   "cell_type": "markdown",
   "id": "9d1c9f62-02cc-41a0-bc88-e501a0936a89",
   "metadata": {},
   "source": [
    "### Orthogroups.tsv\n",
    "\n",
    "A **tab** seperated table where each orthogroup is a row and each column is a different sample.\n",
    "\n",
    "The table provides all of the data for orthogroups that are in at least two different samples. If a sample has more than one protein for that particular orthogroup than it will have a comma seperated list for the entry. Let's first take a look with `head` and then use some more advanced python methods with `pandas` to view the data table."
   ]
  },
  {
   "cell_type": "code",
   "execution_count": null,
   "id": "0bef9197-83b2-4b3b-bd8f-4551b021e97c",
   "metadata": {},
   "outputs": [],
   "source": [
    "%%bash\n",
    "\n",
    "head -n 5 orthofinder-analysis/Results*/Orthogroups/Orthogroups.tsv"
   ]
  },
  {
   "cell_type": "code",
   "execution_count": null,
   "id": "bacfb204-b9e3-4f89-bb39-e891bf2e5743",
   "metadata": {},
   "outputs": [],
   "source": [
    "# pandas is a library that deals with tables AKA dataframes\n",
    "import pandas as pd\n",
    "\n",
    "pd.read_csv(\"orthofinder-analysis/Results_*/Orthogroups/Orthogroups.tsv\", \n",
    "            sep=\"\\t\")"
   ]
  },
  {
   "cell_type": "markdown",
   "id": "208d6bf6-a195-46d5-9f06-e0134df0cca0",
   "metadata": {},
   "source": [
    "Pandas is great not only for viewing the data, but also for performing operations on the data frame. Since many of the OrthoFinder files are tables, we will use pandas to inspect and analyze them."
   ]
  },
  {
   "cell_type": "markdown",
   "id": "7b8d2697-c0f7-459b-8c3f-665ec86cbeca",
   "metadata": {},
   "source": [
    "### Orthogroups_UnassignedGenes.tsv\n",
    "\n",
    "This table is in the same format as above, however this one contains Orthogroups that are unique to a single sample. As you scroll right you should notice that these Orthogroups are populated only in one sample each. "
   ]
  },
  {
   "cell_type": "code",
   "execution_count": null,
   "id": "72607425-3ba7-4c89-8936-7a5b6a27d367",
   "metadata": {},
   "outputs": [],
   "source": [
    "unassigned = pd.read_csv(\"orthofinder-analysis/Results_*/Orthogroups/Orthogroups_UnassignedGenes.tsv\", sep=\"\\t\")\n",
    "unassigned"
   ]
  },
  {
   "cell_type": "markdown",
   "id": "30267454-31bd-4b00-94c1-5a3f366df129",
   "metadata": {},
   "source": [
    "We can use the `.count()` method on a `pandas` dataframe to count the number of non NaN values in each row. For the unassigned genes file, this corresponds to the number of unique Orthogroups per each sample. Run the below cell. Are the results what you expect? Does your outgroup contain the most unique Orthogroups? Do the number of unique Orthogroups correspond to the FastANI cladogram from above?"
   ]
  },
  {
   "cell_type": "code",
   "execution_count": null,
   "id": "66d04c2a-d3b5-4b79-b487-3dbab34da8ad",
   "metadata": {},
   "outputs": [],
   "source": [
    "unassigned.count()"
   ]
  },
  {
   "cell_type": "markdown",
   "id": "175e69bc-edd6-47c9-9cda-847743465e20",
   "metadata": {},
   "source": [
    "### Orthogroups.GeneCount.tsv\n",
    "\n",
    "This output file displays each orthogroup as a row while columns correspond to the number of genes (count) in that orthogroup per species. This can be easily parsed to see what orthogroups are specific to which species. Scrolling all the way to the right will show the total number of genes in each orthogroup."
   ]
  },
  {
   "cell_type": "code",
   "execution_count": null,
   "id": "11d7fa99-5a40-4187-8eba-e298837accbf",
   "metadata": {},
   "outputs": [],
   "source": [
    "gene_counts = pd.read_csv(\"orthofinder-analysis/Results_*/Orthogroups/Orthogroups.GeneCount.tsv\", sep=\"\\t\")\n",
    "gene_counts"
   ]
  },
  {
   "cell_type": "markdown",
   "id": "a8bf69c2-f04b-4f7d-8e70-9ebc83e1f562",
   "metadata": {},
   "source": [
    "### SpeciesTree_rooted.txt\n",
    "\n",
    "One of the most important outputs from OrthoFinder is the rooted-species tree. Unlike the fastANI cladogram above, this species tree is phylogenetically relevant, showing the evolutionary distance between the species in the analysis. This file is in *Newick* format, let's check out what that looks like."
   ]
  },
  {
   "cell_type": "code",
   "execution_count": null,
   "id": "bd2013d5-1997-43e8-9fbd-e6b1d1fbf5bf",
   "metadata": {},
   "outputs": [],
   "source": [
    "%%bash\n",
    "\n",
    "cat orthofinder-analysis/Results_*/Species_Tree/SpeciesTree_rooted.txt"
   ]
  },
  {
   "cell_type": "markdown",
   "id": "c587427c-407e-4574-a931-0da2980047b4",
   "metadata": {},
   "source": [
    "#### Newick Formatted Phylogeny Trees\n",
    "\n",
    "This output seems a bit different from our example phylogenetic tree above. This is because the tree is in Newick format! The Newick format is a widely used way to represent phylogenetic trees in a compact, text-based manner. It encodes the tree structure using parentheses to group related taxa and commas to separate branches, with branch lengths optionally included as numerical values. Newick format is commonly used because it is machine-readable and compatible with various bioinformatics tools for analyzing and visualizing phylogenetic trees. Because bioinformatic file formats are typically uniform, we can use existing tools to convert our tree to a more human-friendly view.\n",
    "\n",
    "Below, we will use `BioPython` to convert our text file to a 2-D phylogenetic tree."
   ]
  },
  {
   "cell_type": "code",
   "execution_count": null,
   "id": "e797dc8f-1b5f-426a-b9c4-8ddb41ff2427",
   "metadata": {},
   "outputs": [],
   "source": [
    "from Bio import Phylo\n",
    "import matplotlib.pyplot as plt\n",
    "import glob\n",
    "\n",
    "# Here we use a wildcard to automatically expand the tree path\n",
    "tree_path = glob.glob(\"orthofinder-analysis/Results_*/Species_Tree/SpeciesTree_rooted.txt\")[0]\n",
    "\n",
    "# Load the tree file into a Bio.Phylo object\n",
    "tree = Phylo.read(tree_path, \"newick\", rooted=True)\n",
    "\n",
    "# outgroup species separated by an underscore\n",
    "outgroup_prefix = \"Campylobacter_fetus\"\n",
    "\n",
    "# Find outgroup clade\n",
    "outgroup = [clade for clade in tree.find_clades() if clade.name and clade.name.startswith(outgroup_prefix)][0]\n",
    "\n",
    "# find the outgroup and reroot there\n",
    "tree.root_with_outgroup(outgroup)\n",
    "# add the location of the root node\n",
    "tree.root.name = \"Root\"\n",
    "\n",
    "fig, ax = plt.subplots(figsize=(10, 6))  # Create a figure and axes\n",
    "Phylo.draw(tree, show_confidence=False, axes=ax)"
   ]
  },
  {
   "cell_type": "markdown",
   "id": "03e376e5-5e5c-4961-8f45-0dde09cf83a2",
   "metadata": {},
   "source": [
    "#### Rooting Phylogeny Trees\n",
    "\n",
    "We have mentioned the **outgroup** several times to this point, but what is its purpose? The **outgroup** is a species or clade that is closely related to the taxa of interest but not part of the group being studied. By including an **outgroup**, we can identify the most basal or ancestral traits in the tree, which help define the root and provide context for the branching patterns of the **ingroup**. Rooting a phylogenetic tree with an outgroup is essential for determining the evolutionary direction and establishing a point of reference for the tree.\n",
    "\n",
    "For dissemenation of phylogenetic results, it is *essential* to leave in an outgroup used to root the tree. We will prune our outgroup here only as a way to to zoom in on our ingroup isolates."
   ]
  },
  {
   "cell_type": "code",
   "execution_count": null,
   "id": "0e0f21c8-b633-414f-b45c-66d8bea635b4",
   "metadata": {},
   "outputs": [],
   "source": [
    "# Prune the specified outgroup node\n",
    "tree.prune(outgroup)\n",
    "tree.root.name = \"Root\"\n",
    "\n",
    "fig, ax = plt.subplots(figsize=(10, 6))  # Create a figure and axes\n",
    "Phylo.draw(tree, show_confidence=False, axes=ax)"
   ]
  },
  {
   "cell_type": "markdown",
   "id": "3a5a4c63-d327-49cb-a2e0-e0916e0bf4ea",
   "metadata": {},
   "source": [
    "## Interpreting Results in Context\n",
    "\n",
    "Take a look at the phylogenetic tree we just made. Do you see these same patterns in the FastANI heatmap (provided in the cell below)? What do these results tell us? Do we see any intersting clades, or groupings of our isolates in context? If you are following along with the example data, you may notice that some of the SRR isolates cluster with *Campylobacter coli* and others cluster with *Campylobacter jejuni*. Do these align with our expectations?"
   ]
  },
  {
   "cell_type": "code",
   "execution_count": null,
   "id": "55ba0993-81e3-457a-8f0c-7a3791e1cce6",
   "metadata": {},
   "outputs": [],
   "source": [
    "Image(filename='fastani_heatmap.png')"
   ]
  },
  {
   "cell_type": "markdown",
   "id": "a3bf935f-0d26-4950-bdc1-4d7d71e64614",
   "metadata": {},
   "source": [
    "| **Isolate No.** | **SRA Accession** | **Species**  | **Resistance to Erythromycin (Macrolide)** | **Resistance to Ciprofloxacin (Fluoroquinolone)** | **Resistance Determinants (Ciprofloxacin)** | **Resistance to Tetracycline (Tetracycline)** | **Resistance Determinants (Tetracycline)** | **Resistance to Gentamicin (Aminoglycoside)** | **Resistance Determinants (Gentamicin)** | **Resistance to Streptomycin (Aminoglycoside)** | **Resistance Determinants (Streptomycin)** |\n",
    "|------------------|-------------------|--------------|--------------------------------------------|--------------------------------------------------|---------------------------------------------|----------------------------------------------|---------------------------------------------|-----------------------------------------------|-------------------------------------------|------------------------------------------------|---------------------------------------------|\n",
    "| 72               | SRR10067958      | *C. jejuni*  | S                                          | S                                                | —                                           | R                                            | —                                           | S                                             | —                                         | S                                              | —                                           |\n",
    "| 91               | SRR10068079      | *C. jejuni*  | S                                          | S                                                | gyrA_CJ[86:T-I]                             | S                                            | tet(O)                                      | S                                             | —                                         | S                                              | —                                           |\n",
    "| 145              | SRR10068117      | *C. jejuni*  | S                                          | S                                                | —                                           | R                                            | —                                           | S                                             | —                                         | S                                              | —                                           |\n",
    "| 193              | SRR10056681      | *C. jejuni*  | S                                          | S                                                | gyrA_CJ[86:T-I]                             | R                                            | tet(O)_2                                    | S                                             | —                                         | R                                              | —                                           |\n",
    "| 213              | SRR10056829      | *C. jejuni*  | S                                          | S                                                | —                                           | S                                            | tet(O)                                      | S                                             | —                                         | S                                              | ant(6)-Ia, aadE-Cp2                        |\n",
    "| 214              | SRR10056914      | *C. coli*    | S                                          | S                                                | —                                           | S                                            | —                                           | S                                             | —                                         | S                                              | —                                           |\n",
    "| 242              | SRR10056778      | *C. coli*    | S                                          | S                                                | —                                           | S                                            | —                                           | S                                             | —                                         | R                                              | —                                           |\n",
    "| 248              | SRR10056855      | *C. jejuni*  | S                                          | S                                                | 23s_CJ[2074:A-M], gyrA_CJ[86:T-I; 90:D-N]  | R                                            | tet(O)_2                                    | S                                             | —                                         | S                                              | —                                           |\n",
    "| 263              | SRR10056784      | *C. jejuni*  | S                                          | S                                                | gyrA_CJ[86:T-I]                             | R                                            | tet(O)_2                                    | S                                             | —                                         | R                                              | ant(6)-Ia, aadE-Cp2                        |\n",
    "| 276              | SRR10056856      | *C. jejuni*  | S                                          | S                                                | —                                           | S                                            | —                                           | S                                             | —                                         | R                                              | —                                           |\n",
    "\n"
   ]
  },
  {
   "cell_type": "code",
   "execution_count": null,
   "id": "87856fd0-f907-49cd-89d8-07c19b5f69c9",
   "metadata": {},
   "outputs": [],
   "source": [
    "%%bash\n",
    "\n",
    "scripts/upset_plot_from_bins_tsv.py --help"
   ]
  },
  {
   "cell_type": "code",
   "execution_count": null,
   "id": "b95fbcf0-1e9f-4963-82f2-b0c533d26629",
   "metadata": {},
   "outputs": [],
   "source": [
    "%%bash\n",
    "\n",
    "scripts/upset_plot_from_bins_tsv.py --genes orthofinder-analysis/Results_*/Orthogroups/Orthogroups.GeneCount.tsv --out orthogroup_upsetplot.png"
   ]
  },
  {
   "cell_type": "code",
   "execution_count": null,
   "id": "91fcb16a-8c43-413e-99c6-a91574fd620d",
   "metadata": {},
   "outputs": [],
   "source": [
    "Image('orthogroup_upsetplot.png')"
   ]
  },
  {
   "cell_type": "markdown",
   "id": "cdd6fe1c-ac7d-4919-8422-b8cd3806c021",
   "metadata": {},
   "source": [
    "## Conclusion\n",
    "\n",
    "End of submodule 4. After learning about how genome sequencing works (and where it can go wrong) we went through standard processing steps (FASTQC and FASTP) and ultimetly ran a genome assembly tool. The final output from spades represents our draft genome sequence.\n",
    "\n",
    "Be sure to shut down your instance. We will run one more bit of code to copy our genome file for use in submodule 2."
   ]
  }
 ],
 "metadata": {
  "kernelspec": {
   "display_name": "",
   "name": ""
  },
  "language_info": {
   "name": ""
  }
 },
 "nbformat": 4,
 "nbformat_minor": 5
}
