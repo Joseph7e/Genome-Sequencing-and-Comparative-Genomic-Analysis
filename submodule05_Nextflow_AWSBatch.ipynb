{
 "cells": [
  {
   "cell_type": "markdown",
   "id": "99cfa998-06b6-4b42-ae3a-b4e011750d31",
   "metadata": {},
   "source": [
    "# RNA-Seq Analysis using Nextflow and AWS Batch"
   ]
  },
  {
   "cell_type": "markdown",
   "id": "4126cb07-34ee-4780-838f-872015a882b3",
   "metadata": {},
   "source": [
    "## Overview"
   ]
  },
  {
   "cell_type": "markdown",
   "id": "f15ea992-faa6-4705-8384-eb5d81f5daff",
   "metadata": {},
   "source": [
    "This short tutorial demonstrates how to run a comparative genomics workflow using a bacteria data set. Steps in the workflow combine the analyses you performed in previous submodules, and include:\n",
    "- Read QC and trimming (fastqc, fastp)\n",
    "- Genome assembly (SPAdes)\n",
    "- Contiguity assessment (QUAST)\n",
    "- Completeness assessment (BUSCO)\n",
    "- Coverage assessment (BWA & Samtools)\n",
    "- Taxonomic assignment (BLAST)\n",
    "- Combine datasets (Blobtools)\n",
    "- Genome annotation (Bakta)\n",
    "\n",
    "The tutorial uses a popular workflow manager called [Nextflow](https://www.nextflow.io) run via [AWS Batch](https://aws.amazon.com/batch/) to automate the processes run in Submodules 1 & 2.\n",
    "\n",
    "AWS Batch will create the needed permissions, roles and resources to run Nextflow in a serverless manner. You can set up AWS Batch manually or deploy it **automatically** with a stack template. The Launch Stack button below will take you to the cloud formation create stack webpage with the template with required resources already linked. \n",
    "\n",
    "If you prefer to skip manual deployment and deploy automatically in the cloud, click the Launch Stack button below. For a walkthrough of the screens during automatic deployment please click [here](https://github.com/NIGMS/NIGMS-Sandbox/blob/main/docs/HowToLaunchAWSBatch.md). The deployment should take ~5 min and then the resources will be ready for use. \n",
    "\n",
    "[![Launch Stack](images/LaunchStack.jpg)](https://console.aws.amazon.com/cloudformation/home?#/stacks/new?stackName=aws-batch-nigms&templateURL=https://nigms-sandbox.s3.us-east-1.amazonaws.com/cf-templates/AWSBatch_template.yaml )\n",
    "\n",
    "Before begining this tutorial, if you do not have required roles, policies, permissions or compute environment and would like to **manually** set those up please click [here](https://github.com/NIGMS/NIGMS-Sandbox/blob/main/docs/AWS-Batch-Setup.md) to set that up.\n"
   ]
  },
  {
   "cell_type": "markdown",
   "id": "56d718a8",
   "metadata": {},
   "source": [
    "## Prerequisites\n",
    "#### Python requirements\n",
    "+ Python >= 3.8\n",
    "\n",
    "#### AWS requirements\n",
    "+ Please ensure you have a VPC, subnets, and security group set up before running this tutorial.\n",
    "+ Role with AdministratorAccess, AmazonSageMakerFullAccess, S3 access and AWSBatchServiceRole.\n",
    "+ Instance Role with AmazonECS_FullAccess, AmazonEC2ContainerRegistryFullAccess, and S3 access.\n",
    "+ If you do not have the required set-up for AWS Batch please follow this tutorial [here](https://github.com/STRIDES/NIHCloudLabAWS/blob/zbyosufzai-awsbatch-1/notebooks/AWSBatch/Intro_AWS_Batch.ipynb#install_nextflow). ***When making the instance role, make another for SageMaker notebooks with the following permissions: AdminstratorAccess, AmazonEC2ContainerRegistryFullAccess, AmazonECS_FullAccess, AmazonS3FullAccess, AmazonSageMakerFullAccess, and AWSBatchServiceRole.***\n",
    "It is recommended that specific permission to folders are added through inline policy. An example of the JSON is below:\n",
    "\n",
    "<pre>\n",
    "{\n",
    "    \"Version\": \"2012-10-17\",\n",
    "    \"Statement\": [\n",
    "        {\n",
    "            \"Sid\": \"AllowSageMakerS3Access\",\n",
    "            \"Effect\": \"Allow\",\n",
    "            \"Action\": [\n",
    "                \"s3:GetObject\",\n",
    "                \"s3:PutObject\",\n",
    "                \"s3:ListBucket\",\n",
    "                \"s3:GetBucketLocation\",\n",
    "                \"s3:CreateBucket\"\n",
    "            ],\n",
    "            \"Resource\": [\n",
    "                \"arn:aws:s3:::batch-bucket\",\n",
    "                \"arn:aws:s3:::batch-bucket/*\",\n",
    "                \"arn:aws:s3:::nigms-sandbox-healthomics\",\n",
    "                \"arn:aws:s3:::nigms-sandbox-healthomics/*\",\n",
    "                \"arn:aws:s3:::ngi-igenomes\",\n",
    "                \"arn:aws:s3:::ngi-igenomes/*\"\n",
    "            ]\n",
    "        }\n",
    "    ]\n",
    "}\n",
    "</pre>\n",
    "For AWS bucket naming conventions, please click [here](https://docs.aws.amazon.com/AmazonS3/latest/userguide/bucketnamingrules.html)."
   ]
  },
  {
   "cell_type": "markdown",
   "id": "f940d3ca",
   "metadata": {},
   "source": [
    "### Step 1. Install required dependencies, update paths and create a new S3 Bucket to store input and output files (if needed)\n"
   ]
  },
  {
   "cell_type": "code",
   "execution_count": null,
   "id": "3d8b6d24",
   "metadata": {},
   "outputs": [],
   "source": [
    "import boto3\n",
    "# Get account ID and region \n",
    "account_id = boto3.client('sts').get_caller_identity().get('Account')\n",
    "region = boto3.session.Session().region_name"
   ]
  },
  {
   "cell_type": "code",
   "execution_count": null,
   "id": "0fb43e35",
   "metadata": {},
   "outputs": [],
   "source": [
    "# Set variable names \n",
    "# These variables should come from the Intro AWS Batch tutorial (or leave as-is if using the launch stack button)\n",
    "BUCKET_NAME = \"aws-batch-nigms-batch-bucket-\" + account_id\n",
    "INPUT_FOLDER = 'nigms-sandbox/unh-wgsbac-pipeline'\n",
    "AWS_QUEUE = 'aws-batch-nigms-JobQueue'\n",
    "AWS_REGION = region"
   ]
  },
  {
   "cell_type": "code",
   "execution_count": null,
   "id": "5defbe3a",
   "metadata": {},
   "outputs": [],
   "source": [
    "# Install Nextflow\n",
    "! mamba install -y -c conda-forge -c bioconda nextflow --quiet"
   ]
  },
  {
   "cell_type": "code",
   "execution_count": null,
   "id": "fdc0c5dc",
   "metadata": {},
   "outputs": [],
   "source": [
    "##### Import relevant libraries\n",
    "# Created using this https://github.com/STRIDES/NIHCloudLabAWS/blob/zbyosufzai-awsbatch-1/notebooks/AWSBatch/Intro_AWS_Batch.ipynb#install_nextflow\n",
    "#Run if you don't have Java installed\n",
    "! sudo apt update\n",
    "! sudo apt-get install default-jdk -y\n",
    "! java -version"
   ]
  },
  {
   "cell_type": "code",
   "execution_count": null,
   "id": "3124016c",
   "metadata": {},
   "outputs": [],
   "source": [
    "#Install nexflow, make it exceutable, and update it\n",
    "! curl https://get.nextflow.io | bash\n",
    "! chmod +x nextflow\n",
    "! ./nextflow self-update\n",
    "! ./nextflow plugin update"
   ]
  },
  {
   "cell_type": "code",
   "execution_count": null,
   "id": "65403c6d-39c8-4e8b-9ceb-3841154396da",
   "metadata": {},
   "outputs": [],
   "source": [
    "!pwd"
   ]
  },
  {
   "cell_type": "code",
   "execution_count": null,
   "id": "cfa2e068",
   "metadata": {},
   "outputs": [],
   "source": [
    "# replace batch bucket name in nextflow configuration file\n",
    "! sed -i \"s/aws-batch-nigms-batch-bucket-/$BUCKET_NAME/g\" wgsbac/nextflow.config"
   ]
  },
  {
   "cell_type": "code",
   "execution_count": null,
   "id": "9417e8be",
   "metadata": {},
   "outputs": [],
   "source": [
    "# replace job queue name in configuration file \n",
    "! sed -i \"s/aws-batch-nigms-JobQueue/$AWS_QUEUE/g\" wgsbac/nextflow.config"
   ]
  },
  {
   "cell_type": "code",
   "execution_count": null,
   "id": "09770029",
   "metadata": {},
   "outputs": [],
   "source": [
    "# replace the region placeholder with your region\n",
    "! sed -i \"s/aws-region/$AWS_REGION/g\" wgsbac/nextflow.config"
   ]
  },
  {
   "cell_type": "markdown",
   "id": "d6424c54-108f-459e-8f14-f2866bfc0141",
   "metadata": {},
   "source": [
    "### Step 2. Enable AWS Batch for the nextflow script "
   ]
  },
  {
   "cell_type": "code",
   "execution_count": null,
   "id": "d6cb4617-b98c-41b6-995d-711d2f722cbf",
   "metadata": {},
   "outputs": [],
   "source": [
    "# Run nextflow script with parameters \n",
    "! ./nextflow run wgsbac/main.nf --input s3://$INPUT_FOLDER/samplesheet_test.csv -profile docker,awsbatch -c wgsbac/nextflow.config --awsqueue $AWS_QUEUE --awsregion $AWS_REGION"
   ]
  },
  {
   "cell_type": "markdown",
   "id": "7187f8dc-bcb6-4caf-b17c-183fc776147f",
   "metadata": {},
   "source": [
    "### Step 3: Explore Results"
   ]
  },
  {
   "cell_type": "code",
   "execution_count": null,
   "id": "db39f248-77c0-4c98-8046-ac78a401c729",
   "metadata": {},
   "outputs": [],
   "source": [
    "# View output files that were output to S3 bucket\n",
    "! aws s3 ls s3://$BUCKET_NAME/nextflow_output/final_reports/final_results/ --recursive | cut -c32-"
   ]
  },
  {
   "cell_type": "code",
   "execution_count": null,
   "id": "de5d0630-1d85-4625-bc04-036aae11ce4a",
   "metadata": {},
   "outputs": [],
   "source": [
    "# Copy output to local results folder (same outdir as if workflow was run locally)\n",
    "! aws s3 sync s3://$BUCKET_NAME/nextflow_output/final_reports/ wgsbac/assets/results/"
   ]
  },
  {
   "cell_type": "code",
   "execution_count": null,
   "id": "b7547218-82bb-4f77-870f-1daa52feceed",
   "metadata": {},
   "outputs": [],
   "source": [
    "%%bash\n",
    "\n",
    "# view contents of local output directory\n",
    "ls wgsbac/assets/results/final_results/*"
   ]
  },
  {
   "cell_type": "code",
   "execution_count": null,
   "id": "16777a14-dc64-4e35-a583-71259021ac33",
   "metadata": {},
   "outputs": [],
   "source": [
    "%%bash\n",
    "\n",
    "# view annotated proteome file(s) output by bakta\n",
    "ls wgsbac/assets/results/final_results/bakta_results/proteomes"
   ]
  },
  {
   "cell_type": "code",
   "execution_count": null,
   "id": "a6852bea-adb3-4570-b3d2-172c518c8da4",
   "metadata": {},
   "outputs": [],
   "source": [
    "# view blobtools plots\n",
    "from IPython.display import Image\n",
    "Image('wgsbac/assets/results/final_results/blobtools_plots/SRR10056829_T1_blobplot.png', width=1000)"
   ]
  },
  {
   "cell_type": "code",
   "execution_count": null,
   "id": "8a8b62cc-e9f9-4e10-9037-514df6900f4c",
   "metadata": {},
   "outputs": [],
   "source": [
    "from IPython.display import Image\n",
    "Image('wgsbac/assets/results/final_results/blobtools_plots/SRR10056829_T1_blobplot_read_cov.png', width=1200)"
   ]
  }
 ],
 "metadata": {
  "kernelspec": {
   "display_name": "conda_python3",
   "language": "python",
   "name": "conda_python3"
  },
  "language_info": {
   "codemirror_mode": {
    "name": "ipython",
    "version": 3
   },
   "file_extension": ".py",
   "mimetype": "text/x-python",
   "name": "python",
   "nbconvert_exporter": "python",
   "pygments_lexer": "ipython3",
   "version": "3.10.16"
  }
 },
 "nbformat": 4,
 "nbformat_minor": 5
}
